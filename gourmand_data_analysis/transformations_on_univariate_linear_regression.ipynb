{
 "cells": [
  {
   "cell_type": "markdown",
   "id": "3ca51644",
   "metadata": {},
   "source": [
    "# Will a business experience acheive a higher amount of reviews based on the number of transactions it provides?\n",
    "\n",
    "> **Explain**"
   ]
  },
  {
   "cell_type": "code",
   "execution_count": 1,
   "id": "b3870fd6",
   "metadata": {},
   "outputs": [],
   "source": [
    "import pandas as pd\n",
    "import statsmodels.api as sm\n",
    "import matplotlib.pyplot as plt\n",
    "import seaborn as sns\n",
    "import numpy as np\n",
    "from google.oauth2 import service_account\n",
    "from google.cloud import bigquery\n",
    "import configparser"
   ]
  },
  {
   "cell_type": "markdown",
   "id": "f04c4fb1",
   "metadata": {},
   "source": [
    "To begin we'll have to run a new sql script to get data from Big Query aside from the other data we've already serialized on our local filesystem."
   ]
  },
  {
   "cell_type": "code",
   "execution_count": 2,
   "id": "d69ec777",
   "metadata": {},
   "outputs": [],
   "source": [
    "KEY_PATH = \"/mnt/c/Users/Ron/git-repos/yelp-data/gourmanddwh-f75384f95e86.json\"\n",
    "CREDS = service_account.Credentials.from_service_account_file(KEY_PATH)\n",
    "client = bigquery.Client(credentials=CREDS, project=CREDS.project_id)\n"
   ]
  },
  {
   "cell_type": "code",
   "execution_count": 4,
   "id": "3d13aaec",
   "metadata": {},
   "outputs": [],
   "source": [
    "transactions_file = open('sql_scripts/business_transactions.sql','r')\n",
    "tran_query =  transactions_file.read()\n",
    "\n",
    "business_transactions_dataframe = (\n",
    "    client.query(tran_query)\n",
    "    .result()\n",
    "    .to_dataframe()\n",
    ")"
   ]
  },
  {
   "cell_type": "code",
   "execution_count": 9,
   "id": "34dc6a61",
   "metadata": {},
   "outputs": [],
   "source": [
    "business_transactions_dataframe.to_parquet('business_transactions.snappy.parquet', 'pyarrow','snappy', partition_cols=['transactions_list'])\n"
   ]
  },
  {
   "cell_type": "code",
   "execution_count": 14,
   "id": "15e0625d",
   "metadata": {},
   "outputs": [],
   "source": [
    "holding_file = open('sql_scripts/business_daily_holding.sql')\n",
    "holding_query = holding_file.read()\n",
    "\n",
    "holding_dataframe : pd.DataFrame = (\n",
    "    client.query(holding_query)\n",
    "    .result()\n",
    "    .to_dataframe()\n",
    ")"
   ]
  },
  {
   "cell_type": "code",
   "execution_count": 15,
   "id": "7f3f8882",
   "metadata": {},
   "outputs": [],
   "source": [
    "holding_dataframe.to_parquet('bus_holdings.snappy.parquet', 'pyarrow','snappy', partition_cols=['CloseDate'])\n"
   ]
  },
  {
   "cell_type": "code",
   "execution_count": 16,
   "id": "63442b8d",
   "metadata": {},
   "outputs": [],
   "source": [
    "cg_df = pd.read_parquet('cg_est', engine='pyarrow')\n",
    "bh_df: pd.DataFrame = pd.read_parquet('bus_holdings.snappy.parquet', engine='pyarrow')\n",
    "bus_cats_df = pd.read_parquet('bus_cats', engine='pyarrow')\n",
    "bt_df = pd.read_parquet('business_transactions.snappy.parquet', engine='pyarrow')\n"
   ]
  },
  {
   "cell_type": "markdown",
   "id": "08ea8539",
   "metadata": {},
   "source": [
    "Our new dataset aggregates the number of transactions for each business and also concatenates the ones that a business has listed with a '**,**' as a separator.\\\n",
    "The data was partioned which is why it is loaded in the way it was. \\\n",
    "Concerning the transaction values themselves there are some businesses who haven't reported any. In this case we opted to just fill in the value other but have kept their transactions count as 0.\n",
    "\n",
    "> Note: Concerning the transactions it seems to be 0 just indicates any regular business outside of the food industry or those that require their customers to come inside to place orders and then carry their food out. For more infromation see the following on [transactions](https://www.yelp.com/developers/documentation/v3/business_search)\n"
   ]
  },
  {
   "cell_type": "code",
   "execution_count": 17,
   "id": "910ba61e",
   "metadata": {
    "scrolled": false
   },
   "outputs": [
    {
     "data": {
      "text/html": [
       "<div>\n",
       "<style scoped>\n",
       "    .dataframe tbody tr th:only-of-type {\n",
       "        vertical-align: middle;\n",
       "    }\n",
       "\n",
       "    .dataframe tbody tr th {\n",
       "        vertical-align: top;\n",
       "    }\n",
       "\n",
       "    .dataframe thead th {\n",
       "        text-align: right;\n",
       "    }\n",
       "</style>\n",
       "<table border=\"1\" class=\"dataframe\">\n",
       "  <thead>\n",
       "    <tr style=\"text-align: right;\">\n",
       "      <th></th>\n",
       "      <th>BusinessKey</th>\n",
       "      <th>BusinessName</th>\n",
       "      <th>transactioncounts</th>\n",
       "      <th>transactions_list</th>\n",
       "    </tr>\n",
       "  </thead>\n",
       "  <tbody>\n",
       "    <tr>\n",
       "      <th>0</th>\n",
       "      <td>35</td>\n",
       "      <td>scott-street-deli-montgomery</td>\n",
       "      <td>1</td>\n",
       "      <td>delivery</td>\n",
       "    </tr>\n",
       "    <tr>\n",
       "      <th>1</th>\n",
       "      <td>88</td>\n",
       "      <td>satori-coffee-house-mobile</td>\n",
       "      <td>1</td>\n",
       "      <td>delivery</td>\n",
       "    </tr>\n",
       "    <tr>\n",
       "      <th>2</th>\n",
       "      <td>986</td>\n",
       "      <td>international-house-of-hotdogs-anchorage</td>\n",
       "      <td>1</td>\n",
       "      <td>delivery</td>\n",
       "    </tr>\n",
       "    <tr>\n",
       "      <th>3</th>\n",
       "      <td>1785</td>\n",
       "      <td>wills-cinnamon-shop-hot-springs-2</td>\n",
       "      <td>1</td>\n",
       "      <td>delivery</td>\n",
       "    </tr>\n",
       "    <tr>\n",
       "      <th>4</th>\n",
       "      <td>1821</td>\n",
       "      <td>capos-tacos-hot-springs</td>\n",
       "      <td>1</td>\n",
       "      <td>delivery</td>\n",
       "    </tr>\n",
       "    <tr>\n",
       "      <th>...</th>\n",
       "      <td>...</td>\n",
       "      <td>...</td>\n",
       "      <td>...</td>\n",
       "      <td>...</td>\n",
       "    </tr>\n",
       "    <tr>\n",
       "      <th>63312</th>\n",
       "      <td>59447</td>\n",
       "      <td>mycovios-ocean-park-2</td>\n",
       "      <td>1</td>\n",
       "      <td>restaurant_reservation</td>\n",
       "    </tr>\n",
       "    <tr>\n",
       "      <th>63313</th>\n",
       "      <td>32560</td>\n",
       "      <td>d-h-lescombes-winery-and-bistro-alamogordo</td>\n",
       "      <td>1</td>\n",
       "      <td>restaurant_reservation</td>\n",
       "    </tr>\n",
       "    <tr>\n",
       "      <th>63314</th>\n",
       "      <td>33115</td>\n",
       "      <td>medley-el-prado</td>\n",
       "      <td>1</td>\n",
       "      <td>restaurant_reservation</td>\n",
       "    </tr>\n",
       "    <tr>\n",
       "      <th>63315</th>\n",
       "      <td>5103</td>\n",
       "      <td>the-pullman-glenwood-springs</td>\n",
       "      <td>1</td>\n",
       "      <td>restaurant_reservation</td>\n",
       "    </tr>\n",
       "    <tr>\n",
       "      <th>63316</th>\n",
       "      <td>42384</td>\n",
       "      <td>busters-main-street-cafe-cottage-grove</td>\n",
       "      <td>1</td>\n",
       "      <td>restaurant_reservation</td>\n",
       "    </tr>\n",
       "  </tbody>\n",
       "</table>\n",
       "<p>63317 rows × 4 columns</p>\n",
       "</div>"
      ],
      "text/plain": [
       "       BusinessKey                                BusinessName  \\\n",
       "0               35                scott-street-deli-montgomery   \n",
       "1               88                  satori-coffee-house-mobile   \n",
       "2              986    international-house-of-hotdogs-anchorage   \n",
       "3             1785           wills-cinnamon-shop-hot-springs-2   \n",
       "4             1821                     capos-tacos-hot-springs   \n",
       "...            ...                                         ...   \n",
       "63312        59447                       mycovios-ocean-park-2   \n",
       "63313        32560  d-h-lescombes-winery-and-bistro-alamogordo   \n",
       "63314        33115                             medley-el-prado   \n",
       "63315         5103                the-pullman-glenwood-springs   \n",
       "63316        42384      busters-main-street-cafe-cottage-grove   \n",
       "\n",
       "       transactioncounts       transactions_list  \n",
       "0                      1                delivery  \n",
       "1                      1                delivery  \n",
       "2                      1                delivery  \n",
       "3                      1                delivery  \n",
       "4                      1                delivery  \n",
       "...                  ...                     ...  \n",
       "63312                  1  restaurant_reservation  \n",
       "63313                  1  restaurant_reservation  \n",
       "63314                  1  restaurant_reservation  \n",
       "63315                  1  restaurant_reservation  \n",
       "63316                  1  restaurant_reservation  \n",
       "\n",
       "[63317 rows x 4 columns]"
      ]
     },
     "execution_count": 17,
     "metadata": {},
     "output_type": "execute_result"
    }
   ],
   "source": [
    "bt_df"
   ]
  },
  {
   "cell_type": "markdown",
   "id": "5c29aa32",
   "metadata": {},
   "source": [
    "As seen in previous analyses and just from some domain knowledge, we know that the distribution of review counts is going to be right skewed. "
   ]
  },
  {
   "cell_type": "code",
   "execution_count": 19,
   "id": "6d1085c1",
   "metadata": {},
   "outputs": [],
   "source": [
    "# the values are partitioned on the close date so there is no need for us to sort the data\n",
    "most_recent_bh_df = bh_df.drop_duplicates(subset='BusinessName', keep='last')\n"
   ]
  },
  {
   "cell_type": "code",
   "execution_count": 37,
   "id": "bb64a32b",
   "metadata": {
    "scrolled": true
   },
   "outputs": [
    {
     "data": {
      "text/html": [
       "<div>\n",
       "<style scoped>\n",
       "    .dataframe tbody tr th:only-of-type {\n",
       "        vertical-align: middle;\n",
       "    }\n",
       "\n",
       "    .dataframe tbody tr th {\n",
       "        vertical-align: top;\n",
       "    }\n",
       "\n",
       "    .dataframe thead th {\n",
       "        text-align: right;\n",
       "    }\n",
       "</style>\n",
       "<table border=\"1\" class=\"dataframe\">\n",
       "  <thead>\n",
       "    <tr style=\"text-align: right;\">\n",
       "      <th></th>\n",
       "      <th>BusinessKey</th>\n",
       "      <th>BusinessName</th>\n",
       "      <th>ChainName</th>\n",
       "      <th>BusinessRating</th>\n",
       "      <th>ReviewCount</th>\n",
       "      <th>previous_review_cnt</th>\n",
       "      <th>previous_rating</th>\n",
       "      <th>abs_review_diff</th>\n",
       "      <th>abs_rating_diff</th>\n",
       "      <th>total_review_cnt_delta</th>\n",
       "      <th>total_bus_rating_delta</th>\n",
       "      <th>CloseDate</th>\n",
       "    </tr>\n",
       "  </thead>\n",
       "  <tbody>\n",
       "    <tr>\n",
       "      <th>0</th>\n",
       "      <td>18065</td>\n",
       "      <td>hog-wild-pit-bar-b-q-salina</td>\n",
       "      <td>Hog Wild Pit Bar-B-Q</td>\n",
       "      <td>4.000000000</td>\n",
       "      <td>66</td>\n",
       "      <td>NaN</td>\n",
       "      <td>None</td>\n",
       "      <td>NaN</td>\n",
       "      <td>None</td>\n",
       "      <td>NaN</td>\n",
       "      <td>None</td>\n",
       "      <td>2021-12-29</td>\n",
       "    </tr>\n",
       "    <tr>\n",
       "      <th>1</th>\n",
       "      <td>27043</td>\n",
       "      <td>mr-bs-frozen-treats-laurel</td>\n",
       "      <td>Mr Bs Frozen Treats</td>\n",
       "      <td>5.000000000</td>\n",
       "      <td>8</td>\n",
       "      <td>NaN</td>\n",
       "      <td>None</td>\n",
       "      <td>NaN</td>\n",
       "      <td>None</td>\n",
       "      <td>NaN</td>\n",
       "      <td>None</td>\n",
       "      <td>2021-12-29</td>\n",
       "    </tr>\n",
       "    <tr>\n",
       "      <th>2</th>\n",
       "      <td>27040</td>\n",
       "      <td>small-coffee-big-taste-laurel-2</td>\n",
       "      <td>Small Coffee Big Taste</td>\n",
       "      <td>4.500000000</td>\n",
       "      <td>14</td>\n",
       "      <td>NaN</td>\n",
       "      <td>None</td>\n",
       "      <td>NaN</td>\n",
       "      <td>None</td>\n",
       "      <td>NaN</td>\n",
       "      <td>None</td>\n",
       "      <td>2021-12-29</td>\n",
       "    </tr>\n",
       "    <tr>\n",
       "      <th>3</th>\n",
       "      <td>25441</td>\n",
       "      <td>white-horse-st-cloud-2</td>\n",
       "      <td>The White Horse Restaurant &amp; Bar</td>\n",
       "      <td>4.000000000</td>\n",
       "      <td>208</td>\n",
       "      <td>NaN</td>\n",
       "      <td>None</td>\n",
       "      <td>NaN</td>\n",
       "      <td>None</td>\n",
       "      <td>NaN</td>\n",
       "      <td>None</td>\n",
       "      <td>2021-12-29</td>\n",
       "    </tr>\n",
       "    <tr>\n",
       "      <th>4</th>\n",
       "      <td>53160</td>\n",
       "      <td>deutschlander-buffalo-gap-2</td>\n",
       "      <td>Deutschlander</td>\n",
       "      <td>4.000000000</td>\n",
       "      <td>37</td>\n",
       "      <td>37.0</td>\n",
       "      <td>4.000000000</td>\n",
       "      <td>0.0</td>\n",
       "      <td>0E-9</td>\n",
       "      <td>0.0</td>\n",
       "      <td>0E-9</td>\n",
       "      <td>2022-01-14</td>\n",
       "    </tr>\n",
       "    <tr>\n",
       "      <th>...</th>\n",
       "      <td>...</td>\n",
       "      <td>...</td>\n",
       "      <td>...</td>\n",
       "      <td>...</td>\n",
       "      <td>...</td>\n",
       "      <td>...</td>\n",
       "      <td>...</td>\n",
       "      <td>...</td>\n",
       "      <td>...</td>\n",
       "      <td>...</td>\n",
       "      <td>...</td>\n",
       "      <td>...</td>\n",
       "    </tr>\n",
       "    <tr>\n",
       "      <th>63312</th>\n",
       "      <td>23543</td>\n",
       "      <td>zzs-sports-bar-and-grill-adrian</td>\n",
       "      <td>ZZ's Sports Bar &amp; Grill</td>\n",
       "      <td>3.500000000</td>\n",
       "      <td>10</td>\n",
       "      <td>10.0</td>\n",
       "      <td>3.500000000</td>\n",
       "      <td>0.0</td>\n",
       "      <td>0E-9</td>\n",
       "      <td>-60.0</td>\n",
       "      <td>0E-9</td>\n",
       "      <td>2022-02-27</td>\n",
       "    </tr>\n",
       "    <tr>\n",
       "      <th>63313</th>\n",
       "      <td>5467</td>\n",
       "      <td>zzzz-s-pizzzza-burlington</td>\n",
       "      <td>ZZZZ’s PIzzzza</td>\n",
       "      <td>5.000000000</td>\n",
       "      <td>1</td>\n",
       "      <td>1.0</td>\n",
       "      <td>5.000000000</td>\n",
       "      <td>0.0</td>\n",
       "      <td>0E-9</td>\n",
       "      <td>-1.0</td>\n",
       "      <td>0.500000000</td>\n",
       "      <td>2022-02-27</td>\n",
       "    </tr>\n",
       "    <tr>\n",
       "      <th>63314</th>\n",
       "      <td>13045</td>\n",
       "      <td>àlavita-boise-2</td>\n",
       "      <td>ÀLAVITA</td>\n",
       "      <td>4.000000000</td>\n",
       "      <td>308</td>\n",
       "      <td>309.0</td>\n",
       "      <td>4.000000000</td>\n",
       "      <td>-1.0</td>\n",
       "      <td>0E-9</td>\n",
       "      <td>55.0</td>\n",
       "      <td>-0.500000000</td>\n",
       "      <td>2022-02-27</td>\n",
       "    </tr>\n",
       "    <tr>\n",
       "      <th>63315</th>\n",
       "      <td>44974</td>\n",
       "      <td>ándale-caguas-2</td>\n",
       "      <td>Ándale</td>\n",
       "      <td>5.000000000</td>\n",
       "      <td>3</td>\n",
       "      <td>3.0</td>\n",
       "      <td>5.000000000</td>\n",
       "      <td>0.0</td>\n",
       "      <td>0E-9</td>\n",
       "      <td>0.0</td>\n",
       "      <td>0E-9</td>\n",
       "      <td>2022-02-27</td>\n",
       "    </tr>\n",
       "    <tr>\n",
       "      <th>63316</th>\n",
       "      <td>6879</td>\n",
       "      <td>él-torito-restaurant-georgetown</td>\n",
       "      <td>Él Torito Restaurant</td>\n",
       "      <td>4.000000000</td>\n",
       "      <td>2</td>\n",
       "      <td>2.0</td>\n",
       "      <td>4.000000000</td>\n",
       "      <td>0.0</td>\n",
       "      <td>0E-9</td>\n",
       "      <td>-2.0</td>\n",
       "      <td>1.000000000</td>\n",
       "      <td>2022-02-27</td>\n",
       "    </tr>\n",
       "  </tbody>\n",
       "</table>\n",
       "<p>63317 rows × 12 columns</p>\n",
       "</div>"
      ],
      "text/plain": [
       "       BusinessKey                     BusinessName  \\\n",
       "0            18065      hog-wild-pit-bar-b-q-salina   \n",
       "1            27043       mr-bs-frozen-treats-laurel   \n",
       "2            27040  small-coffee-big-taste-laurel-2   \n",
       "3            25441           white-horse-st-cloud-2   \n",
       "4            53160      deutschlander-buffalo-gap-2   \n",
       "...            ...                              ...   \n",
       "63312        23543  zzs-sports-bar-and-grill-adrian   \n",
       "63313         5467        zzzz-s-pizzzza-burlington   \n",
       "63314        13045                  àlavita-boise-2   \n",
       "63315        44974                  ándale-caguas-2   \n",
       "63316         6879  él-torito-restaurant-georgetown   \n",
       "\n",
       "                              ChainName BusinessRating  ReviewCount  \\\n",
       "0                  Hog Wild Pit Bar-B-Q    4.000000000           66   \n",
       "1                   Mr Bs Frozen Treats    5.000000000            8   \n",
       "2                Small Coffee Big Taste    4.500000000           14   \n",
       "3      The White Horse Restaurant & Bar    4.000000000          208   \n",
       "4                         Deutschlander    4.000000000           37   \n",
       "...                                 ...            ...          ...   \n",
       "63312           ZZ's Sports Bar & Grill    3.500000000           10   \n",
       "63313                    ZZZZ’s PIzzzza    5.000000000            1   \n",
       "63314                           ÀLAVITA    4.000000000          308   \n",
       "63315                            Ándale    5.000000000            3   \n",
       "63316              Él Torito Restaurant    4.000000000            2   \n",
       "\n",
       "       previous_review_cnt previous_rating  abs_review_diff abs_rating_diff  \\\n",
       "0                      NaN            None              NaN            None   \n",
       "1                      NaN            None              NaN            None   \n",
       "2                      NaN            None              NaN            None   \n",
       "3                      NaN            None              NaN            None   \n",
       "4                     37.0     4.000000000              0.0            0E-9   \n",
       "...                    ...             ...              ...             ...   \n",
       "63312                 10.0     3.500000000              0.0            0E-9   \n",
       "63313                  1.0     5.000000000              0.0            0E-9   \n",
       "63314                309.0     4.000000000             -1.0            0E-9   \n",
       "63315                  3.0     5.000000000              0.0            0E-9   \n",
       "63316                  2.0     4.000000000              0.0            0E-9   \n",
       "\n",
       "       total_review_cnt_delta total_bus_rating_delta   CloseDate  \n",
       "0                         NaN                   None  2021-12-29  \n",
       "1                         NaN                   None  2021-12-29  \n",
       "2                         NaN                   None  2021-12-29  \n",
       "3                         NaN                   None  2021-12-29  \n",
       "4                         0.0                   0E-9  2022-01-14  \n",
       "...                       ...                    ...         ...  \n",
       "63312                   -60.0                   0E-9  2022-02-27  \n",
       "63313                    -1.0            0.500000000  2022-02-27  \n",
       "63314                    55.0           -0.500000000  2022-02-27  \n",
       "63315                     0.0                   0E-9  2022-02-27  \n",
       "63316                    -2.0            1.000000000  2022-02-27  \n",
       "\n",
       "[63317 rows x 12 columns]"
      ]
     },
     "execution_count": 37,
     "metadata": {},
     "output_type": "execute_result"
    }
   ],
   "source": [
    "most_recent_bh_df = most_recent_bh_df.reset_index(drop=True)\n",
    "most_recent_bh_df"
   ]
  },
  {
   "cell_type": "markdown",
   "id": "8af5fc7f",
   "metadata": {},
   "source": [
    "The histogram of the data shows this as well as the kernal density estimate."
   ]
  },
  {
   "cell_type": "code",
   "execution_count": 39,
   "id": "70c3d1cf",
   "metadata": {},
   "outputs": [
    {
     "data": {
      "text/plain": [
       "array([[<AxesSubplot:title={'center':'ReviewCount'}>]], dtype=object)"
      ]
     },
     "execution_count": 39,
     "metadata": {},
     "output_type": "execute_result"
    },
    {
     "data": {
      "image/png": "[encoded data removed]",
      "text/plain": [
       "<Figure size 432x288 with 1 Axes>"
      ]
     },
     "metadata": {
      "needs_background": "light"
     },
     "output_type": "display_data"
    }
   ],
   "source": [
    "most_recent_bh_df.hist('ReviewCount', bins=10)"
   ]
  },
  {
   "cell_type": "code",
   "execution_count": 40,
   "id": "482122dc",
   "metadata": {
    "scrolled": true
   },
   "outputs": [
    {
     "data": {
      "image/png": "[encoded data removed]",
      "text/plain": [
       "<Figure size 1080x720 with 1 Axes>"
      ]
     },
     "metadata": {
      "needs_background": "light"
     },
     "output_type": "display_data"
    }
   ],
   "source": [
    "plt.figure(figsize=(15, 10))\n",
    "sns.kdeplot(most_recent_bh_df['ReviewCount'])\n",
    "plt.show()"
   ]
  },
  {
   "cell_type": "markdown",
   "id": "402be6b7",
   "metadata": {},
   "source": [
    "A more granular look at the data reveals the same as well."
   ]
  },
  {
   "cell_type": "code",
   "execution_count": 42,
   "id": "4c1255ba",
   "metadata": {},
   "outputs": [
    {
     "data": {
      "text/plain": [
       "(-14.514, 1451.3]     0.989813\n",
       "(1451.3, 2902.6]      0.007233\n",
       "(2902.6, 4353.9]      0.001737\n",
       "(4353.9, 5805.2]      0.000727\n",
       "(7256.5, 8707.8]      0.000190\n",
       "(5805.2, 7256.5]      0.000174\n",
       "(8707.8, 10159.1]     0.000063\n",
       "(10159.1, 11610.4]    0.000032\n",
       "(13061.7, 14513.0]    0.000032\n",
       "(11610.4, 13061.7]    0.000000\n",
       "Name: ReviewCount, dtype: float64"
      ]
     },
     "execution_count": 42,
     "metadata": {},
     "output_type": "execute_result"
    }
   ],
   "source": [
    "most_recent_bh_df['ReviewCount'].value_counts(normalize=True ,bins=10)"
   ]
  },
  {
   "cell_type": "markdown",
   "id": "2352c166",
   "metadata": {},
   "source": [
    "With such skew we would ideally take some sort of transformation of this variable whether it be the natural log or some higher-order polynomial, etc.\\\n",
    "But before doing so it may be best to look at the joint distribtuion of our 2 variables ,namely, `transaction counts` and `review counts`."
   ]
  },
  {
   "cell_type": "markdown",
   "id": "04887a28",
   "metadata": {},
   "source": [
    "We'll just merge out data first."
   ]
  },
  {
   "cell_type": "code",
   "execution_count": 47,
   "id": "9db80822",
   "metadata": {},
   "outputs": [
    {
     "data": {
      "text/html": [
       "<div>\n",
       "<style scoped>\n",
       "    .dataframe tbody tr th:only-of-type {\n",
       "        vertical-align: middle;\n",
       "    }\n",
       "\n",
       "    .dataframe tbody tr th {\n",
       "        vertical-align: top;\n",
       "    }\n",
       "\n",
       "    .dataframe thead th {\n",
       "        text-align: right;\n",
       "    }\n",
       "</style>\n",
       "<table border=\"1\" class=\"dataframe\">\n",
       "  <thead>\n",
       "    <tr style=\"text-align: right;\">\n",
       "      <th></th>\n",
       "      <th>BusinessKey</th>\n",
       "      <th>BusinessName_x</th>\n",
       "      <th>ChainName</th>\n",
       "      <th>BusinessRating</th>\n",
       "      <th>ReviewCount</th>\n",
       "      <th>previous_review_cnt</th>\n",
       "      <th>previous_rating</th>\n",
       "      <th>abs_review_diff</th>\n",
       "      <th>abs_rating_diff</th>\n",
       "      <th>total_review_cnt_delta</th>\n",
       "      <th>total_bus_rating_delta</th>\n",
       "      <th>CloseDate</th>\n",
       "      <th>BusinessName_y</th>\n",
       "      <th>transactioncounts</th>\n",
       "      <th>transactions_list</th>\n",
       "    </tr>\n",
       "  </thead>\n",
       "  <tbody>\n",
       "    <tr>\n",
       "      <th>0</th>\n",
       "      <td>18065</td>\n",
       "      <td>hog-wild-pit-bar-b-q-salina</td>\n",
       "      <td>Hog Wild Pit Bar-B-Q</td>\n",
       "      <td>4.000000000</td>\n",
       "      <td>66</td>\n",
       "      <td>NaN</td>\n",
       "      <td>None</td>\n",
       "      <td>NaN</td>\n",
       "      <td>None</td>\n",
       "      <td>NaN</td>\n",
       "      <td>None</td>\n",
       "      <td>2021-12-29</td>\n",
       "      <td>hog-wild-pit-bar-b-q-salina</td>\n",
       "      <td>1</td>\n",
       "      <td>delivery</td>\n",
       "    </tr>\n",
       "    <tr>\n",
       "      <th>1</th>\n",
       "      <td>27043</td>\n",
       "      <td>mr-bs-frozen-treats-laurel</td>\n",
       "      <td>Mr Bs Frozen Treats</td>\n",
       "      <td>5.000000000</td>\n",
       "      <td>8</td>\n",
       "      <td>NaN</td>\n",
       "      <td>None</td>\n",
       "      <td>NaN</td>\n",
       "      <td>None</td>\n",
       "      <td>NaN</td>\n",
       "      <td>None</td>\n",
       "      <td>2021-12-29</td>\n",
       "      <td>mr-bs-frozen-treats-laurel</td>\n",
       "      <td>0</td>\n",
       "      <td>other</td>\n",
       "    </tr>\n",
       "    <tr>\n",
       "      <th>2</th>\n",
       "      <td>27040</td>\n",
       "      <td>small-coffee-big-taste-laurel-2</td>\n",
       "      <td>Small Coffee Big Taste</td>\n",
       "      <td>4.500000000</td>\n",
       "      <td>14</td>\n",
       "      <td>NaN</td>\n",
       "      <td>None</td>\n",
       "      <td>NaN</td>\n",
       "      <td>None</td>\n",
       "      <td>NaN</td>\n",
       "      <td>None</td>\n",
       "      <td>2021-12-29</td>\n",
       "      <td>small-coffee-big-taste-laurel-2</td>\n",
       "      <td>0</td>\n",
       "      <td>other</td>\n",
       "    </tr>\n",
       "    <tr>\n",
       "      <th>3</th>\n",
       "      <td>25441</td>\n",
       "      <td>white-horse-st-cloud-2</td>\n",
       "      <td>The White Horse Restaurant &amp; Bar</td>\n",
       "      <td>4.000000000</td>\n",
       "      <td>208</td>\n",
       "      <td>NaN</td>\n",
       "      <td>None</td>\n",
       "      <td>NaN</td>\n",
       "      <td>None</td>\n",
       "      <td>NaN</td>\n",
       "      <td>None</td>\n",
       "      <td>2021-12-29</td>\n",
       "      <td>white-horse-st-cloud-2</td>\n",
       "      <td>1</td>\n",
       "      <td>delivery</td>\n",
       "    </tr>\n",
       "    <tr>\n",
       "      <th>4</th>\n",
       "      <td>53160</td>\n",
       "      <td>deutschlander-buffalo-gap-2</td>\n",
       "      <td>Deutschlander</td>\n",
       "      <td>4.000000000</td>\n",
       "      <td>37</td>\n",
       "      <td>37.0</td>\n",
       "      <td>4.000000000</td>\n",
       "      <td>0.0</td>\n",
       "      <td>0E-9</td>\n",
       "      <td>0.0</td>\n",
       "      <td>0E-9</td>\n",
       "      <td>2022-01-14</td>\n",
       "      <td>deutschlander-buffalo-gap-2</td>\n",
       "      <td>0</td>\n",
       "      <td>other</td>\n",
       "    </tr>\n",
       "  </tbody>\n",
       "</table>\n",
       "</div>"
      ],
      "text/plain": [
       "   BusinessKey                   BusinessName_x  \\\n",
       "0        18065      hog-wild-pit-bar-b-q-salina   \n",
       "1        27043       mr-bs-frozen-treats-laurel   \n",
       "2        27040  small-coffee-big-taste-laurel-2   \n",
       "3        25441           white-horse-st-cloud-2   \n",
       "4        53160      deutschlander-buffalo-gap-2   \n",
       "\n",
       "                          ChainName BusinessRating  ReviewCount  \\\n",
       "0              Hog Wild Pit Bar-B-Q    4.000000000           66   \n",
       "1               Mr Bs Frozen Treats    5.000000000            8   \n",
       "2            Small Coffee Big Taste    4.500000000           14   \n",
       "3  The White Horse Restaurant & Bar    4.000000000          208   \n",
       "4                     Deutschlander    4.000000000           37   \n",
       "\n",
       "   previous_review_cnt previous_rating  abs_review_diff abs_rating_diff  \\\n",
       "0                  NaN            None              NaN            None   \n",
       "1                  NaN            None              NaN            None   \n",
       "2                  NaN            None              NaN            None   \n",
       "3                  NaN            None              NaN            None   \n",
       "4                 37.0     4.000000000              0.0            0E-9   \n",
       "\n",
       "   total_review_cnt_delta total_bus_rating_delta   CloseDate  \\\n",
       "0                     NaN                   None  2021-12-29   \n",
       "1                     NaN                   None  2021-12-29   \n",
       "2                     NaN                   None  2021-12-29   \n",
       "3                     NaN                   None  2021-12-29   \n",
       "4                     0.0                   0E-9  2022-01-14   \n",
       "\n",
       "                    BusinessName_y  transactioncounts transactions_list  \n",
       "0      hog-wild-pit-bar-b-q-salina                  1          delivery  \n",
       "1       mr-bs-frozen-treats-laurel                  0             other  \n",
       "2  small-coffee-big-taste-laurel-2                  0             other  \n",
       "3           white-horse-st-cloud-2                  1          delivery  \n",
       "4      deutschlander-buffalo-gap-2                  0             other  "
      ]
     },
     "execution_count": 47,
     "metadata": {},
     "output_type": "execute_result"
    }
   ],
   "source": [
    "most_recent_bh_tran_df = pd.merge(left=most_recent_bh_df, right=bt_df, on='BusinessKey', how='inner')\n",
    "most_recent_bh_tran_df.head()"
   ]
  },
  {
   "cell_type": "code",
   "execution_count": 53,
   "id": "27b14848",
   "metadata": {},
   "outputs": [
    {
     "data": {
      "text/plain": [
       "<AxesSubplot:xlabel='transactioncounts', ylabel='ReviewCount'>"
      ]
     },
     "execution_count": 53,
     "metadata": {},
     "output_type": "execute_result"
    },
    {
     "data": {
      "image/png": "[encoded data removed]",
      "text/plain": [
       "<Figure size 1080x720 with 1 Axes>"
      ]
     },
     "metadata": {},
     "output_type": "display_data"
    }
   ],
   "source": [
    "sns.set_theme()\n",
    "plt.figure(figsize=(15, 10))\n",
    "sns.scatterplot(x=most_recent_bh_tran_df['transactioncounts'], y=most_recent_bh_tran_df['ReviewCount'], x_jitter=.30)"
   ]
  },
  {
   "cell_type": "markdown",
   "id": "eae98f43",
   "metadata": {},
   "source": [
    "Basándonos en esta imagen se puede ver que la mejor forma de transformar la cantidad de revistas sería tomar el polynomial, y para ser mas preciso una tranformación de la siguiente forma $$x^2$$ \\\n",
    "Esto es porque el la distribución empieza a subir y luego comienza a bajar después de llegar a una sola transacción.\\\n",
    "El único problema es que este es el variable dependiente así que nos conformamos con tomar el log que tambien puede ayudar. \\\n",
    "El otro problema viene siendo que tambien tenemos cero en este variable."
   ]
  },
  {
   "cell_type": "code",
   "execution_count": 43,
   "id": "81920413",
   "metadata": {},
   "outputs": [
    {
     "data": {
      "text/plain": [
       "10853    0\n",
       "23413    0\n",
       "24761    0\n",
       "25502    0\n",
       "40924    0\n",
       "51025    0\n",
       "25       1\n",
       "38       1\n",
       "40       1\n",
       "47       1\n",
       "Name: ReviewCount, dtype: int64"
      ]
     },
     "execution_count": 43,
     "metadata": {},
     "output_type": "execute_result"
    }
   ],
   "source": [
    "most_recent_bh_df['ReviewCount'].nsmallest(10)"
   ]
  },
  {
   "cell_type": "markdown",
   "id": "4906fe3c",
   "metadata": {},
   "source": [
    "Ya que no hay una cantidad impresionante de ceros podemos botarlos, solo hay seis."
   ]
  },
  {
   "cell_type": "markdown",
   "id": "6e8f4c14",
   "metadata": {},
   "source": [
    "> **Al regrasar sigue quitando los ceros, transformarlo, y piensa en hacer otro proyecto con total review change and review changes (mas complejo)**"
   ]
  },
  {
   "cell_type": "code",
   "execution_count": null,
   "id": "b0285a2c",
   "metadata": {},
   "outputs": [],
   "source": []
  }
 ],
 "metadata": {
  "kernelspec": {
   "display_name": "Python 3 (ipykernel)",
   "language": "python",
   "name": "python3"
  },
  "language_info": {
   "codemirror_mode": {
    "name": "ipython",
    "version": 3
   },
   "file_extension": ".py",
   "mimetype": "text/x-python",
   "name": "python",
   "nbconvert_exporter": "python",
   "pygments_lexer": "ipython3",
   "version": "3.8.10"
  }
 },
 "nbformat": 4,
 "nbformat_minor": 5
}
