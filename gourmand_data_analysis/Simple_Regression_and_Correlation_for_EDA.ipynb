{
 "cells": [
  {
   "cell_type": "markdown",
   "id": "f6036044",
   "metadata": {},
   "source": [
    "# Using Simple Regression and Correlation to help conduct EDA"
   ]
  },
  {
   "cell_type": "code",
   "execution_count": 142,
   "id": "08f8ab33",
   "metadata": {},
   "outputs": [],
   "source": [
    "import pandas as pd\n",
    "import statsmodels.api as sm\n",
    "import matplotlib.pyplot as plt\n",
    "import seaborn as sns\n",
    "from pandas.plotting import scatter_matrix\n",
    "import plotly.graph_objects as go\n",
    "import numpy as np"
   ]
  },
  {
   "cell_type": "code",
   "execution_count": 2,
   "id": "8d7ba874",
   "metadata": {},
   "outputs": [],
   "source": [
    "cg_df = pd.read_parquet('cg_est', engine='pyarrow')\n",
    "bh_df: pd.DataFrame = pd.read_parquet('bus_holdings', engine='pyarrow')\n",
    "bus_cats_df = pd.read_parquet('bus_cats', engine='pyarrow')"
   ]
  },
  {
   "cell_type": "markdown",
   "id": "3304b270",
   "metadata": {},
   "source": [
    "One question we may want to ask is if businesses with a higher variety (i.e. more categories) tend to have higher review counts?"
   ]
  },
  {
   "cell_type": "markdown",
   "id": "deab5d36",
   "metadata": {},
   "source": []
  },
  {
   "cell_type": "code",
   "execution_count": 3,
   "id": "d4a7fd3a",
   "metadata": {
    "scrolled": true
   },
   "outputs": [
    {
     "data": {
      "text/html": [
       "<div>\n",
       "<style scoped>\n",
       "    .dataframe tbody tr th:only-of-type {\n",
       "        vertical-align: middle;\n",
       "    }\n",
       "\n",
       "    .dataframe tbody tr th {\n",
       "        vertical-align: top;\n",
       "    }\n",
       "\n",
       "    .dataframe thead th {\n",
       "        text-align: right;\n",
       "    }\n",
       "</style>\n",
       "<table border=\"1\" class=\"dataframe\">\n",
       "  <thead>\n",
       "    <tr style=\"text-align: right;\">\n",
       "      <th></th>\n",
       "      <th>BusinessName</th>\n",
       "      <th>cat_counts</th>\n",
       "    </tr>\n",
       "  </thead>\n",
       "  <tbody>\n",
       "    <tr>\n",
       "      <th>0</th>\n",
       "      <td>1-chinese-restaurant-coinjock</td>\n",
       "      <td>1</td>\n",
       "    </tr>\n",
       "    <tr>\n",
       "      <th>1</th>\n",
       "      <td>1-cow-ten-sleep</td>\n",
       "      <td>1</td>\n",
       "    </tr>\n",
       "    <tr>\n",
       "      <th>2</th>\n",
       "      <td>1-more-bar-and-grille-bright</td>\n",
       "      <td>2</td>\n",
       "    </tr>\n",
       "    <tr>\n",
       "      <th>3</th>\n",
       "      <td>1-north-steakhouse-hampton-bays-2</td>\n",
       "      <td>1</td>\n",
       "    </tr>\n",
       "    <tr>\n",
       "      <th>4</th>\n",
       "      <td>10-40-coffee-west-plains</td>\n",
       "      <td>1</td>\n",
       "    </tr>\n",
       "    <tr>\n",
       "      <th>...</th>\n",
       "      <td>...</td>\n",
       "      <td>...</td>\n",
       "    </tr>\n",
       "    <tr>\n",
       "      <th>63306</th>\n",
       "      <td>zzs-sports-bar-and-grill-adrian</td>\n",
       "      <td>2</td>\n",
       "    </tr>\n",
       "    <tr>\n",
       "      <th>63307</th>\n",
       "      <td>zzzz-s-pizzzza-burlington</td>\n",
       "      <td>1</td>\n",
       "    </tr>\n",
       "    <tr>\n",
       "      <th>63308</th>\n",
       "      <td>àlavita-boise-2</td>\n",
       "      <td>1</td>\n",
       "    </tr>\n",
       "    <tr>\n",
       "      <th>63309</th>\n",
       "      <td>ándale-caguas-2</td>\n",
       "      <td>2</td>\n",
       "    </tr>\n",
       "    <tr>\n",
       "      <th>63310</th>\n",
       "      <td>él-torito-restaurant-georgetown</td>\n",
       "      <td>1</td>\n",
       "    </tr>\n",
       "  </tbody>\n",
       "</table>\n",
       "<p>63311 rows × 2 columns</p>\n",
       "</div>"
      ],
      "text/plain": [
       "                            BusinessName  cat_counts\n",
       "0          1-chinese-restaurant-coinjock           1\n",
       "1                        1-cow-ten-sleep           1\n",
       "2           1-more-bar-and-grille-bright           2\n",
       "3      1-north-steakhouse-hampton-bays-2           1\n",
       "4               10-40-coffee-west-plains           1\n",
       "...                                  ...         ...\n",
       "63306    zzs-sports-bar-and-grill-adrian           2\n",
       "63307          zzzz-s-pizzzza-burlington           1\n",
       "63308                    àlavita-boise-2           1\n",
       "63309                    ándale-caguas-2           2\n",
       "63310    él-torito-restaurant-georgetown           1\n",
       "\n",
       "[63311 rows x 2 columns]"
      ]
     },
     "execution_count": 3,
     "metadata": {},
     "output_type": "execute_result"
    }
   ],
   "source": [
    "bus_cats_counts_df = bus_cats_df.groupby(['BusinessName'], as_index=False)['BusinessCategoryName'].count()\n",
    "bus_cats_counts_df = bus_cats_counts_df.rename({'BusinessCategoryName': 'cat_counts'}, axis=1)\n",
    "bus_cats_counts_df"
   ]
  },
  {
   "cell_type": "markdown",
   "id": "805e5809",
   "metadata": {},
   "source": []
  },
  {
   "cell_type": "code",
   "execution_count": 4,
   "id": "38475f78",
   "metadata": {},
   "outputs": [
    {
     "data": {
      "text/html": [
       "<div>\n",
       "<style scoped>\n",
       "    .dataframe tbody tr th:only-of-type {\n",
       "        vertical-align: middle;\n",
       "    }\n",
       "\n",
       "    .dataframe tbody tr th {\n",
       "        vertical-align: top;\n",
       "    }\n",
       "\n",
       "    .dataframe thead th {\n",
       "        text-align: right;\n",
       "    }\n",
       "</style>\n",
       "<table border=\"1\" class=\"dataframe\">\n",
       "  <thead>\n",
       "    <tr style=\"text-align: right;\">\n",
       "      <th></th>\n",
       "      <th>BusinessName</th>\n",
       "      <th>ChainName</th>\n",
       "      <th>BusinessRating</th>\n",
       "      <th>ReviewCount</th>\n",
       "      <th>previous_review_cnt</th>\n",
       "      <th>previous_rating</th>\n",
       "      <th>abs_review_diff</th>\n",
       "      <th>abs_rating_diff</th>\n",
       "      <th>total_review_cnt_delta</th>\n",
       "      <th>total_bus_rating_delta</th>\n",
       "      <th>CloseDate</th>\n",
       "    </tr>\n",
       "  </thead>\n",
       "  <tbody>\n",
       "    <tr>\n",
       "      <th>0</th>\n",
       "      <td>1-chinese-restaurant-coinjock</td>\n",
       "      <td>1 Chinese Restaurant</td>\n",
       "      <td>3.000000000</td>\n",
       "      <td>2</td>\n",
       "      <td>2.0</td>\n",
       "      <td>3.000000000</td>\n",
       "      <td>0.0</td>\n",
       "      <td>0E-9</td>\n",
       "      <td>0.0</td>\n",
       "      <td>0E-9</td>\n",
       "      <td>2022-02-09</td>\n",
       "    </tr>\n",
       "    <tr>\n",
       "      <th>1</th>\n",
       "      <td>1-cow-ten-sleep</td>\n",
       "      <td>1 Cow</td>\n",
       "      <td>4.500000000</td>\n",
       "      <td>6</td>\n",
       "      <td>6.0</td>\n",
       "      <td>4.500000000</td>\n",
       "      <td>0.0</td>\n",
       "      <td>0E-9</td>\n",
       "      <td>0.0</td>\n",
       "      <td>0E-9</td>\n",
       "      <td>2022-02-07</td>\n",
       "    </tr>\n",
       "    <tr>\n",
       "      <th>2</th>\n",
       "      <td>1-more-bar-and-grille-bright</td>\n",
       "      <td>1 More Bar &amp; Grille</td>\n",
       "      <td>4.000000000</td>\n",
       "      <td>9</td>\n",
       "      <td>9.0</td>\n",
       "      <td>4.000000000</td>\n",
       "      <td>0.0</td>\n",
       "      <td>0E-9</td>\n",
       "      <td>0.0</td>\n",
       "      <td>0E-9</td>\n",
       "      <td>2022-02-09</td>\n",
       "    </tr>\n",
       "    <tr>\n",
       "      <th>3</th>\n",
       "      <td>1-north-steakhouse-hampton-bays-2</td>\n",
       "      <td>1 North Steakhouse</td>\n",
       "      <td>4.000000000</td>\n",
       "      <td>149</td>\n",
       "      <td>149.0</td>\n",
       "      <td>4.000000000</td>\n",
       "      <td>0.0</td>\n",
       "      <td>0E-9</td>\n",
       "      <td>2.0</td>\n",
       "      <td>0E-9</td>\n",
       "      <td>2022-02-09</td>\n",
       "    </tr>\n",
       "    <tr>\n",
       "      <th>4</th>\n",
       "      <td>10-40-coffee-west-plains</td>\n",
       "      <td>10/40 Coffee</td>\n",
       "      <td>5.000000000</td>\n",
       "      <td>11</td>\n",
       "      <td>11.0</td>\n",
       "      <td>5.000000000</td>\n",
       "      <td>0.0</td>\n",
       "      <td>0E-9</td>\n",
       "      <td>0.0</td>\n",
       "      <td>0E-9</td>\n",
       "      <td>2022-02-09</td>\n",
       "    </tr>\n",
       "    <tr>\n",
       "      <th>...</th>\n",
       "      <td>...</td>\n",
       "      <td>...</td>\n",
       "      <td>...</td>\n",
       "      <td>...</td>\n",
       "      <td>...</td>\n",
       "      <td>...</td>\n",
       "      <td>...</td>\n",
       "      <td>...</td>\n",
       "      <td>...</td>\n",
       "      <td>...</td>\n",
       "      <td>...</td>\n",
       "    </tr>\n",
       "    <tr>\n",
       "      <th>63312</th>\n",
       "      <td>zzs-sports-bar-and-grill-adrian</td>\n",
       "      <td>ZZ's Sports Bar &amp; Grill</td>\n",
       "      <td>3.500000000</td>\n",
       "      <td>10</td>\n",
       "      <td>10.0</td>\n",
       "      <td>3.500000000</td>\n",
       "      <td>0.0</td>\n",
       "      <td>0E-9</td>\n",
       "      <td>0.0</td>\n",
       "      <td>0E-9</td>\n",
       "      <td>2022-02-09</td>\n",
       "    </tr>\n",
       "    <tr>\n",
       "      <th>63313</th>\n",
       "      <td>zzzz-s-pizzzza-burlington</td>\n",
       "      <td>ZZZZ’s PIzzzza</td>\n",
       "      <td>5.000000000</td>\n",
       "      <td>1</td>\n",
       "      <td>1.0</td>\n",
       "      <td>5.000000000</td>\n",
       "      <td>0.0</td>\n",
       "      <td>0E-9</td>\n",
       "      <td>0.0</td>\n",
       "      <td>0E-9</td>\n",
       "      <td>2022-02-09</td>\n",
       "    </tr>\n",
       "    <tr>\n",
       "      <th>63314</th>\n",
       "      <td>àlavita-boise-2</td>\n",
       "      <td>ÀLAVITA</td>\n",
       "      <td>4.000000000</td>\n",
       "      <td>307</td>\n",
       "      <td>307.0</td>\n",
       "      <td>4.000000000</td>\n",
       "      <td>0.0</td>\n",
       "      <td>0E-9</td>\n",
       "      <td>3.0</td>\n",
       "      <td>0E-9</td>\n",
       "      <td>2022-02-09</td>\n",
       "    </tr>\n",
       "    <tr>\n",
       "      <th>63315</th>\n",
       "      <td>ándale-caguas-2</td>\n",
       "      <td>Ándale</td>\n",
       "      <td>5.000000000</td>\n",
       "      <td>3</td>\n",
       "      <td>3.0</td>\n",
       "      <td>5.000000000</td>\n",
       "      <td>0.0</td>\n",
       "      <td>0E-9</td>\n",
       "      <td>0.0</td>\n",
       "      <td>0E-9</td>\n",
       "      <td>2022-02-07</td>\n",
       "    </tr>\n",
       "    <tr>\n",
       "      <th>63316</th>\n",
       "      <td>él-torito-restaurant-georgetown</td>\n",
       "      <td>Él Torito Restaurant</td>\n",
       "      <td>4.000000000</td>\n",
       "      <td>2</td>\n",
       "      <td>2.0</td>\n",
       "      <td>4.000000000</td>\n",
       "      <td>0.0</td>\n",
       "      <td>0E-9</td>\n",
       "      <td>0.0</td>\n",
       "      <td>0E-9</td>\n",
       "      <td>2022-02-09</td>\n",
       "    </tr>\n",
       "  </tbody>\n",
       "</table>\n",
       "<p>63317 rows × 11 columns</p>\n",
       "</div>"
      ],
      "text/plain": [
       "                            BusinessName                ChainName  \\\n",
       "0          1-chinese-restaurant-coinjock     1 Chinese Restaurant   \n",
       "1                        1-cow-ten-sleep                    1 Cow   \n",
       "2           1-more-bar-and-grille-bright      1 More Bar & Grille   \n",
       "3      1-north-steakhouse-hampton-bays-2       1 North Steakhouse   \n",
       "4               10-40-coffee-west-plains             10/40 Coffee   \n",
       "...                                  ...                      ...   \n",
       "63312    zzs-sports-bar-and-grill-adrian  ZZ's Sports Bar & Grill   \n",
       "63313          zzzz-s-pizzzza-burlington           ZZZZ’s PIzzzza   \n",
       "63314                    àlavita-boise-2                  ÀLAVITA   \n",
       "63315                    ándale-caguas-2                   Ándale   \n",
       "63316    él-torito-restaurant-georgetown     Él Torito Restaurant   \n",
       "\n",
       "      BusinessRating  ReviewCount  previous_review_cnt previous_rating  \\\n",
       "0        3.000000000            2                  2.0     3.000000000   \n",
       "1        4.500000000            6                  6.0     4.500000000   \n",
       "2        4.000000000            9                  9.0     4.000000000   \n",
       "3        4.000000000          149                149.0     4.000000000   \n",
       "4        5.000000000           11                 11.0     5.000000000   \n",
       "...              ...          ...                  ...             ...   \n",
       "63312    3.500000000           10                 10.0     3.500000000   \n",
       "63313    5.000000000            1                  1.0     5.000000000   \n",
       "63314    4.000000000          307                307.0     4.000000000   \n",
       "63315    5.000000000            3                  3.0     5.000000000   \n",
       "63316    4.000000000            2                  2.0     4.000000000   \n",
       "\n",
       "       abs_review_diff abs_rating_diff  total_review_cnt_delta  \\\n",
       "0                  0.0            0E-9                     0.0   \n",
       "1                  0.0            0E-9                     0.0   \n",
       "2                  0.0            0E-9                     0.0   \n",
       "3                  0.0            0E-9                     2.0   \n",
       "4                  0.0            0E-9                     0.0   \n",
       "...                ...             ...                     ...   \n",
       "63312              0.0            0E-9                     0.0   \n",
       "63313              0.0            0E-9                     0.0   \n",
       "63314              0.0            0E-9                     3.0   \n",
       "63315              0.0            0E-9                     0.0   \n",
       "63316              0.0            0E-9                     0.0   \n",
       "\n",
       "      total_bus_rating_delta   CloseDate  \n",
       "0                       0E-9  2022-02-09  \n",
       "1                       0E-9  2022-02-07  \n",
       "2                       0E-9  2022-02-09  \n",
       "3                       0E-9  2022-02-09  \n",
       "4                       0E-9  2022-02-09  \n",
       "...                      ...         ...  \n",
       "63312                   0E-9  2022-02-09  \n",
       "63313                   0E-9  2022-02-09  \n",
       "63314                   0E-9  2022-02-09  \n",
       "63315                   0E-9  2022-02-07  \n",
       "63316                   0E-9  2022-02-09  \n",
       "\n",
       "[63317 rows x 11 columns]"
      ]
     },
     "execution_count": 4,
     "metadata": {},
     "output_type": "execute_result"
    }
   ],
   "source": [
    "most_recent_bus_df = bh_df.sort_values(by='CloseDate', ascending=True).groupby(['BusinessName'], as_index=False).last()\n",
    "most_recent_bus_df"
   ]
  },
  {
   "cell_type": "markdown",
   "id": "93f62998",
   "metadata": {},
   "source": []
  },
  {
   "cell_type": "code",
   "execution_count": 5,
   "id": "d2b5306e",
   "metadata": {},
   "outputs": [
    {
     "data": {
      "text/html": [
       "<div>\n",
       "<style scoped>\n",
       "    .dataframe tbody tr th:only-of-type {\n",
       "        vertical-align: middle;\n",
       "    }\n",
       "\n",
       "    .dataframe tbody tr th {\n",
       "        vertical-align: top;\n",
       "    }\n",
       "\n",
       "    .dataframe thead th {\n",
       "        text-align: right;\n",
       "    }\n",
       "</style>\n",
       "<table border=\"1\" class=\"dataframe\">\n",
       "  <thead>\n",
       "    <tr style=\"text-align: right;\">\n",
       "      <th></th>\n",
       "      <th>BusinessName</th>\n",
       "      <th>ChainName</th>\n",
       "      <th>BusinessRating</th>\n",
       "      <th>ReviewCount</th>\n",
       "      <th>previous_review_cnt</th>\n",
       "      <th>previous_rating</th>\n",
       "      <th>abs_review_diff</th>\n",
       "      <th>abs_rating_diff</th>\n",
       "      <th>total_review_cnt_delta</th>\n",
       "      <th>total_bus_rating_delta</th>\n",
       "      <th>CloseDate</th>\n",
       "      <th>cat_counts</th>\n",
       "    </tr>\n",
       "  </thead>\n",
       "  <tbody>\n",
       "    <tr>\n",
       "      <th>0</th>\n",
       "      <td>1-chinese-restaurant-coinjock</td>\n",
       "      <td>1 Chinese Restaurant</td>\n",
       "      <td>3.000000000</td>\n",
       "      <td>2</td>\n",
       "      <td>2.0</td>\n",
       "      <td>3.000000000</td>\n",
       "      <td>0.0</td>\n",
       "      <td>0E-9</td>\n",
       "      <td>0.0</td>\n",
       "      <td>0E-9</td>\n",
       "      <td>2022-02-09</td>\n",
       "      <td>1</td>\n",
       "    </tr>\n",
       "    <tr>\n",
       "      <th>1</th>\n",
       "      <td>1-cow-ten-sleep</td>\n",
       "      <td>1 Cow</td>\n",
       "      <td>4.500000000</td>\n",
       "      <td>6</td>\n",
       "      <td>6.0</td>\n",
       "      <td>4.500000000</td>\n",
       "      <td>0.0</td>\n",
       "      <td>0E-9</td>\n",
       "      <td>0.0</td>\n",
       "      <td>0E-9</td>\n",
       "      <td>2022-02-07</td>\n",
       "      <td>1</td>\n",
       "    </tr>\n",
       "    <tr>\n",
       "      <th>2</th>\n",
       "      <td>1-more-bar-and-grille-bright</td>\n",
       "      <td>1 More Bar &amp; Grille</td>\n",
       "      <td>4.000000000</td>\n",
       "      <td>9</td>\n",
       "      <td>9.0</td>\n",
       "      <td>4.000000000</td>\n",
       "      <td>0.0</td>\n",
       "      <td>0E-9</td>\n",
       "      <td>0.0</td>\n",
       "      <td>0E-9</td>\n",
       "      <td>2022-02-09</td>\n",
       "      <td>2</td>\n",
       "    </tr>\n",
       "    <tr>\n",
       "      <th>3</th>\n",
       "      <td>1-north-steakhouse-hampton-bays-2</td>\n",
       "      <td>1 North Steakhouse</td>\n",
       "      <td>4.000000000</td>\n",
       "      <td>149</td>\n",
       "      <td>149.0</td>\n",
       "      <td>4.000000000</td>\n",
       "      <td>0.0</td>\n",
       "      <td>0E-9</td>\n",
       "      <td>2.0</td>\n",
       "      <td>0E-9</td>\n",
       "      <td>2022-02-09</td>\n",
       "      <td>1</td>\n",
       "    </tr>\n",
       "    <tr>\n",
       "      <th>4</th>\n",
       "      <td>10-40-coffee-west-plains</td>\n",
       "      <td>10/40 Coffee</td>\n",
       "      <td>5.000000000</td>\n",
       "      <td>11</td>\n",
       "      <td>11.0</td>\n",
       "      <td>5.000000000</td>\n",
       "      <td>0.0</td>\n",
       "      <td>0E-9</td>\n",
       "      <td>0.0</td>\n",
       "      <td>0E-9</td>\n",
       "      <td>2022-02-09</td>\n",
       "      <td>1</td>\n",
       "    </tr>\n",
       "    <tr>\n",
       "      <th>...</th>\n",
       "      <td>...</td>\n",
       "      <td>...</td>\n",
       "      <td>...</td>\n",
       "      <td>...</td>\n",
       "      <td>...</td>\n",
       "      <td>...</td>\n",
       "      <td>...</td>\n",
       "      <td>...</td>\n",
       "      <td>...</td>\n",
       "      <td>...</td>\n",
       "      <td>...</td>\n",
       "      <td>...</td>\n",
       "    </tr>\n",
       "    <tr>\n",
       "      <th>63306</th>\n",
       "      <td>zzs-sports-bar-and-grill-adrian</td>\n",
       "      <td>ZZ's Sports Bar &amp; Grill</td>\n",
       "      <td>3.500000000</td>\n",
       "      <td>10</td>\n",
       "      <td>10.0</td>\n",
       "      <td>3.500000000</td>\n",
       "      <td>0.0</td>\n",
       "      <td>0E-9</td>\n",
       "      <td>0.0</td>\n",
       "      <td>0E-9</td>\n",
       "      <td>2022-02-09</td>\n",
       "      <td>2</td>\n",
       "    </tr>\n",
       "    <tr>\n",
       "      <th>63307</th>\n",
       "      <td>zzzz-s-pizzzza-burlington</td>\n",
       "      <td>ZZZZ’s PIzzzza</td>\n",
       "      <td>5.000000000</td>\n",
       "      <td>1</td>\n",
       "      <td>1.0</td>\n",
       "      <td>5.000000000</td>\n",
       "      <td>0.0</td>\n",
       "      <td>0E-9</td>\n",
       "      <td>0.0</td>\n",
       "      <td>0E-9</td>\n",
       "      <td>2022-02-09</td>\n",
       "      <td>1</td>\n",
       "    </tr>\n",
       "    <tr>\n",
       "      <th>63308</th>\n",
       "      <td>àlavita-boise-2</td>\n",
       "      <td>ÀLAVITA</td>\n",
       "      <td>4.000000000</td>\n",
       "      <td>307</td>\n",
       "      <td>307.0</td>\n",
       "      <td>4.000000000</td>\n",
       "      <td>0.0</td>\n",
       "      <td>0E-9</td>\n",
       "      <td>3.0</td>\n",
       "      <td>0E-9</td>\n",
       "      <td>2022-02-09</td>\n",
       "      <td>1</td>\n",
       "    </tr>\n",
       "    <tr>\n",
       "      <th>63309</th>\n",
       "      <td>ándale-caguas-2</td>\n",
       "      <td>Ándale</td>\n",
       "      <td>5.000000000</td>\n",
       "      <td>3</td>\n",
       "      <td>3.0</td>\n",
       "      <td>5.000000000</td>\n",
       "      <td>0.0</td>\n",
       "      <td>0E-9</td>\n",
       "      <td>0.0</td>\n",
       "      <td>0E-9</td>\n",
       "      <td>2022-02-07</td>\n",
       "      <td>2</td>\n",
       "    </tr>\n",
       "    <tr>\n",
       "      <th>63310</th>\n",
       "      <td>él-torito-restaurant-georgetown</td>\n",
       "      <td>Él Torito Restaurant</td>\n",
       "      <td>4.000000000</td>\n",
       "      <td>2</td>\n",
       "      <td>2.0</td>\n",
       "      <td>4.000000000</td>\n",
       "      <td>0.0</td>\n",
       "      <td>0E-9</td>\n",
       "      <td>0.0</td>\n",
       "      <td>0E-9</td>\n",
       "      <td>2022-02-09</td>\n",
       "      <td>1</td>\n",
       "    </tr>\n",
       "  </tbody>\n",
       "</table>\n",
       "<p>63311 rows × 12 columns</p>\n",
       "</div>"
      ],
      "text/plain": [
       "                            BusinessName                ChainName  \\\n",
       "0          1-chinese-restaurant-coinjock     1 Chinese Restaurant   \n",
       "1                        1-cow-ten-sleep                    1 Cow   \n",
       "2           1-more-bar-and-grille-bright      1 More Bar & Grille   \n",
       "3      1-north-steakhouse-hampton-bays-2       1 North Steakhouse   \n",
       "4               10-40-coffee-west-plains             10/40 Coffee   \n",
       "...                                  ...                      ...   \n",
       "63306    zzs-sports-bar-and-grill-adrian  ZZ's Sports Bar & Grill   \n",
       "63307          zzzz-s-pizzzza-burlington           ZZZZ’s PIzzzza   \n",
       "63308                    àlavita-boise-2                  ÀLAVITA   \n",
       "63309                    ándale-caguas-2                   Ándale   \n",
       "63310    él-torito-restaurant-georgetown     Él Torito Restaurant   \n",
       "\n",
       "      BusinessRating  ReviewCount  previous_review_cnt previous_rating  \\\n",
       "0        3.000000000            2                  2.0     3.000000000   \n",
       "1        4.500000000            6                  6.0     4.500000000   \n",
       "2        4.000000000            9                  9.0     4.000000000   \n",
       "3        4.000000000          149                149.0     4.000000000   \n",
       "4        5.000000000           11                 11.0     5.000000000   \n",
       "...              ...          ...                  ...             ...   \n",
       "63306    3.500000000           10                 10.0     3.500000000   \n",
       "63307    5.000000000            1                  1.0     5.000000000   \n",
       "63308    4.000000000          307                307.0     4.000000000   \n",
       "63309    5.000000000            3                  3.0     5.000000000   \n",
       "63310    4.000000000            2                  2.0     4.000000000   \n",
       "\n",
       "       abs_review_diff abs_rating_diff  total_review_cnt_delta  \\\n",
       "0                  0.0            0E-9                     0.0   \n",
       "1                  0.0            0E-9                     0.0   \n",
       "2                  0.0            0E-9                     0.0   \n",
       "3                  0.0            0E-9                     2.0   \n",
       "4                  0.0            0E-9                     0.0   \n",
       "...                ...             ...                     ...   \n",
       "63306              0.0            0E-9                     0.0   \n",
       "63307              0.0            0E-9                     0.0   \n",
       "63308              0.0            0E-9                     3.0   \n",
       "63309              0.0            0E-9                     0.0   \n",
       "63310              0.0            0E-9                     0.0   \n",
       "\n",
       "      total_bus_rating_delta   CloseDate  cat_counts  \n",
       "0                       0E-9  2022-02-09           1  \n",
       "1                       0E-9  2022-02-07           1  \n",
       "2                       0E-9  2022-02-09           2  \n",
       "3                       0E-9  2022-02-09           1  \n",
       "4                       0E-9  2022-02-09           1  \n",
       "...                      ...         ...         ...  \n",
       "63306                   0E-9  2022-02-09           2  \n",
       "63307                   0E-9  2022-02-09           1  \n",
       "63308                   0E-9  2022-02-09           1  \n",
       "63309                   0E-9  2022-02-07           2  \n",
       "63310                   0E-9  2022-02-09           1  \n",
       "\n",
       "[63311 rows x 12 columns]"
      ]
     },
     "execution_count": 5,
     "metadata": {},
     "output_type": "execute_result"
    }
   ],
   "source": [
    "most_recent_bus_cats_df = pd.merge(left=most_recent_bus_df, right=bus_cats_counts_df, on='BusinessName', how='inner')\n",
    "most_recent_bus_cats_df"
   ]
  },
  {
   "cell_type": "markdown",
   "id": "29f78d52",
   "metadata": {},
   "source": []
  },
  {
   "cell_type": "code",
   "execution_count": 6,
   "id": "2c35d06d",
   "metadata": {},
   "outputs": [
    {
     "data": {
      "text/plain": [
       "BusinessName                object\n",
       "ChainName                   object\n",
       "BusinessRating             float64\n",
       "ReviewCount                  int64\n",
       "previous_review_cnt        float64\n",
       "previous_rating            float64\n",
       "abs_review_diff            float64\n",
       "abs_rating_diff            float64\n",
       "total_review_cnt_delta     float64\n",
       "total_bus_rating_delta     float64\n",
       "CloseDate                 category\n",
       "cat_counts                   int64\n",
       "dtype: object"
      ]
     },
     "execution_count": 6,
     "metadata": {},
     "output_type": "execute_result"
    }
   ],
   "source": [
    "for col in most_recent_bus_cats_df.filter(regex= '[Rr]ating', axis=1).columns:\n",
    "    most_recent_bus_cats_df[col] = most_recent_bus_cats_df[col].astype(float)\n",
    "most_recent_bus_cats_df.dtypes"
   ]
  },
  {
   "cell_type": "markdown",
   "id": "014311eb",
   "metadata": {},
   "source": []
  },
  {
   "cell_type": "code",
   "execution_count": 7,
   "id": "09d7f8dd",
   "metadata": {},
   "outputs": [
    {
     "data": {
      "text/plain": [
       "BusinessRating           -0.050409\n",
       "previous_rating          -0.049321\n",
       "total_bus_rating_delta   -0.005122\n",
       "abs_rating_diff          -0.001098\n",
       "abs_review_diff           0.043315\n",
       "ReviewCount               0.104611\n",
       "previous_review_cnt       0.104869\n",
       "total_review_cnt_delta    0.120964\n",
       "cat_counts                1.000000\n",
       "Name: cat_counts, dtype: float64"
      ]
     },
     "execution_count": 7,
     "metadata": {},
     "output_type": "execute_result"
    }
   ],
   "source": [
    "cat_counts_corr = most_recent_bus_cats_df.corr()['cat_counts']\n",
    "cat_counts_corr.sort_values()"
   ]
  },
  {
   "cell_type": "markdown",
   "id": "ed9c937b",
   "metadata": {},
   "source": [
    "The greatest correlation that `cat_counts` has seems to be with columns related to the review count. These correlations can be visualized so we can see such correlation a bit easier"
   ]
  },
  {
   "cell_type": "code",
   "execution_count": 8,
   "id": "c3b3357d",
   "metadata": {},
   "outputs": [
    {
     "data": {
      "image/png": "[encoded data removed]",
      "text/plain": [
       "<Figure size 1080x720 with 2 Axes>"
      ]
     },
     "metadata": {
      "needs_background": "light"
     },
     "output_type": "display_data"
    }
   ],
   "source": [
    "plt.figure(figsize=(15, 10))\n",
    "sns.heatmap(most_recent_bus_cats_df.corr()[:-1], xticklabels=most_recent_bus_cats_df.corr()[:-1].columns, yticklabels=most_recent_bus_cats_df.corr()[:-1].columns, cmap='coolwarm')\n",
    "plt.title('Heat Map of Correlation')\n",
    "plt.tight_layout()\n",
    "plt.show()"
   ]
  },
  {
   "cell_type": "markdown",
   "id": "9caaed36",
   "metadata": {},
   "source": [
    "Another method is to do some form of regression whether linear, non-parametric, etc.\\\n",
    "Before doing these however, it may be best to glance at the histograms of these variables to see if some further transformation needs to be done."
   ]
  },
  {
   "cell_type": "code",
   "execution_count": 9,
   "id": "ef86da47",
   "metadata": {},
   "outputs": [
    {
     "data": {
      "text/plain": [
       "array([[<AxesSubplot:title={'center':'cat_counts'}>,\n",
       "        <AxesSubplot:title={'center':'total_review_cnt_delta'}>],\n",
       "       [<AxesSubplot:title={'center':'previous_review_cnt'}>,\n",
       "        <AxesSubplot:title={'center':'ReviewCount'}>]], dtype=object)"
      ]
     },
     "execution_count": 9,
     "metadata": {},
     "output_type": "execute_result"
    },
    {
     "data": {
      "image/png": "[encoded data removed]",
      "text/plain": [
       "<Figure size 1080x720 with 4 Axes>"
      ]
     },
     "metadata": {
      "needs_background": "light"
     },
     "output_type": "display_data"
    }
   ],
   "source": [
    "most_recent_bus_cats_df.hist(column=[\n",
    "    'cat_counts', 'total_review_cnt_delta', 'previous_review_cnt', 'ReviewCount'], figsize=(15, 10), bins=10)"
   ]
  },
  {
   "cell_type": "markdown",
   "id": "222a73a6",
   "metadata": {},
   "source": [
    "We'll come back to this question a bit later for now it seems best to just keep the variables as is however we will have to keep in mind that there seem to be some extreme values.\n"
   ]
  },
  {
   "cell_type": "code",
   "execution_count": 10,
   "id": "d7206a0c",
   "metadata": {},
   "outputs": [
    {
     "data": {
      "text/plain": [
       "<AxesSubplot:xlabel='cat_counts', ylabel='total_review_cnt_delta'>"
      ]
     },
     "execution_count": 10,
     "metadata": {},
     "output_type": "execute_result"
    },
    {
     "data": {
      "image/png": "[encoded data removed]",
      "text/plain": [
       "<Figure size 1080x720 with 1 Axes>"
      ]
     },
     "metadata": {
      "needs_background": "light"
     },
     "output_type": "display_data"
    }
   ],
   "source": [
    "plt.figure(figsize=(15, 10))\n",
    "sns.regplot(x=most_recent_bus_cats_df['cat_counts'], y=most_recent_bus_cats_df['total_review_cnt_delta'], x_jitter=.05)\n"
   ]
  },
  {
   "cell_type": "markdown",
   "id": "79f66ffe",
   "metadata": {},
   "source": [
    "Interesting to note is that the the businesses with 3 counts do tend to have a higher absolute review change over the observed period than businesses with less counts (i.e. less variety). However the pattern isn't linear at all now this may be due to the fact that category counts of 4 and 5 could be considered extreme values moreover, since these form part of our explanatory variables (i.e. right-side) an option could be to remove them from our dataset. Before making such a decision we should review these observations first."
   ]
  },
  {
   "cell_type": "markdown",
   "id": "90abdb31",
   "metadata": {},
   "source": [
    "We can make a quick function to assist with that"
   ]
  },
  {
   "cell_type": "code",
   "execution_count": 11,
   "id": "39c41735",
   "metadata": {},
   "outputs": [],
   "source": [
    "def bus_cat_groups(x):\n",
    "    group_dict = {}\n",
    "    cats = []\n",
    "    for row in x:\n",
    "        cats.append(row)\n",
    "    group_dict['cats'] = cats\n",
    "    group_dict['goe_4'] = (1 if len(cats) >= 4 else 0)\n",
    "    return pd.Series(group_dict)"
   ]
  },
  {
   "cell_type": "code",
   "execution_count": 42,
   "id": "809aa63f",
   "metadata": {
    "scrolled": true
   },
   "outputs": [
    {
     "data": {
      "text/html": [
       "<div>\n",
       "<style scoped>\n",
       "    .dataframe tbody tr th:only-of-type {\n",
       "        vertical-align: middle;\n",
       "    }\n",
       "\n",
       "    .dataframe tbody tr th {\n",
       "        vertical-align: top;\n",
       "    }\n",
       "\n",
       "    .dataframe thead th {\n",
       "        text-align: right;\n",
       "    }\n",
       "</style>\n",
       "<table border=\"1\" class=\"dataframe\">\n",
       "  <thead>\n",
       "    <tr style=\"text-align: right;\">\n",
       "      <th></th>\n",
       "      <th>BusinessName</th>\n",
       "      <th>CityName</th>\n",
       "      <th>CountyName</th>\n",
       "      <th>CountryName</th>\n",
       "      <th>StateName</th>\n",
       "      <th>Latitude</th>\n",
       "      <th>Longitude</th>\n",
       "      <th>cats</th>\n",
       "      <th>goe_4</th>\n",
       "    </tr>\n",
       "  </thead>\n",
       "  <tbody>\n",
       "    <tr>\n",
       "      <th>1235</th>\n",
       "      <td>alicias-sugar-shack-twain-harte-4</td>\n",
       "      <td>Twain Harte</td>\n",
       "      <td>Tuolumne County</td>\n",
       "      <td>US</td>\n",
       "      <td>California</td>\n",
       "      <td>38.060581000</td>\n",
       "      <td>-120.199654000</td>\n",
       "      <td>[Bakeries, Breakfast &amp; Brunch, Cafes, Coffee &amp; Tea]</td>\n",
       "      <td>1</td>\n",
       "    </tr>\n",
       "    <tr>\n",
       "      <th>5634</th>\n",
       "      <td>boathouse-restaurant-winona-lake</td>\n",
       "      <td>Winona Lake</td>\n",
       "      <td>Kosciusko County</td>\n",
       "      <td>US</td>\n",
       "      <td>Indiana</td>\n",
       "      <td>41.228895000</td>\n",
       "      <td>-85.822507000</td>\n",
       "      <td>[American (Traditional), Beer, Wine &amp; Spirits, Seafood, Steakhouses]</td>\n",
       "      <td>1</td>\n",
       "    </tr>\n",
       "    <tr>\n",
       "      <th>6932</th>\n",
       "      <td>bruneau-dunes-state-park-mountain-home-2</td>\n",
       "      <td>Mountain Home</td>\n",
       "      <td>Owyhee County</td>\n",
       "      <td>US</td>\n",
       "      <td>Idaho</td>\n",
       "      <td>42.911346000</td>\n",
       "      <td>-115.715073000</td>\n",
       "      <td>[Landmarks &amp; Historical Buildings, Botanical Gardens, Parks, Campgrounds]</td>\n",
       "      <td>1</td>\n",
       "    </tr>\n",
       "    <tr>\n",
       "      <th>12733</th>\n",
       "      <td>country-cafe-hot-springs</td>\n",
       "      <td>Hot Springs</td>\n",
       "      <td>Bath County</td>\n",
       "      <td>VI</td>\n",
       "      <td>Virginia</td>\n",
       "      <td>37.978512000</td>\n",
       "      <td>-79.842720000</td>\n",
       "      <td>[American (Traditional), Breakfast &amp; Brunch, Cafes, Comfort Food, Desserts]</td>\n",
       "      <td>1</td>\n",
       "    </tr>\n",
       "    <tr>\n",
       "      <th>20165</th>\n",
       "      <td>frans-world-of-beauty-praise-shop-algona</td>\n",
       "      <td>Algona</td>\n",
       "      <td>Kossuth County</td>\n",
       "      <td>US</td>\n",
       "      <td>Iowa</td>\n",
       "      <td>43.064159000</td>\n",
       "      <td>-94.227310000</td>\n",
       "      <td>[Accessories, Women's Clothing, Bookstores, Coffee &amp; Tea]</td>\n",
       "      <td>1</td>\n",
       "    </tr>\n",
       "  </tbody>\n",
       "</table>\n",
       "</div>"
      ],
      "text/plain": [
       "                                   BusinessName       CityName  \\\n",
       "1235          alicias-sugar-shack-twain-harte-4    Twain Harte   \n",
       "5634           boathouse-restaurant-winona-lake    Winona Lake   \n",
       "6932   bruneau-dunes-state-park-mountain-home-2  Mountain Home   \n",
       "12733                  country-cafe-hot-springs    Hot Springs   \n",
       "20165  frans-world-of-beauty-praise-shop-algona         Algona   \n",
       "\n",
       "             CountyName CountryName   StateName      Latitude       Longitude  \\\n",
       "1235    Tuolumne County          US  California  38.060581000  -120.199654000   \n",
       "5634   Kosciusko County          US     Indiana  41.228895000   -85.822507000   \n",
       "6932      Owyhee County          US       Idaho  42.911346000  -115.715073000   \n",
       "12733       Bath County          VI    Virginia  37.978512000   -79.842720000   \n",
       "20165    Kossuth County          US        Iowa  43.064159000   -94.227310000   \n",
       "\n",
       "                                                                              cats  \\\n",
       "1235                           [Bakeries, Breakfast & Brunch, Cafes, Coffee & Tea]   \n",
       "5634          [American (Traditional), Beer, Wine & Spirits, Seafood, Steakhouses]   \n",
       "6932     [Landmarks & Historical Buildings, Botanical Gardens, Parks, Campgrounds]   \n",
       "12733  [American (Traditional), Breakfast & Brunch, Cafes, Comfort Food, Desserts]   \n",
       "20165                    [Accessories, Women's Clothing, Bookstores, Coffee & Tea]   \n",
       "\n",
       "       goe_4  \n",
       "1235       1  \n",
       "5634       1  \n",
       "6932       1  \n",
       "12733      1  \n",
       "20165      1  "
      ]
     },
     "execution_count": 42,
     "metadata": {},
     "output_type": "execute_result"
    }
   ],
   "source": [
    "bus_cats_groups_df = bus_cats_df.groupby(by=['BusinessName', 'CityName', 'CountyName', 'CountryName', 'StateName', 'Latitude','Longitude'], as_index=False, observed=True)['BusinessCategoryName'].apply(bus_cat_groups)\n",
    "bus_cats_groups_df_cut = bus_cats_groups_df[bus_cats_groups_df['goe_4'] == 1]\n",
    "pd.set_option('display.max_colwidth', 100) # 50 seems to be default\n",
    "bus_cats_groups_df_cut.head()"
   ]
  },
  {
   "cell_type": "markdown",
   "id": "9248cbe7",
   "metadata": {},
   "source": [
    "I believe I'm a bit familiar with a couple of these kinds of stores. A lot of these tend to be located in the country and because of that serve various functions. We can inspect their locations and estimated populations."
   ]
  },
  {
   "cell_type": "code",
   "execution_count": 43,
   "id": "1a7161b4",
   "metadata": {
    "scrolled": true
   },
   "outputs": [
    {
     "data": {
      "text/html": [
       "<div>\n",
       "<style scoped>\n",
       "    .dataframe tbody tr th:only-of-type {\n",
       "        vertical-align: middle;\n",
       "    }\n",
       "\n",
       "    .dataframe tbody tr th {\n",
       "        vertical-align: top;\n",
       "    }\n",
       "\n",
       "    .dataframe thead th {\n",
       "        text-align: right;\n",
       "    }\n",
       "</style>\n",
       "<table border=\"1\" class=\"dataframe\">\n",
       "  <thead>\n",
       "    <tr style=\"text-align: right;\">\n",
       "      <th></th>\n",
       "      <th>BusinessName</th>\n",
       "      <th>CityName</th>\n",
       "      <th>CountyName</th>\n",
       "      <th>CountryName</th>\n",
       "      <th>StateName</th>\n",
       "      <th>Latitude</th>\n",
       "      <th>Longitude</th>\n",
       "      <th>cats</th>\n",
       "      <th>goe_4</th>\n",
       "      <th>EstimationYear</th>\n",
       "      <th>EstimatedPopulation</th>\n",
       "      <th>lastpop</th>\n",
       "      <th>relative_delta</th>\n",
       "      <th>abs_delta</th>\n",
       "    </tr>\n",
       "  </thead>\n",
       "  <tbody>\n",
       "    <tr>\n",
       "      <th>0</th>\n",
       "      <td>alicias-sugar-shack-twain-harte-4</td>\n",
       "      <td>Twain Harte</td>\n",
       "      <td>Tuolumne County</td>\n",
       "      <td>US</td>\n",
       "      <td>California</td>\n",
       "      <td>38.060581000</td>\n",
       "      <td>-120.199654000</td>\n",
       "      <td>[Bakeries, Breakfast &amp; Brunch, Cafes, Coffee &amp; Tea]</td>\n",
       "      <td>1</td>\n",
       "      <td>2019</td>\n",
       "      <td>54478</td>\n",
       "      <td>54387</td>\n",
       "      <td>0.001673</td>\n",
       "      <td>91</td>\n",
       "    </tr>\n",
       "    <tr>\n",
       "      <th>1</th>\n",
       "      <td>boathouse-restaurant-winona-lake</td>\n",
       "      <td>Winona Lake</td>\n",
       "      <td>Kosciusko County</td>\n",
       "      <td>US</td>\n",
       "      <td>Indiana</td>\n",
       "      <td>41.228895000</td>\n",
       "      <td>-85.822507000</td>\n",
       "      <td>[American (Traditional), Beer, Wine &amp; Spirits, Seafood, Steakhouses]</td>\n",
       "      <td>1</td>\n",
       "      <td>2019</td>\n",
       "      <td>79456</td>\n",
       "      <td>79416</td>\n",
       "      <td>0.000504</td>\n",
       "      <td>40</td>\n",
       "    </tr>\n",
       "    <tr>\n",
       "      <th>2</th>\n",
       "      <td>bruneau-dunes-state-park-mountain-home-2</td>\n",
       "      <td>Mountain Home</td>\n",
       "      <td>Owyhee County</td>\n",
       "      <td>US</td>\n",
       "      <td>Idaho</td>\n",
       "      <td>42.911346000</td>\n",
       "      <td>-115.715073000</td>\n",
       "      <td>[Landmarks &amp; Historical Buildings, Botanical Gardens, Parks, Campgrounds]</td>\n",
       "      <td>1</td>\n",
       "      <td>2019</td>\n",
       "      <td>11823</td>\n",
       "      <td>11669</td>\n",
       "      <td>0.013197</td>\n",
       "      <td>154</td>\n",
       "    </tr>\n",
       "    <tr>\n",
       "      <th>3</th>\n",
       "      <td>country-cafe-hot-springs</td>\n",
       "      <td>Hot Springs</td>\n",
       "      <td>Bath County</td>\n",
       "      <td>VI</td>\n",
       "      <td>Virginia</td>\n",
       "      <td>37.978512000</td>\n",
       "      <td>-79.842720000</td>\n",
       "      <td>[American (Traditional), Breakfast &amp; Brunch, Cafes, Comfort Food, Desserts]</td>\n",
       "      <td>1</td>\n",
       "      <td>2019</td>\n",
       "      <td>4147</td>\n",
       "      <td>4253</td>\n",
       "      <td>-0.024924</td>\n",
       "      <td>-106</td>\n",
       "    </tr>\n",
       "    <tr>\n",
       "      <th>4</th>\n",
       "      <td>frans-world-of-beauty-praise-shop-algona</td>\n",
       "      <td>Algona</td>\n",
       "      <td>Kossuth County</td>\n",
       "      <td>US</td>\n",
       "      <td>Iowa</td>\n",
       "      <td>43.064159000</td>\n",
       "      <td>-94.227310000</td>\n",
       "      <td>[Accessories, Women's Clothing, Bookstores, Coffee &amp; Tea]</td>\n",
       "      <td>1</td>\n",
       "      <td>2019</td>\n",
       "      <td>14813</td>\n",
       "      <td>14878</td>\n",
       "      <td>-0.004369</td>\n",
       "      <td>-65</td>\n",
       "    </tr>\n",
       "  </tbody>\n",
       "</table>\n",
       "</div>"
      ],
      "text/plain": [
       "                               BusinessName       CityName        CountyName  \\\n",
       "0         alicias-sugar-shack-twain-harte-4    Twain Harte   Tuolumne County   \n",
       "1          boathouse-restaurant-winona-lake    Winona Lake  Kosciusko County   \n",
       "2  bruneau-dunes-state-park-mountain-home-2  Mountain Home     Owyhee County   \n",
       "3                  country-cafe-hot-springs    Hot Springs       Bath County   \n",
       "4  frans-world-of-beauty-praise-shop-algona         Algona    Kossuth County   \n",
       "\n",
       "  CountryName   StateName      Latitude       Longitude  \\\n",
       "0          US  California  38.060581000  -120.199654000   \n",
       "1          US     Indiana  41.228895000   -85.822507000   \n",
       "2          US       Idaho  42.911346000  -115.715073000   \n",
       "3          VI    Virginia  37.978512000   -79.842720000   \n",
       "4          US        Iowa  43.064159000   -94.227310000   \n",
       "\n",
       "                                                                          cats  \\\n",
       "0                          [Bakeries, Breakfast & Brunch, Cafes, Coffee & Tea]   \n",
       "1         [American (Traditional), Beer, Wine & Spirits, Seafood, Steakhouses]   \n",
       "2    [Landmarks & Historical Buildings, Botanical Gardens, Parks, Campgrounds]   \n",
       "3  [American (Traditional), Breakfast & Brunch, Cafes, Comfort Food, Desserts]   \n",
       "4                    [Accessories, Women's Clothing, Bookstores, Coffee & Tea]   \n",
       "\n",
       "   goe_4  EstimationYear  EstimatedPopulation  lastpop  relative_delta  \\\n",
       "0      1            2019                54478    54387        0.001673   \n",
       "1      1            2019                79456    79416        0.000504   \n",
       "2      1            2019                11823    11669        0.013197   \n",
       "3      1            2019                 4147     4253       -0.024924   \n",
       "4      1            2019                14813    14878       -0.004369   \n",
       "\n",
       "   abs_delta  \n",
       "0         91  \n",
       "1         40  \n",
       "2        154  \n",
       "3       -106  \n",
       "4        -65  "
      ]
     },
     "execution_count": 43,
     "metadata": {},
     "output_type": "execute_result"
    }
   ],
   "source": [
    "bus_cats_groups_df_cut_cg = pd.merge(left=bus_cats_groups_df_cut, right=cg_df, on=['StateName','CountyName'], how='left')\n",
    "bus_cats_groups_df_cut_cg.head()"
   ]
  },
  {
   "cell_type": "markdown",
   "id": "0fe8e32a",
   "metadata": {},
   "source": [
    "Going to get the counties not apart of those above"
   ]
  },
  {
   "cell_type": "code",
   "execution_count": 45,
   "id": "f982e06c",
   "metadata": {
    "scrolled": false
   },
   "outputs": [
    {
     "data": {
      "text/plain": [
       "(3205, 7)"
      ]
     },
     "execution_count": 45,
     "metadata": {},
     "output_type": "execute_result"
    }
   ],
   "source": [
    "cg_df_not_in = cg_df[~(cg_df['StateName'].astype(str) + cg_df['CountyName']).isin((bus_cats_groups_df_cut_cg['StateName'].astype(str) + bus_cats_groups_df_cut_cg['CountyName']).tolist())]\n",
    "cg_df_not_in.shape"
   ]
  },
  {
   "cell_type": "code",
   "execution_count": 82,
   "id": "d7255117",
   "metadata": {},
   "outputs": [
    {
     "data": {
      "text/plain": [
       "482.9762870514821"
      ]
     },
     "execution_count": 82,
     "metadata": {},
     "output_type": "execute_result"
    }
   ],
   "source": [
    "cg_df_not_in.abs_delta.mean()"
   ]
  },
  {
   "cell_type": "code",
   "execution_count": 85,
   "id": "c919d4ed",
   "metadata": {
    "scrolled": true
   },
   "outputs": [
    {
     "data": {
      "text/plain": [
       "294.8666666666667"
      ]
     },
     "execution_count": 85,
     "metadata": {},
     "output_type": "execute_result"
    }
   ],
   "source": [
    "bus_cats_groups_df_cut_cg.groupby(by=['StateName','CountyName'], as_index=False, observed=True)['abs_delta'].first()['abs_delta'].mean()"
   ]
  },
  {
   "cell_type": "markdown",
   "id": "0acdcc0f",
   "metadata": {},
   "source": [
    "Comparing the means there is a bit of a difference between the two groups. Alternatively we could check by physical location "
   ]
  },
  {
   "cell_type": "code",
   "execution_count": 87,
   "id": "f2675df4",
   "metadata": {
    "scrolled": true
   },
   "outputs": [
    {
     "data": {
      "application/vnd.plotly.v1+json": {
       "config": {
        "plotlyServerURL": "https://plot.ly"
       },
       "data": [
        {
         "lat": [
          38.060581,
          41.228895,
          42.911346,
          37.978512,
          43.064159,
          30.054983,
          40.73778,
          40.230592,
          41.58587,
          42.944149,
          40.900024,
          43.54048,
          39.257754,
          35.441231,
          43.207492
         ],
         "lon": [
          -120.199654,
          -85.822507,
          -115.715073,
          -79.84272,
          -94.22731,
          -95.917999,
          -92.86787,
          -74.677709,
          -92.52723,
          -83.671899,
          -85.507942,
          -89.4589,
          -114.860376,
          -113.874916,
          -71.536125
         ],
         "marker": {
          "color": [
           91,
           40,
           154,
           -106,
           -65,
           1734,
           25,
           -758,
           37,
           -875,
           277,
           199,
           40,
           2889,
           741
          ],
          "colorbar": {
           "outlinecolor": "rgba(68, 68, 68, 0)",
           "title": {
            "side": "top",
            "text": "Estimated Abosute Population <br> change from previous year"
           }
          },
          "colorscale": [
           [
            0,
            "rgb(247,251,255)"
           ],
           [
            0.125,
            "rgb(222,235,247)"
           ],
           [
            0.25,
            "rgb(198,219,239)"
           ],
           [
            0.375,
            "rgb(158,202,225)"
           ],
           [
            0.5,
            "rgb(107,174,214)"
           ],
           [
            0.625,
            "rgb(66,146,198)"
           ],
           [
            0.75,
            "rgb(33,113,181)"
           ],
           [
            0.875,
            "rgb(8,81,156)"
           ],
           [
            1,
            "rgb(8,48,107)"
           ]
          ]
         },
         "mode": "markers",
         "text": [
          "91",
          "40",
          "154",
          "-106",
          "-65",
          "1734",
          "25",
          "-758",
          "37",
          "-875",
          "277",
          "199",
          "40",
          "2889",
          "741"
         ],
         "type": "scattergeo"
        }
       ],
       "layout": {
        "geo": {
         "scope": "usa"
        },
        "template": {
         "data": {
          "bar": [
           {
            "error_x": {
             "color": "#2a3f5f"
            },
            "error_y": {
             "color": "#2a3f5f"
            },
            "marker": {
             "line": {
              "color": "#E5ECF6",
              "width": 0.5
             },
             "pattern": {
              "fillmode": "overlay",
              "size": 10,
              "solidity": 0.2
             }
            },
            "type": "bar"
           }
          ],
          "barpolar": [
           {
            "marker": {
             "line": {
              "color": "#E5ECF6",
              "width": 0.5
             },
             "pattern": {
              "fillmode": "overlay",
              "size": 10,
              "solidity": 0.2
             }
            },
            "type": "barpolar"
           }
          ],
          "carpet": [
           {
            "aaxis": {
             "endlinecolor": "#2a3f5f",
             "gridcolor": "white",
             "linecolor": "white",
             "minorgridcolor": "white",
             "startlinecolor": "#2a3f5f"
            },
            "baxis": {
             "endlinecolor": "#2a3f5f",
             "gridcolor": "white",
             "linecolor": "white",
             "minorgridcolor": "white",
             "startlinecolor": "#2a3f5f"
            },
            "type": "carpet"
           }
          ],
          "choropleth": [
           {
            "colorbar": {
             "outlinewidth": 0,
             "ticks": ""
            },
            "type": "choropleth"
           }
          ],
          "contour": [
           {
            "colorbar": {
             "outlinewidth": 0,
             "ticks": ""
            },
            "colorscale": [
             [
              0,
              "#0d0887"
             ],
             [
              0.1111111111111111,
              "#46039f"
             ],
             [
              0.2222222222222222,
              "#7201a8"
             ],
             [
              0.3333333333333333,
              "#9c179e"
             ],
             [
              0.4444444444444444,
              "#bd3786"
             ],
             [
              0.5555555555555556,
              "#d8576b"
             ],
             [
              0.6666666666666666,
              "#ed7953"
             ],
             [
              0.7777777777777778,
              "#fb9f3a"
             ],
             [
              0.8888888888888888,
              "#fdca26"
             ],
             [
              1,
              "#f0f921"
             ]
            ],
            "type": "contour"
           }
          ],
          "contourcarpet": [
           {
            "colorbar": {
             "outlinewidth": 0,
             "ticks": ""
            },
            "type": "contourcarpet"
           }
          ],
          "heatmap": [
           {
            "colorbar": {
             "outlinewidth": 0,
             "ticks": ""
            },
            "colorscale": [
             [
              0,
              "#0d0887"
             ],
             [
              0.1111111111111111,
              "#46039f"
             ],
             [
              0.2222222222222222,
              "#7201a8"
             ],
             [
              0.3333333333333333,
              "#9c179e"
             ],
             [
              0.4444444444444444,
              "#bd3786"
             ],
             [
              0.5555555555555556,
              "#d8576b"
             ],
             [
              0.6666666666666666,
              "#ed7953"
             ],
             [
              0.7777777777777778,
              "#fb9f3a"
             ],
             [
              0.8888888888888888,
              "#fdca26"
             ],
             [
              1,
              "#f0f921"
             ]
            ],
            "type": "heatmap"
           }
          ],
          "heatmapgl": [
           {
            "colorbar": {
             "outlinewidth": 0,
             "ticks": ""
            },
            "colorscale": [
             [
              0,
              "#0d0887"
             ],
             [
              0.1111111111111111,
              "#46039f"
             ],
             [
              0.2222222222222222,
              "#7201a8"
             ],
             [
              0.3333333333333333,
              "#9c179e"
             ],
             [
              0.4444444444444444,
              "#bd3786"
             ],
             [
              0.5555555555555556,
              "#d8576b"
             ],
             [
              0.6666666666666666,
              "#ed7953"
             ],
             [
              0.7777777777777778,
              "#fb9f3a"
             ],
             [
              0.8888888888888888,
              "#fdca26"
             ],
             [
              1,
              "#f0f921"
             ]
            ],
            "type": "heatmapgl"
           }
          ],
          "histogram": [
           {
            "marker": {
             "pattern": {
              "fillmode": "overlay",
              "size": 10,
              "solidity": 0.2
             }
            },
            "type": "histogram"
           }
          ],
          "histogram2d": [
           {
            "colorbar": {
             "outlinewidth": 0,
             "ticks": ""
            },
            "colorscale": [
             [
              0,
              "#0d0887"
             ],
             [
              0.1111111111111111,
              "#46039f"
             ],
             [
              0.2222222222222222,
              "#7201a8"
             ],
             [
              0.3333333333333333,
              "#9c179e"
             ],
             [
              0.4444444444444444,
              "#bd3786"
             ],
             [
              0.5555555555555556,
              "#d8576b"
             ],
             [
              0.6666666666666666,
              "#ed7953"
             ],
             [
              0.7777777777777778,
              "#fb9f3a"
             ],
             [
              0.8888888888888888,
              "#fdca26"
             ],
             [
              1,
              "#f0f921"
             ]
            ],
            "type": "histogram2d"
           }
          ],
          "histogram2dcontour": [
           {
            "colorbar": {
             "outlinewidth": 0,
             "ticks": ""
            },
            "colorscale": [
             [
              0,
              "#0d0887"
             ],
             [
              0.1111111111111111,
              "#46039f"
             ],
             [
              0.2222222222222222,
              "#7201a8"
             ],
             [
              0.3333333333333333,
              "#9c179e"
             ],
             [
              0.4444444444444444,
              "#bd3786"
             ],
             [
              0.5555555555555556,
              "#d8576b"
             ],
             [
              0.6666666666666666,
              "#ed7953"
             ],
             [
              0.7777777777777778,
              "#fb9f3a"
             ],
             [
              0.8888888888888888,
              "#fdca26"
             ],
             [
              1,
              "#f0f921"
             ]
            ],
            "type": "histogram2dcontour"
           }
          ],
          "mesh3d": [
           {
            "colorbar": {
             "outlinewidth": 0,
             "ticks": ""
            },
            "type": "mesh3d"
           }
          ],
          "parcoords": [
           {
            "line": {
             "colorbar": {
              "outlinewidth": 0,
              "ticks": ""
             }
            },
            "type": "parcoords"
           }
          ],
          "pie": [
           {
            "automargin": true,
            "type": "pie"
           }
          ],
          "scatter": [
           {
            "marker": {
             "colorbar": {
              "outlinewidth": 0,
              "ticks": ""
             }
            },
            "type": "scatter"
           }
          ],
          "scatter3d": [
           {
            "line": {
             "colorbar": {
              "outlinewidth": 0,
              "ticks": ""
             }
            },
            "marker": {
             "colorbar": {
              "outlinewidth": 0,
              "ticks": ""
             }
            },
            "type": "scatter3d"
           }
          ],
          "scattercarpet": [
           {
            "marker": {
             "colorbar": {
              "outlinewidth": 0,
              "ticks": ""
             }
            },
            "type": "scattercarpet"
           }
          ],
          "scattergeo": [
           {
            "marker": {
             "colorbar": {
              "outlinewidth": 0,
              "ticks": ""
             }
            },
            "type": "scattergeo"
           }
          ],
          "scattergl": [
           {
            "marker": {
             "colorbar": {
              "outlinewidth": 0,
              "ticks": ""
             }
            },
            "type": "scattergl"
           }
          ],
          "scattermapbox": [
           {
            "marker": {
             "colorbar": {
              "outlinewidth": 0,
              "ticks": ""
             }
            },
            "type": "scattermapbox"
           }
          ],
          "scatterpolar": [
           {
            "marker": {
             "colorbar": {
              "outlinewidth": 0,
              "ticks": ""
             }
            },
            "type": "scatterpolar"
           }
          ],
          "scatterpolargl": [
           {
            "marker": {
             "colorbar": {
              "outlinewidth": 0,
              "ticks": ""
             }
            },
            "type": "scatterpolargl"
           }
          ],
          "scatterternary": [
           {
            "marker": {
             "colorbar": {
              "outlinewidth": 0,
              "ticks": ""
             }
            },
            "type": "scatterternary"
           }
          ],
          "surface": [
           {
            "colorbar": {
             "outlinewidth": 0,
             "ticks": ""
            },
            "colorscale": [
             [
              0,
              "#0d0887"
             ],
             [
              0.1111111111111111,
              "#46039f"
             ],
             [
              0.2222222222222222,
              "#7201a8"
             ],
             [
              0.3333333333333333,
              "#9c179e"
             ],
             [
              0.4444444444444444,
              "#bd3786"
             ],
             [
              0.5555555555555556,
              "#d8576b"
             ],
             [
              0.6666666666666666,
              "#ed7953"
             ],
             [
              0.7777777777777778,
              "#fb9f3a"
             ],
             [
              0.8888888888888888,
              "#fdca26"
             ],
             [
              1,
              "#f0f921"
             ]
            ],
            "type": "surface"
           }
          ],
          "table": [
           {
            "cells": {
             "fill": {
              "color": "#EBF0F8"
             },
             "line": {
              "color": "white"
             }
            },
            "header": {
             "fill": {
              "color": "#C8D4E3"
             },
             "line": {
              "color": "white"
             }
            },
            "type": "table"
           }
          ]
         },
         "layout": {
          "annotationdefaults": {
           "arrowcolor": "#2a3f5f",
           "arrowhead": 0,
           "arrowwidth": 1
          },
          "autotypenumbers": "strict",
          "coloraxis": {
           "colorbar": {
            "outlinewidth": 0,
            "ticks": ""
           }
          },
          "colorscale": {
           "diverging": [
            [
             0,
             "#8e0152"
            ],
            [
             0.1,
             "#c51b7d"
            ],
            [
             0.2,
             "#de77ae"
            ],
            [
             0.3,
             "#f1b6da"
            ],
            [
             0.4,
             "#fde0ef"
            ],
            [
             0.5,
             "#f7f7f7"
            ],
            [
             0.6,
             "#e6f5d0"
            ],
            [
             0.7,
             "#b8e186"
            ],
            [
             0.8,
             "#7fbc41"
            ],
            [
             0.9,
             "#4d9221"
            ],
            [
             1,
             "#276419"
            ]
           ],
           "sequential": [
            [
             0,
             "#0d0887"
            ],
            [
             0.1111111111111111,
             "#46039f"
            ],
            [
             0.2222222222222222,
             "#7201a8"
            ],
            [
             0.3333333333333333,
             "#9c179e"
            ],
            [
             0.4444444444444444,
             "#bd3786"
            ],
            [
             0.5555555555555556,
             "#d8576b"
            ],
            [
             0.6666666666666666,
             "#ed7953"
            ],
            [
             0.7777777777777778,
             "#fb9f3a"
            ],
            [
             0.8888888888888888,
             "#fdca26"
            ],
            [
             1,
             "#f0f921"
            ]
           ],
           "sequentialminus": [
            [
             0,
             "#0d0887"
            ],
            [
             0.1111111111111111,
             "#46039f"
            ],
            [
             0.2222222222222222,
             "#7201a8"
            ],
            [
             0.3333333333333333,
             "#9c179e"
            ],
            [
             0.4444444444444444,
             "#bd3786"
            ],
            [
             0.5555555555555556,
             "#d8576b"
            ],
            [
             0.6666666666666666,
             "#ed7953"
            ],
            [
             0.7777777777777778,
             "#fb9f3a"
            ],
            [
             0.8888888888888888,
             "#fdca26"
            ],
            [
             1,
             "#f0f921"
            ]
           ]
          },
          "colorway": [
           "#636efa",
           "#EF553B",
           "#00cc96",
           "#ab63fa",
           "#FFA15A",
           "#19d3f3",
           "#FF6692",
           "#B6E880",
           "#FF97FF",
           "#FECB52"
          ],
          "font": {
           "color": "#2a3f5f"
          },
          "geo": {
           "bgcolor": "white",
           "lakecolor": "white",
           "landcolor": "#E5ECF6",
           "showlakes": true,
           "showland": true,
           "subunitcolor": "white"
          },
          "hoverlabel": {
           "align": "left"
          },
          "hovermode": "closest",
          "mapbox": {
           "style": "light"
          },
          "paper_bgcolor": "white",
          "plot_bgcolor": "#E5ECF6",
          "polar": {
           "angularaxis": {
            "gridcolor": "white",
            "linecolor": "white",
            "ticks": ""
           },
           "bgcolor": "#E5ECF6",
           "radialaxis": {
            "gridcolor": "white",
            "linecolor": "white",
            "ticks": ""
           }
          },
          "scene": {
           "xaxis": {
            "backgroundcolor": "#E5ECF6",
            "gridcolor": "white",
            "gridwidth": 2,
            "linecolor": "white",
            "showbackground": true,
            "ticks": "",
            "zerolinecolor": "white"
           },
           "yaxis": {
            "backgroundcolor": "#E5ECF6",
            "gridcolor": "white",
            "gridwidth": 2,
            "linecolor": "white",
            "showbackground": true,
            "ticks": "",
            "zerolinecolor": "white"
           },
           "zaxis": {
            "backgroundcolor": "#E5ECF6",
            "gridcolor": "white",
            "gridwidth": 2,
            "linecolor": "white",
            "showbackground": true,
            "ticks": "",
            "zerolinecolor": "white"
           }
          },
          "shapedefaults": {
           "line": {
            "color": "#2a3f5f"
           }
          },
          "ternary": {
           "aaxis": {
            "gridcolor": "white",
            "linecolor": "white",
            "ticks": ""
           },
           "baxis": {
            "gridcolor": "white",
            "linecolor": "white",
            "ticks": ""
           },
           "bgcolor": "#E5ECF6",
           "caxis": {
            "gridcolor": "white",
            "linecolor": "white",
            "ticks": ""
           }
          },
          "title": {
           "x": 0.05
          },
          "xaxis": {
           "automargin": true,
           "gridcolor": "white",
           "linecolor": "white",
           "ticks": "",
           "title": {
            "standoff": 15
           },
           "zerolinecolor": "white",
           "zerolinewidth": 2
          },
          "yaxis": {
           "automargin": true,
           "gridcolor": "white",
           "linecolor": "white",
           "ticks": "",
           "title": {
            "standoff": 15
           },
           "zerolinecolor": "white",
           "zerolinewidth": 2
          }
         }
        },
        "title": {
         "text": "Businesses specializing in 4+ business category areas"
        }
       }
      },
      "text/html": [
       "<div>                            <div id=\"4cb704ff-4558-42b2-85fd-4b6c22314ef9\" class=\"plotly-graph-div\" style=\"height:525px; width:100%;\"></div>            <script type=\"text/javascript\">                require([\"plotly\"], function(Plotly) {                    window.PLOTLYENV=window.PLOTLYENV || {};                                    if (document.getElementById(\"4cb704ff-4558-42b2-85fd-4b6c22314ef9\")) {                    Plotly.newPlot(                        \"4cb704ff-4558-42b2-85fd-4b6c22314ef9\",                        [{\"lat\":[38.060581,41.228895,42.911346,37.978512,43.064159,30.054983,40.73778,40.230592,41.58587,42.944149,40.900024,43.54048,39.257754,35.441231,43.207492],\"lon\":[-120.199654,-85.822507,-115.715073,-79.84272,-94.22731,-95.917999,-92.86787,-74.677709,-92.52723,-83.671899,-85.507942,-89.4589,-114.860376,-113.874916,-71.536125],\"marker\":{\"color\":[91,40,154,-106,-65,1734,25,-758,37,-875,277,199,40,2889,741],\"colorbar\":{\"outlinecolor\":\"rgba(68, 68, 68, 0)\",\"title\":{\"side\":\"top\",\"text\":\"Estimated Abosute Population <br> change from previous year\"}},\"colorscale\":[[0.0,\"rgb(247,251,255)\"],[0.125,\"rgb(222,235,247)\"],[0.25,\"rgb(198,219,239)\"],[0.375,\"rgb(158,202,225)\"],[0.5,\"rgb(107,174,214)\"],[0.625,\"rgb(66,146,198)\"],[0.75,\"rgb(33,113,181)\"],[0.875,\"rgb(8,81,156)\"],[1.0,\"rgb(8,48,107)\"]]},\"mode\":\"markers\",\"text\":[\"91\",\"40\",\"154\",\"-106\",\"-65\",\"1734\",\"25\",\"-758\",\"37\",\"-875\",\"277\",\"199\",\"40\",\"2889\",\"741\"],\"type\":\"scattergeo\"}],                        {\"template\":{\"data\":{\"bar\":[{\"error_x\":{\"color\":\"#2a3f5f\"},\"error_y\":{\"color\":\"#2a3f5f\"},\"marker\":{\"line\":{\"color\":\"#E5ECF6\",\"width\":0.5},\"pattern\":{\"fillmode\":\"overlay\",\"size\":10,\"solidity\":0.2}},\"type\":\"bar\"}],\"barpolar\":[{\"marker\":{\"line\":{\"color\":\"#E5ECF6\",\"width\":0.5},\"pattern\":{\"fillmode\":\"overlay\",\"size\":10,\"solidity\":0.2}},\"type\":\"barpolar\"}],\"carpet\":[{\"aaxis\":{\"endlinecolor\":\"#2a3f5f\",\"gridcolor\":\"white\",\"linecolor\":\"white\",\"minorgridcolor\":\"white\",\"startlinecolor\":\"#2a3f5f\"},\"baxis\":{\"endlinecolor\":\"#2a3f5f\",\"gridcolor\":\"white\",\"linecolor\":\"white\",\"minorgridcolor\":\"white\",\"startlinecolor\":\"#2a3f5f\"},\"type\":\"carpet\"}],\"choropleth\":[{\"colorbar\":{\"outlinewidth\":0,\"ticks\":\"\"},\"type\":\"choropleth\"}],\"contour\":[{\"colorbar\":{\"outlinewidth\":0,\"ticks\":\"\"},\"colorscale\":[[0.0,\"#0d0887\"],[0.1111111111111111,\"#46039f\"],[0.2222222222222222,\"#7201a8\"],[0.3333333333333333,\"#9c179e\"],[0.4444444444444444,\"#bd3786\"],[0.5555555555555556,\"#d8576b\"],[0.6666666666666666,\"#ed7953\"],[0.7777777777777778,\"#fb9f3a\"],[0.8888888888888888,\"#fdca26\"],[1.0,\"#f0f921\"]],\"type\":\"contour\"}],\"contourcarpet\":[{\"colorbar\":{\"outlinewidth\":0,\"ticks\":\"\"},\"type\":\"contourcarpet\"}],\"heatmap\":[{\"colorbar\":{\"outlinewidth\":0,\"ticks\":\"\"},\"colorscale\":[[0.0,\"#0d0887\"],[0.1111111111111111,\"#46039f\"],[0.2222222222222222,\"#7201a8\"],[0.3333333333333333,\"#9c179e\"],[0.4444444444444444,\"#bd3786\"],[0.5555555555555556,\"#d8576b\"],[0.6666666666666666,\"#ed7953\"],[0.7777777777777778,\"#fb9f3a\"],[0.8888888888888888,\"#fdca26\"],[1.0,\"#f0f921\"]],\"type\":\"heatmap\"}],\"heatmapgl\":[{\"colorbar\":{\"outlinewidth\":0,\"ticks\":\"\"},\"colorscale\":[[0.0,\"#0d0887\"],[0.1111111111111111,\"#46039f\"],[0.2222222222222222,\"#7201a8\"],[0.3333333333333333,\"#9c179e\"],[0.4444444444444444,\"#bd3786\"],[0.5555555555555556,\"#d8576b\"],[0.6666666666666666,\"#ed7953\"],[0.7777777777777778,\"#fb9f3a\"],[0.8888888888888888,\"#fdca26\"],[1.0,\"#f0f921\"]],\"type\":\"heatmapgl\"}],\"histogram\":[{\"marker\":{\"pattern\":{\"fillmode\":\"overlay\",\"size\":10,\"solidity\":0.2}},\"type\":\"histogram\"}],\"histogram2d\":[{\"colorbar\":{\"outlinewidth\":0,\"ticks\":\"\"},\"colorscale\":[[0.0,\"#0d0887\"],[0.1111111111111111,\"#46039f\"],[0.2222222222222222,\"#7201a8\"],[0.3333333333333333,\"#9c179e\"],[0.4444444444444444,\"#bd3786\"],[0.5555555555555556,\"#d8576b\"],[0.6666666666666666,\"#ed7953\"],[0.7777777777777778,\"#fb9f3a\"],[0.8888888888888888,\"#fdca26\"],[1.0,\"#f0f921\"]],\"type\":\"histogram2d\"}],\"histogram2dcontour\":[{\"colorbar\":{\"outlinewidth\":0,\"ticks\":\"\"},\"colorscale\":[[0.0,\"#0d0887\"],[0.1111111111111111,\"#46039f\"],[0.2222222222222222,\"#7201a8\"],[0.3333333333333333,\"#9c179e\"],[0.4444444444444444,\"#bd3786\"],[0.5555555555555556,\"#d8576b\"],[0.6666666666666666,\"#ed7953\"],[0.7777777777777778,\"#fb9f3a\"],[0.8888888888888888,\"#fdca26\"],[1.0,\"#f0f921\"]],\"type\":\"histogram2dcontour\"}],\"mesh3d\":[{\"colorbar\":{\"outlinewidth\":0,\"ticks\":\"\"},\"type\":\"mesh3d\"}],\"parcoords\":[{\"line\":{\"colorbar\":{\"outlinewidth\":0,\"ticks\":\"\"}},\"type\":\"parcoords\"}],\"pie\":[{\"automargin\":true,\"type\":\"pie\"}],\"scatter\":[{\"marker\":{\"colorbar\":{\"outlinewidth\":0,\"ticks\":\"\"}},\"type\":\"scatter\"}],\"scatter3d\":[{\"line\":{\"colorbar\":{\"outlinewidth\":0,\"ticks\":\"\"}},\"marker\":{\"colorbar\":{\"outlinewidth\":0,\"ticks\":\"\"}},\"type\":\"scatter3d\"}],\"scattercarpet\":[{\"marker\":{\"colorbar\":{\"outlinewidth\":0,\"ticks\":\"\"}},\"type\":\"scattercarpet\"}],\"scattergeo\":[{\"marker\":{\"colorbar\":{\"outlinewidth\":0,\"ticks\":\"\"}},\"type\":\"scattergeo\"}],\"scattergl\":[{\"marker\":{\"colorbar\":{\"outlinewidth\":0,\"ticks\":\"\"}},\"type\":\"scattergl\"}],\"scattermapbox\":[{\"marker\":{\"colorbar\":{\"outlinewidth\":0,\"ticks\":\"\"}},\"type\":\"scattermapbox\"}],\"scatterpolar\":[{\"marker\":{\"colorbar\":{\"outlinewidth\":0,\"ticks\":\"\"}},\"type\":\"scatterpolar\"}],\"scatterpolargl\":[{\"marker\":{\"colorbar\":{\"outlinewidth\":0,\"ticks\":\"\"}},\"type\":\"scatterpolargl\"}],\"scatterternary\":[{\"marker\":{\"colorbar\":{\"outlinewidth\":0,\"ticks\":\"\"}},\"type\":\"scatterternary\"}],\"surface\":[{\"colorbar\":{\"outlinewidth\":0,\"ticks\":\"\"},\"colorscale\":[[0.0,\"#0d0887\"],[0.1111111111111111,\"#46039f\"],[0.2222222222222222,\"#7201a8\"],[0.3333333333333333,\"#9c179e\"],[0.4444444444444444,\"#bd3786\"],[0.5555555555555556,\"#d8576b\"],[0.6666666666666666,\"#ed7953\"],[0.7777777777777778,\"#fb9f3a\"],[0.8888888888888888,\"#fdca26\"],[1.0,\"#f0f921\"]],\"type\":\"surface\"}],\"table\":[{\"cells\":{\"fill\":{\"color\":\"#EBF0F8\"},\"line\":{\"color\":\"white\"}},\"header\":{\"fill\":{\"color\":\"#C8D4E3\"},\"line\":{\"color\":\"white\"}},\"type\":\"table\"}]},\"layout\":{\"annotationdefaults\":{\"arrowcolor\":\"#2a3f5f\",\"arrowhead\":0,\"arrowwidth\":1},\"autotypenumbers\":\"strict\",\"coloraxis\":{\"colorbar\":{\"outlinewidth\":0,\"ticks\":\"\"}},\"colorscale\":{\"diverging\":[[0,\"#8e0152\"],[0.1,\"#c51b7d\"],[0.2,\"#de77ae\"],[0.3,\"#f1b6da\"],[0.4,\"#fde0ef\"],[0.5,\"#f7f7f7\"],[0.6,\"#e6f5d0\"],[0.7,\"#b8e186\"],[0.8,\"#7fbc41\"],[0.9,\"#4d9221\"],[1,\"#276419\"]],\"sequential\":[[0.0,\"#0d0887\"],[0.1111111111111111,\"#46039f\"],[0.2222222222222222,\"#7201a8\"],[0.3333333333333333,\"#9c179e\"],[0.4444444444444444,\"#bd3786\"],[0.5555555555555556,\"#d8576b\"],[0.6666666666666666,\"#ed7953\"],[0.7777777777777778,\"#fb9f3a\"],[0.8888888888888888,\"#fdca26\"],[1.0,\"#f0f921\"]],\"sequentialminus\":[[0.0,\"#0d0887\"],[0.1111111111111111,\"#46039f\"],[0.2222222222222222,\"#7201a8\"],[0.3333333333333333,\"#9c179e\"],[0.4444444444444444,\"#bd3786\"],[0.5555555555555556,\"#d8576b\"],[0.6666666666666666,\"#ed7953\"],[0.7777777777777778,\"#fb9f3a\"],[0.8888888888888888,\"#fdca26\"],[1.0,\"#f0f921\"]]},\"colorway\":[\"#636efa\",\"#EF553B\",\"#00cc96\",\"#ab63fa\",\"#FFA15A\",\"#19d3f3\",\"#FF6692\",\"#B6E880\",\"#FF97FF\",\"#FECB52\"],\"font\":{\"color\":\"#2a3f5f\"},\"geo\":{\"bgcolor\":\"white\",\"lakecolor\":\"white\",\"landcolor\":\"#E5ECF6\",\"showlakes\":true,\"showland\":true,\"subunitcolor\":\"white\"},\"hoverlabel\":{\"align\":\"left\"},\"hovermode\":\"closest\",\"mapbox\":{\"style\":\"light\"},\"paper_bgcolor\":\"white\",\"plot_bgcolor\":\"#E5ECF6\",\"polar\":{\"angularaxis\":{\"gridcolor\":\"white\",\"linecolor\":\"white\",\"ticks\":\"\"},\"bgcolor\":\"#E5ECF6\",\"radialaxis\":{\"gridcolor\":\"white\",\"linecolor\":\"white\",\"ticks\":\"\"}},\"scene\":{\"xaxis\":{\"backgroundcolor\":\"#E5ECF6\",\"gridcolor\":\"white\",\"gridwidth\":2,\"linecolor\":\"white\",\"showbackground\":true,\"ticks\":\"\",\"zerolinecolor\":\"white\"},\"yaxis\":{\"backgroundcolor\":\"#E5ECF6\",\"gridcolor\":\"white\",\"gridwidth\":2,\"linecolor\":\"white\",\"showbackground\":true,\"ticks\":\"\",\"zerolinecolor\":\"white\"},\"zaxis\":{\"backgroundcolor\":\"#E5ECF6\",\"gridcolor\":\"white\",\"gridwidth\":2,\"linecolor\":\"white\",\"showbackground\":true,\"ticks\":\"\",\"zerolinecolor\":\"white\"}},\"shapedefaults\":{\"line\":{\"color\":\"#2a3f5f\"}},\"ternary\":{\"aaxis\":{\"gridcolor\":\"white\",\"linecolor\":\"white\",\"ticks\":\"\"},\"baxis\":{\"gridcolor\":\"white\",\"linecolor\":\"white\",\"ticks\":\"\"},\"bgcolor\":\"#E5ECF6\",\"caxis\":{\"gridcolor\":\"white\",\"linecolor\":\"white\",\"ticks\":\"\"}},\"title\":{\"x\":0.05},\"xaxis\":{\"automargin\":true,\"gridcolor\":\"white\",\"linecolor\":\"white\",\"ticks\":\"\",\"title\":{\"standoff\":15},\"zerolinecolor\":\"white\",\"zerolinewidth\":2},\"yaxis\":{\"automargin\":true,\"gridcolor\":\"white\",\"linecolor\":\"white\",\"ticks\":\"\",\"title\":{\"standoff\":15},\"zerolinecolor\":\"white\",\"zerolinewidth\":2}}},\"geo\":{\"scope\":\"usa\"},\"title\":{\"text\":\"Businesses specializing in 4+ business category areas\"}},                        {\"responsive\": true}                    ).then(function(){\n",
       "                            \n",
       "var gd = document.getElementById('4cb704ff-4558-42b2-85fd-4b6c22314ef9');\n",
       "var x = new MutationObserver(function (mutations, observer) {{\n",
       "        var display = window.getComputedStyle(gd).display;\n",
       "        if (!display || display === 'none') {{\n",
       "            console.log([gd, 'removed!']);\n",
       "            Plotly.purge(gd);\n",
       "            observer.disconnect();\n",
       "        }}\n",
       "}});\n",
       "\n",
       "// Listen for the removal of the full notebook cells\n",
       "var notebookContainer = gd.closest('#notebook-container');\n",
       "if (notebookContainer) {{\n",
       "    x.observe(notebookContainer, {childList: true});\n",
       "}}\n",
       "\n",
       "// Listen for the clearing of the current output cell\n",
       "var outputEl = gd.closest('.output');\n",
       "if (outputEl) {{\n",
       "    x.observe(outputEl, {childList: true});\n",
       "}}\n",
       "\n",
       "                        })                };                });            </script>        </div>"
      ]
     },
     "metadata": {},
     "output_type": "display_data"
    }
   ],
   "source": [
    "\n",
    "fig = go.Figure(\n",
    "    data=go.Scattergeo(\n",
    "        lon=bus_cats_groups_df_cut_cg['Longitude'],\n",
    "        lat=bus_cats_groups_df_cut_cg['Latitude'],\n",
    "        mode='markers',\n",
    "        text = bus_cats_groups_df_cut_cg['abs_delta'].astype(str) , \n",
    "        marker = dict(\n",
    "            colorscale = 'Blues', \n",
    "            color=bus_cats_groups_df_cut_cg['abs_delta'],\n",
    "            colorbar = dict(\n",
    "            titleside = \"top\",\n",
    "            outlinecolor = \"rgba(68, 68, 68, 0)\",\n",
    "            title = \"Estimated Abosute Population <br> change from previous year\"\n",
    "\n",
    "        ))\n",
    "    )\n",
    ")\n",
    "fig.update_layout(\n",
    "    geo_scope='usa',\n",
    "    title= 'Businesses specializing in 4+ business category areas'\n",
    ")\n",
    "fig.show()"
   ]
  },
  {
   "cell_type": "code",
   "execution_count": null,
   "id": "272509e6",
   "metadata": {
    "scrolled": true
   },
   "outputs": [],
   "source": [
    "# bus_cats_groups_df_cut_lt4 = bus_cats_groups_df[bus_cats_groups_df['goe_4'] == 0]\n",
    "# bus_cats_groups_df_cut_lt4.head()"
   ]
  },
  {
   "cell_type": "code",
   "execution_count": null,
   "id": "4ef84bd2",
   "metadata": {
    "scrolled": true
   },
   "outputs": [],
   "source": [
    "# bus_cats_groups_df_cut_lt4_cg = pd.merge(left=bus_cats_groups_df_cut_lt4, right=cg_df, on=['StateName','CountyName'], how='left')\n",
    "# bus_cats_groups_df_cut_lt4_cg.head()"
   ]
  },
  {
   "cell_type": "code",
   "execution_count": null,
   "id": "f0a3abea",
   "metadata": {},
   "outputs": [],
   "source": [
    "# bus_cats_groups_df_cut_lt4_cg.shape"
   ]
  },
  {
   "cell_type": "code",
   "execution_count": null,
   "id": "f4243671",
   "metadata": {
    "scrolled": false
   },
   "outputs": [],
   "source": [
    "#perhaps do the same with the other set of data\n",
    "# too slow when having rendered it\n",
    "\n",
    "# fig = go.Figure(\n",
    "#     data=go.Scattergeo(\n",
    "#         lon=bus_cats_groups_df_cut_lt4_cg['Longitude'],\n",
    "#         lat=bus_cats_groups_df_cut_lt4_cg['Latitude'],\n",
    "#         mode='markers',\n",
    "#         text = bus_cats_groups_df_cut_lt4_cg['abs_delta'].astype(str) , \n",
    "#         marker = dict(colorscale = 'Blues', color=bus_cats_groups_df_cut_lt4_cg['abs_delta'],colorbar = dict(\n",
    "#             titleside = \"top\",\n",
    "#             outlinecolor = \"rgba(68, 68, 68, 0)\",\n",
    "#             title = \"Estimated Abosute Population <br> change from previous year\"\n",
    "\n",
    "#         ))\n",
    "#     )\n",
    "# )\n",
    "# fig.update_layout(\n",
    "#     geo_scope='usa',\n",
    "#     title= 'Businesses specializing in >4 business category areas'\n",
    "# )\n",
    "# fig.show()"
   ]
  },
  {
   "cell_type": "markdown",
   "id": "c8831168",
   "metadata": {},
   "source": [
    "While these counties are not experiencing much growth so to speak this isn't something definitive on the basis of which we could discard them. This would be a question of looking at our original question and weighing the tradeoffs. \\\n",
    "Businesses with more than 3 categories don't provide much value at this point so we'll remove them."
   ]
  },
  {
   "cell_type": "code",
   "execution_count": 93,
   "id": "5244ca98",
   "metadata": {
    "scrolled": true
   },
   "outputs": [
    {
     "data": {
      "text/html": [
       "<div>\n",
       "<style scoped>\n",
       "    .dataframe tbody tr th:only-of-type {\n",
       "        vertical-align: middle;\n",
       "    }\n",
       "\n",
       "    .dataframe tbody tr th {\n",
       "        vertical-align: top;\n",
       "    }\n",
       "\n",
       "    .dataframe thead th {\n",
       "        text-align: right;\n",
       "    }\n",
       "</style>\n",
       "<table border=\"1\" class=\"dataframe\">\n",
       "  <thead>\n",
       "    <tr style=\"text-align: right;\">\n",
       "      <th></th>\n",
       "      <th>BusinessName</th>\n",
       "      <th>ChainName</th>\n",
       "      <th>BusinessRating</th>\n",
       "      <th>ReviewCount</th>\n",
       "      <th>previous_review_cnt</th>\n",
       "      <th>previous_rating</th>\n",
       "      <th>abs_review_diff</th>\n",
       "      <th>abs_rating_diff</th>\n",
       "      <th>total_review_cnt_delta</th>\n",
       "      <th>total_bus_rating_delta</th>\n",
       "      <th>CloseDate</th>\n",
       "      <th>cat_counts</th>\n",
       "    </tr>\n",
       "  </thead>\n",
       "  <tbody>\n",
       "    <tr>\n",
       "      <th>0</th>\n",
       "      <td>1-chinese-restaurant-coinjock</td>\n",
       "      <td>1 Chinese Restaurant</td>\n",
       "      <td>3.0</td>\n",
       "      <td>2</td>\n",
       "      <td>2.0</td>\n",
       "      <td>3.0</td>\n",
       "      <td>0.0</td>\n",
       "      <td>0.0</td>\n",
       "      <td>0.0</td>\n",
       "      <td>0.0</td>\n",
       "      <td>2022-02-09</td>\n",
       "      <td>1</td>\n",
       "    </tr>\n",
       "    <tr>\n",
       "      <th>1</th>\n",
       "      <td>1-cow-ten-sleep</td>\n",
       "      <td>1 Cow</td>\n",
       "      <td>4.5</td>\n",
       "      <td>6</td>\n",
       "      <td>6.0</td>\n",
       "      <td>4.5</td>\n",
       "      <td>0.0</td>\n",
       "      <td>0.0</td>\n",
       "      <td>0.0</td>\n",
       "      <td>0.0</td>\n",
       "      <td>2022-02-07</td>\n",
       "      <td>1</td>\n",
       "    </tr>\n",
       "    <tr>\n",
       "      <th>2</th>\n",
       "      <td>1-more-bar-and-grille-bright</td>\n",
       "      <td>1 More Bar &amp; Grille</td>\n",
       "      <td>4.0</td>\n",
       "      <td>9</td>\n",
       "      <td>9.0</td>\n",
       "      <td>4.0</td>\n",
       "      <td>0.0</td>\n",
       "      <td>0.0</td>\n",
       "      <td>0.0</td>\n",
       "      <td>0.0</td>\n",
       "      <td>2022-02-09</td>\n",
       "      <td>2</td>\n",
       "    </tr>\n",
       "    <tr>\n",
       "      <th>3</th>\n",
       "      <td>1-north-steakhouse-hampton-bays-2</td>\n",
       "      <td>1 North Steakhouse</td>\n",
       "      <td>4.0</td>\n",
       "      <td>149</td>\n",
       "      <td>149.0</td>\n",
       "      <td>4.0</td>\n",
       "      <td>0.0</td>\n",
       "      <td>0.0</td>\n",
       "      <td>2.0</td>\n",
       "      <td>0.0</td>\n",
       "      <td>2022-02-09</td>\n",
       "      <td>1</td>\n",
       "    </tr>\n",
       "    <tr>\n",
       "      <th>4</th>\n",
       "      <td>10-40-coffee-west-plains</td>\n",
       "      <td>10/40 Coffee</td>\n",
       "      <td>5.0</td>\n",
       "      <td>11</td>\n",
       "      <td>11.0</td>\n",
       "      <td>5.0</td>\n",
       "      <td>0.0</td>\n",
       "      <td>0.0</td>\n",
       "      <td>0.0</td>\n",
       "      <td>0.0</td>\n",
       "      <td>2022-02-09</td>\n",
       "      <td>1</td>\n",
       "    </tr>\n",
       "  </tbody>\n",
       "</table>\n",
       "</div>"
      ],
      "text/plain": [
       "                        BusinessName             ChainName  BusinessRating  \\\n",
       "0      1-chinese-restaurant-coinjock  1 Chinese Restaurant             3.0   \n",
       "1                    1-cow-ten-sleep                 1 Cow             4.5   \n",
       "2       1-more-bar-and-grille-bright   1 More Bar & Grille             4.0   \n",
       "3  1-north-steakhouse-hampton-bays-2    1 North Steakhouse             4.0   \n",
       "4           10-40-coffee-west-plains          10/40 Coffee             5.0   \n",
       "\n",
       "   ReviewCount  previous_review_cnt  previous_rating  abs_review_diff  \\\n",
       "0            2                  2.0              3.0              0.0   \n",
       "1            6                  6.0              4.5              0.0   \n",
       "2            9                  9.0              4.0              0.0   \n",
       "3          149                149.0              4.0              0.0   \n",
       "4           11                 11.0              5.0              0.0   \n",
       "\n",
       "   abs_rating_diff  total_review_cnt_delta  total_bus_rating_delta  \\\n",
       "0              0.0                     0.0                     0.0   \n",
       "1              0.0                     0.0                     0.0   \n",
       "2              0.0                     0.0                     0.0   \n",
       "3              0.0                     2.0                     0.0   \n",
       "4              0.0                     0.0                     0.0   \n",
       "\n",
       "    CloseDate  cat_counts  \n",
       "0  2022-02-09           1  \n",
       "1  2022-02-07           1  \n",
       "2  2022-02-09           2  \n",
       "3  2022-02-09           1  \n",
       "4  2022-02-09           1  "
      ]
     },
     "execution_count": 93,
     "metadata": {},
     "output_type": "execute_result"
    }
   ],
   "source": [
    "most_recent_bus_cats_df.head()"
   ]
  },
  {
   "cell_type": "code",
   "execution_count": 94,
   "id": "d9bc83d5",
   "metadata": {},
   "outputs": [
    {
     "data": {
      "text/plain": [
       "(63296, 12)"
      ]
     },
     "execution_count": 94,
     "metadata": {},
     "output_type": "execute_result"
    }
   ],
   "source": [
    "most_recent_bus_cats_df_lt_4 = most_recent_bus_cats_df[most_recent_bus_cats_df['cat_counts'] < 4]\n",
    "most_recent_bus_cats_df_lt_4.shape"
   ]
  },
  {
   "cell_type": "markdown",
   "id": "e9e1916f",
   "metadata": {},
   "source": [
    "Now we'll continue where we left off with the regression and this time get an equation for it to be able to predict the total review count changes over the observed period. In this analysis we won't be splitting the dataframe into a work set and holdout set due to the nature of our analysis."
   ]
  },
  {
   "cell_type": "code",
   "execution_count": 99,
   "id": "bb851692",
   "metadata": {},
   "outputs": [
    {
     "name": "stdout",
     "output_type": "stream",
     "text": [
      "<class 'pandas.core.frame.DataFrame'>\n",
      "Int64Index: 62746 entries, 0 to 63310\n",
      "Data columns (total 12 columns):\n",
      " #   Column                  Non-Null Count  Dtype   \n",
      "---  ------                  --------------  -----   \n",
      " 0   BusinessName            62746 non-null  object  \n",
      " 1   ChainName               62746 non-null  object  \n",
      " 2   BusinessRating          62746 non-null  float64 \n",
      " 3   ReviewCount             62746 non-null  int64   \n",
      " 4   previous_review_cnt     62746 non-null  float64 \n",
      " 5   previous_rating         62746 non-null  float64 \n",
      " 6   abs_review_diff         62746 non-null  float64 \n",
      " 7   abs_rating_diff         62746 non-null  float64 \n",
      " 8   total_review_cnt_delta  62746 non-null  float64 \n",
      " 9   total_bus_rating_delta  62746 non-null  float64 \n",
      " 10  CloseDate               62746 non-null  category\n",
      " 11  cat_counts              62746 non-null  int64   \n",
      "dtypes: category(1), float64(7), int64(2), object(2)\n",
      "memory usage: 5.8+ MB\n"
     ]
    }
   ],
   "source": [
    "most_recent_bus_cats_df_not_na = most_recent_bus_cats_df[most_recent_bus_cats_df['total_review_cnt_delta'].notna()]\n",
    "most_recent_bus_cats_df_not_na.info()"
   ]
  },
  {
   "cell_type": "code",
   "execution_count": 129,
   "id": "1c8f359a",
   "metadata": {},
   "outputs": [
    {
     "name": "stderr",
     "output_type": "stream",
     "text": [
      "/mnt/c/Users/Ron/git-repos/data-analysis-business-economics-policy/da_venv/lib/python3.8/site-packages/statsmodels/tsa/tsatools.py:142: FutureWarning:\n",
      "\n",
      "In a future version of pandas all arguments of concat except for the argument 'objs' will be keyword-only\n",
      "\n"
     ]
    }
   ],
   "source": [
    "X = sm.add_constant(most_recent_bus_cats_df_not_na['cat_counts'])\n",
    "y = most_recent_bus_cats_df_not_na['total_review_cnt_delta']\n",
    "univariate_lin_model = sm.OLS(Y, X)\n",
    "results = univariate_lin_model.fit(cov_type='HC1')"
   ]
  },
  {
   "cell_type": "code",
   "execution_count": 130,
   "id": "e683e1dd",
   "metadata": {
    "scrolled": false
   },
   "outputs": [
    {
     "data": {
      "text/html": [
       "<table class=\"simpletable\">\n",
       "<caption>OLS Regression Results</caption>\n",
       "<tr>\n",
       "  <th>Dep. Variable:</th>    <td>total_review_cnt_delta</td> <th>  R-squared:         </th>  <td>   0.015</td>  \n",
       "</tr>\n",
       "<tr>\n",
       "  <th>Model:</th>                      <td>OLS</td>          <th>  Adj. R-squared:    </th>  <td>   0.015</td>  \n",
       "</tr>\n",
       "<tr>\n",
       "  <th>Method:</th>                <td>Least Squares</td>     <th>  F-statistic:       </th>  <td>   882.0</td>  \n",
       "</tr>\n",
       "<tr>\n",
       "  <th>Date:</th>                <td>Tue, 22 Feb 2022</td>    <th>  Prob (F-statistic):</th>  <td>1.74e-192</td> \n",
       "</tr>\n",
       "<tr>\n",
       "  <th>Time:</th>                    <td>15:56:48</td>        <th>  Log-Likelihood:    </th> <td>-1.7976e+05</td>\n",
       "</tr>\n",
       "<tr>\n",
       "  <th>No. Observations:</th>         <td> 62746</td>         <th>  AIC:               </th>  <td>3.595e+05</td> \n",
       "</tr>\n",
       "<tr>\n",
       "  <th>Df Residuals:</th>             <td> 62744</td>         <th>  BIC:               </th>  <td>3.595e+05</td> \n",
       "</tr>\n",
       "<tr>\n",
       "  <th>Df Model:</th>                 <td>     1</td>         <th>                     </th>      <td> </td>     \n",
       "</tr>\n",
       "<tr>\n",
       "  <th>Covariance Type:</th>            <td>HC1</td>          <th>                     </th>      <td> </td>     \n",
       "</tr>\n",
       "</table>\n",
       "<table class=\"simpletable\">\n",
       "<tr>\n",
       "       <td></td>         <th>coef</th>     <th>std err</th>      <th>z</th>      <th>P>|z|</th>  <th>[0.025</th>    <th>0.975]</th>  \n",
       "</tr>\n",
       "<tr>\n",
       "  <th>const</th>      <td>    0.3555</td> <td>    0.035</td> <td>   10.232</td> <td> 0.000</td> <td>    0.287</td> <td>    0.424</td>\n",
       "</tr>\n",
       "<tr>\n",
       "  <th>cat_counts</th> <td>    0.6005</td> <td>    0.020</td> <td>   29.699</td> <td> 0.000</td> <td>    0.561</td> <td>    0.640</td>\n",
       "</tr>\n",
       "</table>\n",
       "<table class=\"simpletable\">\n",
       "<tr>\n",
       "  <th>Omnibus:</th>       <td>96141.851</td> <th>  Durbin-Watson:     </th>   <td>   1.825</td>  \n",
       "</tr>\n",
       "<tr>\n",
       "  <th>Prob(Omnibus):</th>  <td> 0.000</td>   <th>  Jarque-Bera (JB):  </th> <td>79135338.931</td>\n",
       "</tr>\n",
       "<tr>\n",
       "  <th>Skew:</th>           <td> 9.494</td>   <th>  Prob(JB):          </th>   <td>    0.00</td>  \n",
       "</tr>\n",
       "<tr>\n",
       "  <th>Kurtosis:</th>       <td>175.940</td>  <th>  Cond. No.          </th>   <td>    6.50</td>  \n",
       "</tr>\n",
       "</table><br/><br/>Notes:<br/>[1] Standard Errors are heteroscedasticity robust (HC1)"
      ],
      "text/plain": [
       "<class 'statsmodels.iolib.summary.Summary'>\n",
       "\"\"\"\n",
       "                              OLS Regression Results                              \n",
       "==================================================================================\n",
       "Dep. Variable:     total_review_cnt_delta   R-squared:                       0.015\n",
       "Model:                                OLS   Adj. R-squared:                  0.015\n",
       "Method:                     Least Squares   F-statistic:                     882.0\n",
       "Date:                    Tue, 22 Feb 2022   Prob (F-statistic):          1.74e-192\n",
       "Time:                            15:56:48   Log-Likelihood:            -1.7976e+05\n",
       "No. Observations:                   62746   AIC:                         3.595e+05\n",
       "Df Residuals:                       62744   BIC:                         3.595e+05\n",
       "Df Model:                               1                                         \n",
       "Covariance Type:                      HC1                                         \n",
       "==============================================================================\n",
       "                 coef    std err          z      P>|z|      [0.025      0.975]\n",
       "------------------------------------------------------------------------------\n",
       "const          0.3555      0.035     10.232      0.000       0.287       0.424\n",
       "cat_counts     0.6005      0.020     29.699      0.000       0.561       0.640\n",
       "==============================================================================\n",
       "Omnibus:                    96141.851   Durbin-Watson:                   1.825\n",
       "Prob(Omnibus):                  0.000   Jarque-Bera (JB):         79135338.931\n",
       "Skew:                           9.494   Prob(JB):                         0.00\n",
       "Kurtosis:                     175.940   Cond. No.                         6.50\n",
       "==============================================================================\n",
       "\n",
       "Notes:\n",
       "[1] Standard Errors are heteroscedasticity robust (HC1)\n",
       "\"\"\""
      ]
     },
     "execution_count": 130,
     "metadata": {},
     "output_type": "execute_result"
    }
   ],
   "source": [
    "results.summary()"
   ]
  },
  {
   "cell_type": "code",
   "execution_count": null,
   "id": "a0d6e34f",
   "metadata": {},
   "outputs": [],
   "source": []
  },
  {
   "cell_type": "code",
   "execution_count": null,
   "id": "c5805dfe",
   "metadata": {},
   "outputs": [],
   "source": []
  },
  {
   "cell_type": "code",
   "execution_count": 131,
   "id": "d52377e5",
   "metadata": {},
   "outputs": [
    {
     "data": {
      "text/plain": [
       "0        0.955956\n",
       "1        0.955956\n",
       "2        1.556409\n",
       "3        0.955956\n",
       "4        0.955956\n",
       "           ...   \n",
       "63306    1.556409\n",
       "63307    0.955956\n",
       "63308    0.955956\n",
       "63309    1.556409\n",
       "63310    0.955956\n",
       "Length: 62746, dtype: float64"
      ]
     },
     "execution_count": 131,
     "metadata": {},
     "output_type": "execute_result"
    }
   ],
   "source": [
    "#make sure to add constant when predicting as well\n",
    "univariate_lin_model_predictions = results.predict(X)\n",
    "univariate_lin_model_predictions"
   ]
  },
  {
   "cell_type": "code",
   "execution_count": 134,
   "id": "1c12b5dd",
   "metadata": {},
   "outputs": [],
   "source": [
    "univariate_lin_model_predictions_variance = ((univariate_lin_model_predictions - univariate_lin_model_predictions.mean()) ** 2).sum() / univariate_lin_model_predictions.shape[0]\n",
    "y_variance = ((y - y.mean()) ** 2).sum() / y.shape[0]"
   ]
  },
  {
   "cell_type": "code",
   "execution_count": 137,
   "id": "8e98fbf5",
   "metadata": {
    "scrolled": true
   },
   "outputs": [
    {
     "data": {
      "text/plain": [
       "0.014632235702369167"
      ]
     },
     "execution_count": 137,
     "metadata": {},
     "output_type": "execute_result"
    }
   ],
   "source": [
    "univariate_lin_model_rsquared = univariate_lin_model_predictions_variance / y_variance\n",
    "univariate_lin_model_rsquared"
   ]
  },
  {
   "cell_type": "code",
   "execution_count": 138,
   "id": "ca389633",
   "metadata": {},
   "outputs": [
    {
     "data": {
      "text/plain": [
       "0       -0.955956\n",
       "1       -0.955956\n",
       "2       -1.556409\n",
       "3        1.044044\n",
       "4       -0.955956\n",
       "           ...   \n",
       "63306   -1.556409\n",
       "63307   -0.955956\n",
       "63308    2.044044\n",
       "63309   -1.556409\n",
       "63310   -0.955956\n",
       "Length: 62746, dtype: float64"
      ]
     },
     "execution_count": 138,
     "metadata": {},
     "output_type": "execute_result"
    }
   ],
   "source": [
    "residuals = y - univariate_lin_model_predictions\n",
    "residuals"
   ]
  },
  {
   "cell_type": "code",
   "execution_count": 140,
   "id": "2ed901c0",
   "metadata": {
    "scrolled": true
   },
   "outputs": [
    {
     "data": {
      "text/plain": [
       "0.014632235702369267"
      ]
     },
     "execution_count": 140,
     "metadata": {},
     "output_type": "execute_result"
    }
   ],
   "source": [
    "residuals_var = ((residuals - residuals.mean()) ** 2).sum() / residuals.shape[0]\n",
    "univariate_lin_model_rsquared_2 = 1 - (residuals_var / y_variance)\n",
    "univariate_lin_model_rsquared_2"
   ]
  }
 ],
 "metadata": {
  "kernelspec": {
   "display_name": "Python 3 (ipykernel)",
   "language": "python",
   "name": "python3"
  },
  "language_info": {
   "codemirror_mode": {
    "name": "ipython",
    "version": 3
   },
   "file_extension": ".py",
   "mimetype": "text/x-python",
   "name": "python",
   "nbconvert_exporter": "python",
   "pygments_lexer": "ipython3",
   "version": "3.8.10"
  }
 },
 "nbformat": 4,
 "nbformat_minor": 5
}
