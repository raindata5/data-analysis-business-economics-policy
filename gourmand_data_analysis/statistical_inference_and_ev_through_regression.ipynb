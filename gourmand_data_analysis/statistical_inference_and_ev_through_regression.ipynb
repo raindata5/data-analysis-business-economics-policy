{
 "cells": [
  {
   "cell_type": "code",
   "execution_count": 35,
   "id": "800218a9",
   "metadata": {},
   "outputs": [
    {
     "data": {
      "text/plain": [
       "<module 'packages.utils' from '/mnt/c/Users/Ron/git-repos/data-analysis-business-economics-policy/gourmand_data_analysis/../packages/utils.py'>"
      ]
     },
     "execution_count": 35,
     "metadata": {},
     "output_type": "execute_result"
    }
   ],
   "source": [
    "import pandas as pd\n",
    "import statsmodels.api as sm\n",
    "import matplotlib.pyplot as plt\n",
    "import seaborn as sns\n",
    "import numpy as np\n",
    "import sys\n",
    "sys.path.append('..')\n",
    "from packages import utils\n",
    "import importlib\n",
    "importlib.reload(utils)"
   ]
  },
  {
   "cell_type": "code",
   "execution_count": 12,
   "id": "86e4f2c7",
   "metadata": {},
   "outputs": [],
   "source": [
    "cg_df = pd.read_parquet('cg_est', engine='pyarrow')\n",
    "bh_df: pd.DataFrame = pd.read_parquet('bus_holdings.snappy.parquet', engine='pyarrow')\n",
    "bus_cats_df = pd.read_parquet('bus_cats', engine='pyarrow')\n",
    "bt_df = pd.read_parquet('business_transactions.snappy.parquet', engine='pyarrow')"
   ]
  },
  {
   "cell_type": "markdown",
   "id": "5e062f7c",
   "metadata": {},
   "source": [
    "To go a bit further with our previous analysis we will just use a function to get the most recent businesses while also removing those with null values.\n",
    "> Note: Nulls are being removed since in the previous analysis there were less than 10 observations with such characteristics"
   ]
  },
  {
   "cell_type": "code",
   "execution_count": 40,
   "id": "d0834f78",
   "metadata": {
    "scrolled": true
   },
   "outputs": [
    {
     "data": {
      "text/html": [
       "<div>\n",
       "<style scoped>\n",
       "    .dataframe tbody tr th:only-of-type {\n",
       "        vertical-align: middle;\n",
       "    }\n",
       "\n",
       "    .dataframe tbody tr th {\n",
       "        vertical-align: top;\n",
       "    }\n",
       "\n",
       "    .dataframe thead th {\n",
       "        text-align: right;\n",
       "    }\n",
       "</style>\n",
       "<table border=\"1\" class=\"dataframe\">\n",
       "  <thead>\n",
       "    <tr style=\"text-align: right;\">\n",
       "      <th></th>\n",
       "      <th>BusinessKey</th>\n",
       "      <th>BusinessName_x</th>\n",
       "      <th>ChainName</th>\n",
       "      <th>BusinessRating</th>\n",
       "      <th>ReviewCount</th>\n",
       "      <th>previous_review_cnt</th>\n",
       "      <th>previous_rating</th>\n",
       "      <th>abs_review_diff</th>\n",
       "      <th>abs_rating_diff</th>\n",
       "      <th>total_review_cnt_delta</th>\n",
       "      <th>total_bus_rating_delta</th>\n",
       "      <th>CloseDate</th>\n",
       "      <th>BusinessName_y</th>\n",
       "      <th>transactioncounts</th>\n",
       "      <th>transactions_list</th>\n",
       "    </tr>\n",
       "  </thead>\n",
       "  <tbody>\n",
       "    <tr>\n",
       "      <th>0</th>\n",
       "      <td>53160</td>\n",
       "      <td>deutschlander-buffalo-gap-2</td>\n",
       "      <td>Deutschlander</td>\n",
       "      <td>4.0</td>\n",
       "      <td>37</td>\n",
       "      <td>37.0</td>\n",
       "      <td>4.000000000</td>\n",
       "      <td>0.0</td>\n",
       "      <td>0E-9</td>\n",
       "      <td>0.0</td>\n",
       "      <td>0E-9</td>\n",
       "      <td>2022-01-14</td>\n",
       "      <td>deutschlander-buffalo-gap-2</td>\n",
       "      <td>0</td>\n",
       "      <td>other</td>\n",
       "    </tr>\n",
       "    <tr>\n",
       "      <th>1</th>\n",
       "      <td>9203</td>\n",
       "      <td>sips-and-such-café-alma</td>\n",
       "      <td>Sips and Such Café</td>\n",
       "      <td>5.0</td>\n",
       "      <td>4</td>\n",
       "      <td>4.0</td>\n",
       "      <td>5.000000000</td>\n",
       "      <td>0.0</td>\n",
       "      <td>0E-9</td>\n",
       "      <td>0.0</td>\n",
       "      <td>0E-9</td>\n",
       "      <td>2022-01-14</td>\n",
       "      <td>sips-and-such-café-alma</td>\n",
       "      <td>0</td>\n",
       "      <td>other</td>\n",
       "    </tr>\n",
       "    <tr>\n",
       "      <th>2</th>\n",
       "      <td>27671</td>\n",
       "      <td>la-fuente-mexican-restaurant-meridian</td>\n",
       "      <td>La Fuente Mexican Restaurant</td>\n",
       "      <td>4.0</td>\n",
       "      <td>41</td>\n",
       "      <td>41.0</td>\n",
       "      <td>4.000000000</td>\n",
       "      <td>0.0</td>\n",
       "      <td>0E-9</td>\n",
       "      <td>0.0</td>\n",
       "      <td>0E-9</td>\n",
       "      <td>2022-01-28</td>\n",
       "      <td>la-fuente-mexican-restaurant-meridian</td>\n",
       "      <td>1</td>\n",
       "      <td>delivery</td>\n",
       "    </tr>\n",
       "    <tr>\n",
       "      <th>3</th>\n",
       "      <td>48461</td>\n",
       "      <td>red-oak-roasters-rickman-3</td>\n",
       "      <td>Red Oak Roasters</td>\n",
       "      <td>5.0</td>\n",
       "      <td>6</td>\n",
       "      <td>6.0</td>\n",
       "      <td>5.000000000</td>\n",
       "      <td>0.0</td>\n",
       "      <td>0E-9</td>\n",
       "      <td>1.0</td>\n",
       "      <td>0E-9</td>\n",
       "      <td>2022-02-06</td>\n",
       "      <td>red-oak-roasters-rickman-3</td>\n",
       "      <td>0</td>\n",
       "      <td>other</td>\n",
       "    </tr>\n",
       "    <tr>\n",
       "      <th>4</th>\n",
       "      <td>28381</td>\n",
       "      <td>arcadia-valley-roasting-company-ironton</td>\n",
       "      <td>Arcadia Valley Roasting Company</td>\n",
       "      <td>4.5</td>\n",
       "      <td>7</td>\n",
       "      <td>7.0</td>\n",
       "      <td>4.500000000</td>\n",
       "      <td>0.0</td>\n",
       "      <td>0E-9</td>\n",
       "      <td>0.0</td>\n",
       "      <td>0E-9</td>\n",
       "      <td>2022-02-07</td>\n",
       "      <td>arcadia-valley-roasting-company-ironton</td>\n",
       "      <td>0</td>\n",
       "      <td>other</td>\n",
       "    </tr>\n",
       "    <tr>\n",
       "      <th>...</th>\n",
       "      <td>...</td>\n",
       "      <td>...</td>\n",
       "      <td>...</td>\n",
       "      <td>...</td>\n",
       "      <td>...</td>\n",
       "      <td>...</td>\n",
       "      <td>...</td>\n",
       "      <td>...</td>\n",
       "      <td>...</td>\n",
       "      <td>...</td>\n",
       "      <td>...</td>\n",
       "      <td>...</td>\n",
       "      <td>...</td>\n",
       "      <td>...</td>\n",
       "      <td>...</td>\n",
       "    </tr>\n",
       "    <tr>\n",
       "      <th>63308</th>\n",
       "      <td>23543</td>\n",
       "      <td>zzs-sports-bar-and-grill-adrian</td>\n",
       "      <td>ZZ's Sports Bar &amp; Grill</td>\n",
       "      <td>3.5</td>\n",
       "      <td>10</td>\n",
       "      <td>10.0</td>\n",
       "      <td>3.500000000</td>\n",
       "      <td>0.0</td>\n",
       "      <td>0E-9</td>\n",
       "      <td>-60.0</td>\n",
       "      <td>0E-9</td>\n",
       "      <td>2022-02-27</td>\n",
       "      <td>zzs-sports-bar-and-grill-adrian</td>\n",
       "      <td>0</td>\n",
       "      <td>other</td>\n",
       "    </tr>\n",
       "    <tr>\n",
       "      <th>63309</th>\n",
       "      <td>5467</td>\n",
       "      <td>zzzz-s-pizzzza-burlington</td>\n",
       "      <td>ZZZZ’s PIzzzza</td>\n",
       "      <td>5.0</td>\n",
       "      <td>1</td>\n",
       "      <td>1.0</td>\n",
       "      <td>5.000000000</td>\n",
       "      <td>0.0</td>\n",
       "      <td>0E-9</td>\n",
       "      <td>-1.0</td>\n",
       "      <td>0.500000000</td>\n",
       "      <td>2022-02-27</td>\n",
       "      <td>zzzz-s-pizzzza-burlington</td>\n",
       "      <td>0</td>\n",
       "      <td>other</td>\n",
       "    </tr>\n",
       "    <tr>\n",
       "      <th>63310</th>\n",
       "      <td>13045</td>\n",
       "      <td>àlavita-boise-2</td>\n",
       "      <td>ÀLAVITA</td>\n",
       "      <td>4.0</td>\n",
       "      <td>308</td>\n",
       "      <td>309.0</td>\n",
       "      <td>4.000000000</td>\n",
       "      <td>-1.0</td>\n",
       "      <td>0E-9</td>\n",
       "      <td>55.0</td>\n",
       "      <td>-0.500000000</td>\n",
       "      <td>2022-02-27</td>\n",
       "      <td>àlavita-boise-2</td>\n",
       "      <td>1</td>\n",
       "      <td>delivery</td>\n",
       "    </tr>\n",
       "    <tr>\n",
       "      <th>63311</th>\n",
       "      <td>44974</td>\n",
       "      <td>ándale-caguas-2</td>\n",
       "      <td>Ándale</td>\n",
       "      <td>5.0</td>\n",
       "      <td>3</td>\n",
       "      <td>3.0</td>\n",
       "      <td>5.000000000</td>\n",
       "      <td>0.0</td>\n",
       "      <td>0E-9</td>\n",
       "      <td>0.0</td>\n",
       "      <td>0E-9</td>\n",
       "      <td>2022-02-27</td>\n",
       "      <td>ándale-caguas-2</td>\n",
       "      <td>0</td>\n",
       "      <td>other</td>\n",
       "    </tr>\n",
       "    <tr>\n",
       "      <th>63312</th>\n",
       "      <td>6879</td>\n",
       "      <td>él-torito-restaurant-georgetown</td>\n",
       "      <td>Él Torito Restaurant</td>\n",
       "      <td>4.0</td>\n",
       "      <td>2</td>\n",
       "      <td>2.0</td>\n",
       "      <td>4.000000000</td>\n",
       "      <td>0.0</td>\n",
       "      <td>0E-9</td>\n",
       "      <td>-2.0</td>\n",
       "      <td>1.000000000</td>\n",
       "      <td>2022-02-27</td>\n",
       "      <td>él-torito-restaurant-georgetown</td>\n",
       "      <td>0</td>\n",
       "      <td>other</td>\n",
       "    </tr>\n",
       "  </tbody>\n",
       "</table>\n",
       "<p>63313 rows × 15 columns</p>\n",
       "</div>"
      ],
      "text/plain": [
       "       BusinessKey                           BusinessName_x  \\\n",
       "0            53160              deutschlander-buffalo-gap-2   \n",
       "1             9203                  sips-and-such-café-alma   \n",
       "2            27671    la-fuente-mexican-restaurant-meridian   \n",
       "3            48461               red-oak-roasters-rickman-3   \n",
       "4            28381  arcadia-valley-roasting-company-ironton   \n",
       "...            ...                                      ...   \n",
       "63308        23543          zzs-sports-bar-and-grill-adrian   \n",
       "63309         5467                zzzz-s-pizzzza-burlington   \n",
       "63310        13045                          àlavita-boise-2   \n",
       "63311        44974                          ándale-caguas-2   \n",
       "63312         6879          él-torito-restaurant-georgetown   \n",
       "\n",
       "                             ChainName  BusinessRating  ReviewCount  \\\n",
       "0                        Deutschlander             4.0           37   \n",
       "1                   Sips and Such Café             5.0            4   \n",
       "2         La Fuente Mexican Restaurant             4.0           41   \n",
       "3                     Red Oak Roasters             5.0            6   \n",
       "4      Arcadia Valley Roasting Company             4.5            7   \n",
       "...                                ...             ...          ...   \n",
       "63308          ZZ's Sports Bar & Grill             3.5           10   \n",
       "63309                   ZZZZ’s PIzzzza             5.0            1   \n",
       "63310                          ÀLAVITA             4.0          308   \n",
       "63311                           Ándale             5.0            3   \n",
       "63312             Él Torito Restaurant             4.0            2   \n",
       "\n",
       "       previous_review_cnt previous_rating  abs_review_diff abs_rating_diff  \\\n",
       "0                     37.0     4.000000000              0.0            0E-9   \n",
       "1                      4.0     5.000000000              0.0            0E-9   \n",
       "2                     41.0     4.000000000              0.0            0E-9   \n",
       "3                      6.0     5.000000000              0.0            0E-9   \n",
       "4                      7.0     4.500000000              0.0            0E-9   \n",
       "...                    ...             ...              ...             ...   \n",
       "63308                 10.0     3.500000000              0.0            0E-9   \n",
       "63309                  1.0     5.000000000              0.0            0E-9   \n",
       "63310                309.0     4.000000000             -1.0            0E-9   \n",
       "63311                  3.0     5.000000000              0.0            0E-9   \n",
       "63312                  2.0     4.000000000              0.0            0E-9   \n",
       "\n",
       "       total_review_cnt_delta total_bus_rating_delta   CloseDate  \\\n",
       "0                         0.0                   0E-9  2022-01-14   \n",
       "1                         0.0                   0E-9  2022-01-14   \n",
       "2                         0.0                   0E-9  2022-01-28   \n",
       "3                         1.0                   0E-9  2022-02-06   \n",
       "4                         0.0                   0E-9  2022-02-07   \n",
       "...                       ...                    ...         ...   \n",
       "63308                   -60.0                   0E-9  2022-02-27   \n",
       "63309                    -1.0            0.500000000  2022-02-27   \n",
       "63310                    55.0           -0.500000000  2022-02-27   \n",
       "63311                     0.0                   0E-9  2022-02-27   \n",
       "63312                    -2.0            1.000000000  2022-02-27   \n",
       "\n",
       "                                BusinessName_y  transactioncounts  \\\n",
       "0                  deutschlander-buffalo-gap-2                  0   \n",
       "1                      sips-and-such-café-alma                  0   \n",
       "2        la-fuente-mexican-restaurant-meridian                  1   \n",
       "3                   red-oak-roasters-rickman-3                  0   \n",
       "4      arcadia-valley-roasting-company-ironton                  0   \n",
       "...                                        ...                ...   \n",
       "63308          zzs-sports-bar-and-grill-adrian                  0   \n",
       "63309                zzzz-s-pizzzza-burlington                  0   \n",
       "63310                          àlavita-boise-2                  1   \n",
       "63311                          ándale-caguas-2                  0   \n",
       "63312          él-torito-restaurant-georgetown                  0   \n",
       "\n",
       "      transactions_list  \n",
       "0                 other  \n",
       "1                 other  \n",
       "2              delivery  \n",
       "3                 other  \n",
       "4                 other  \n",
       "...                 ...  \n",
       "63308             other  \n",
       "63309             other  \n",
       "63310          delivery  \n",
       "63311             other  \n",
       "63312             other  \n",
       "\n",
       "[63313 rows x 15 columns]"
      ]
     },
     "execution_count": 40,
     "metadata": {},
     "output_type": "execute_result"
    }
   ],
   "source": [
    "most_recent_bh_tran_df = utils.most_recent_businesses_df(df1 = bh_df, df2= bt_df, on= 'BusinessKey', remove_na=True)\n",
    "most_recent_bh_tran_df"
   ]
  },
  {
   "cell_type": "markdown",
   "id": "9283911a",
   "metadata": {},
   "source": [
    "In the last analysis we decided to a higher-order polynomial of `BusinessRating` due to the following informative visualization."
   ]
  },
  {
   "cell_type": "code",
   "execution_count": 44,
   "id": "6406f368",
   "metadata": {},
   "outputs": [
    {
     "name": "stderr",
     "output_type": "stream",
     "text": [
      "/mnt/c/Users/Ron/git-repos/data-analysis-business-economics-policy/da_venv/lib/python3.8/site-packages/pandas/core/indexing.py:1667: SettingWithCopyWarning: \n",
      "A value is trying to be set on a copy of a slice from a DataFrame.\n",
      "Try using .loc[row_indexer,col_indexer] = value instead\n",
      "\n",
      "See the caveats in the documentation: https://pandas.pydata.org/pandas-docs/stable/user_guide/indexing.html#returning-a-view-versus-a-copy\n",
      "  self.obj[key] = value\n"
     ]
    },
    {
     "data": {
      "text/plain": [
       "Text(0.5, 1.0, 'higher-order polynomial of explanatory variable')"
      ]
     },
     "execution_count": 44,
     "metadata": {},
     "output_type": "execute_result"
    },
    {
     "data": {
      "image/png": "[encoded data removed]",
      "text/plain": [
       "<Figure size 1080x720 with 1 Axes>"
      ]
     },
     "metadata": {},
     "output_type": "display_data"
    }
   ],
   "source": [
    "most_recent_bh_tran_sin_cero_df = most_recent_bh_tran_df[most_recent_bh_tran_df['ReviewCount'] > 0 ]\n",
    "most_recent_bh_tran_sin_cero_df.loc[:, 'ln_review_count'] = np.log(most_recent_bh_tran_sin_cero_df['ReviewCount'])\n",
    "sns.set_theme()\n",
    "plt.figure(figsize=(15, 10))\n",
    "sns.regplot(\n",
    "    x=most_recent_bh_tran_sin_cero_df['BusinessRating'],\n",
    "    y=most_recent_bh_tran_sin_cero_df['ln_review_count'], x_jitter=.10, order=2,\n",
    "    line_kws={'color':'cyan'})\n",
    "\n",
    "plt.title('higher-order polynomial of explanatory variable')"
   ]
  },
  {
   "cell_type": "markdown",
   "id": "0c811d40",
   "metadata": {},
   "source": [
    "We also estimated the fit of the regression with OLS and got better results after having taken the square compared to not having taken it and also the natural log of `ReviewCount`."
   ]
  },
  {
   "cell_type": "code",
   "execution_count": 79,
   "id": "cacdf682",
   "metadata": {
    "scrolled": true
   },
   "outputs": [
    {
     "name": "stderr",
     "output_type": "stream",
     "text": [
      "/mnt/c/Users/Ron/git-repos/data-analysis-business-economics-policy/da_venv/lib/python3.8/site-packages/pandas/core/indexing.py:1667: SettingWithCopyWarning: \n",
      "A value is trying to be set on a copy of a slice from a DataFrame.\n",
      "Try using .loc[row_indexer,col_indexer] = value instead\n",
      "\n",
      "See the caveats in the documentation: https://pandas.pydata.org/pandas-docs/stable/user_guide/indexing.html#returning-a-view-versus-a-copy\n",
      "  self.obj[key] = value\n",
      "/mnt/c/Users/Ron/git-repos/data-analysis-business-economics-policy/da_venv/lib/python3.8/site-packages/statsmodels/tsa/tsatools.py:142: FutureWarning: In a future version of pandas all arguments of concat except for the argument 'objs' will be keyword-only\n",
      "  x = pd.concat(x[::order], 1)\n"
     ]
    },
    {
     "data": {
      "text/html": [
       "<table class=\"simpletable\">\n",
       "<caption>OLS Regression Results</caption>\n",
       "<tr>\n",
       "  <th>Dep. Variable:</th>     <td>ln_review_count</td> <th>  R-squared:         </th>  <td>   0.127</td>  \n",
       "</tr>\n",
       "<tr>\n",
       "  <th>Model:</th>                   <td>OLS</td>       <th>  Adj. R-squared:    </th>  <td>   0.127</td>  \n",
       "</tr>\n",
       "<tr>\n",
       "  <th>Method:</th>             <td>Least Squares</td>  <th>  F-statistic:       </th>  <td>   6495.</td>  \n",
       "</tr>\n",
       "<tr>\n",
       "  <th>Date:</th>             <td>Thu, 03 Mar 2022</td> <th>  Prob (F-statistic):</th>   <td>  0.00</td>   \n",
       "</tr>\n",
       "<tr>\n",
       "  <th>Time:</th>                 <td>13:57:24</td>     <th>  Log-Likelihood:    </th> <td>-1.2278e+05</td>\n",
       "</tr>\n",
       "<tr>\n",
       "  <th>No. Observations:</th>      <td> 63307</td>      <th>  AIC:               </th>  <td>2.456e+05</td> \n",
       "</tr>\n",
       "<tr>\n",
       "  <th>Df Residuals:</th>          <td> 63304</td>      <th>  BIC:               </th>  <td>2.456e+05</td> \n",
       "</tr>\n",
       "<tr>\n",
       "  <th>Df Model:</th>              <td>     2</td>      <th>                     </th>      <td> </td>     \n",
       "</tr>\n",
       "<tr>\n",
       "  <th>Covariance Type:</th>         <td>HC1</td>       <th>                     </th>      <td> </td>     \n",
       "</tr>\n",
       "</table>\n",
       "<table class=\"simpletable\">\n",
       "<tr>\n",
       "             <td></td>               <th>coef</th>     <th>std err</th>      <th>z</th>      <th>P>|z|</th>  <th>[0.025</th>    <th>0.975]</th>  \n",
       "</tr>\n",
       "<tr>\n",
       "  <th>const</th>                  <td>   -4.2646</td> <td>    0.067</td> <td>  -63.979</td> <td> 0.000</td> <td>   -4.395</td> <td>   -4.134</td>\n",
       "</tr>\n",
       "<tr>\n",
       "  <th>BusinessRating_squared</th> <td>   -0.5754</td> <td>    0.006</td> <td>  -93.466</td> <td> 0.000</td> <td>   -0.587</td> <td>   -0.563</td>\n",
       "</tr>\n",
       "<tr>\n",
       "  <th>BusinessRating</th>         <td>    4.2702</td> <td>    0.041</td> <td>  103.253</td> <td> 0.000</td> <td>    4.189</td> <td>    4.351</td>\n",
       "</tr>\n",
       "</table>\n",
       "<table class=\"simpletable\">\n",
       "<tr>\n",
       "  <th>Omnibus:</th>       <td>941.995</td> <th>  Durbin-Watson:     </th> <td>   1.693</td> \n",
       "</tr>\n",
       "<tr>\n",
       "  <th>Prob(Omnibus):</th> <td> 0.000</td>  <th>  Jarque-Bera (JB):  </th> <td> 595.992</td> \n",
       "</tr>\n",
       "<tr>\n",
       "  <th>Skew:</th>          <td> 0.091</td>  <th>  Prob(JB):          </th> <td>3.82e-130</td>\n",
       "</tr>\n",
       "<tr>\n",
       "  <th>Kurtosis:</th>      <td> 2.561</td>  <th>  Cond. No.          </th> <td>    240.</td> \n",
       "</tr>\n",
       "</table><br/><br/>Notes:<br/>[1] Standard Errors are heteroscedasticity robust (HC1)"
      ],
      "text/plain": [
       "<class 'statsmodels.iolib.summary.Summary'>\n",
       "\"\"\"\n",
       "                            OLS Regression Results                            \n",
       "==============================================================================\n",
       "Dep. Variable:        ln_review_count   R-squared:                       0.127\n",
       "Model:                            OLS   Adj. R-squared:                  0.127\n",
       "Method:                 Least Squares   F-statistic:                     6495.\n",
       "Date:                Thu, 03 Mar 2022   Prob (F-statistic):               0.00\n",
       "Time:                        13:57:24   Log-Likelihood:            -1.2278e+05\n",
       "No. Observations:               63307   AIC:                         2.456e+05\n",
       "Df Residuals:                   63304   BIC:                         2.456e+05\n",
       "Df Model:                           2                                         \n",
       "Covariance Type:                  HC1                                         \n",
       "==========================================================================================\n",
       "                             coef    std err          z      P>|z|      [0.025      0.975]\n",
       "------------------------------------------------------------------------------------------\n",
       "const                     -4.2646      0.067    -63.979      0.000      -4.395      -4.134\n",
       "BusinessRating_squared    -0.5754      0.006    -93.466      0.000      -0.587      -0.563\n",
       "BusinessRating             4.2702      0.041    103.253      0.000       4.189       4.351\n",
       "==============================================================================\n",
       "Omnibus:                      941.995   Durbin-Watson:                   1.693\n",
       "Prob(Omnibus):                  0.000   Jarque-Bera (JB):              595.992\n",
       "Skew:                           0.091   Prob(JB):                    3.82e-130\n",
       "Kurtosis:                       2.561   Cond. No.                         240.\n",
       "==============================================================================\n",
       "\n",
       "Notes:\n",
       "[1] Standard Errors are heteroscedasticity robust (HC1)\n",
       "\"\"\""
      ]
     },
     "execution_count": 79,
     "metadata": {},
     "output_type": "execute_result"
    }
   ],
   "source": [
    "most_recent_bh_tran_sin_cero_df.loc[:, 'BusinessRating_squared'] = most_recent_bh_tran_sin_cero_df.loc[:, 'BusinessRating'] ** 2\n",
    "X_br_brsquared = most_recent_bh_tran_sin_cero_df.loc[:, ['BusinessRating_squared', 'BusinessRating']]\n",
    "X_br_brsquared_with_constant = sm.add_constant(X_br_brsquared)\n",
    "y = most_recent_bh_tran_sin_cero_df['ln_review_count']\n",
    "univariate_lin_model_rc_br = sm.OLS(y, X_br_brsquared_with_constant)\n",
    "univariate_lin_model_rc_br_results = univariate_lin_model_rc_br.fit(cov_type='HC1')\n",
    "univariate_lin_model_rc_br_results.summary()"
   ]
  },
  {
   "cell_type": "markdown",
   "id": "b344460c",
   "metadata": {},
   "source": [
    "One effective method of helping to assure that this is a good path to take, is to visualize the regressions with their confidence intervals."
   ]
  },
  {
   "cell_type": "code",
   "execution_count": 63,
   "id": "54936deb",
   "metadata": {
    "scrolled": false
   },
   "outputs": [
    {
     "data": {
      "text/plain": [
       "Text(0.5, 1.0, \"CI's of various plots\")"
      ]
     },
     "execution_count": 63,
     "metadata": {},
     "output_type": "execute_result"
    },
    {
     "data": {
      "image/png": "[encoded data removed]",
      "text/plain": [
       "<Figure size 1080x720 with 1 Axes>"
      ]
     },
     "metadata": {},
     "output_type": "display_data"
    }
   ],
   "source": [
    "sns.set_theme()\n",
    "fig, ax = plt.subplots(1, 1, figsize=(15, 10))\n",
    "sns.regplot(\n",
    "    x=most_recent_bh_tran_sin_cero_df['BusinessRating'],\n",
    "    y=most_recent_bh_tran_sin_cero_df['ln_review_count'], order=2,scatter=False, ci=99, n_boot=1000,\n",
    "    line_kws={'color':'cyan'}, label= \"Quadratic\", ax=ax)\n",
    "\n",
    "sns.regplot(\n",
    "    x=most_recent_bh_tran_sin_cero_df['BusinessRating'],\n",
    "    y=most_recent_bh_tran_sin_cero_df['ln_review_count'], scatter=False, ci=99, n_boot=1000,\n",
    "    line_kws={'color':'red', 'linestyle': ':'}, label=\"w/o additional trans.\",  ax=ax)\n",
    "\n",
    "sns.regplot(\n",
    "    x=most_recent_bh_tran_sin_cero_df['BusinessRating'],\n",
    "    y=most_recent_bh_tran_sin_cero_df['ln_review_count'], scatter=False,\n",
    "    line_kws={'color':'green', 'linestyle': '--'}, lowess=True, label=\"lowess\",  ax=ax)\n",
    "plt.legend()\n",
    "plt.title('CI\\'s of various plots')"
   ]
  },
  {
   "cell_type": "markdown",
   "id": "afdec157",
   "metadata": {},
   "source": [
    "It turns out here that the confidence intervals are rather small so there's no indication of much overlap specifically between the normal linear regression and the quadratic. However we can be observe that the quadratic does a much better job of approximating the lowess regression so that itself is a good sign that the quadratic is more effective."
   ]
  },
  {
   "cell_type": "code",
   "execution_count": 64,
   "id": "8a2b13c4",
   "metadata": {},
   "outputs": [
    {
     "ename": "ModuleNotFoundError",
     "evalue": "No module named 'stargazer'",
     "output_type": "error",
     "traceback": [
      "\u001b[0;31m---------------------------------------------------------------------------\u001b[0m",
      "\u001b[0;31mModuleNotFoundError\u001b[0m                       Traceback (most recent call last)",
      "\u001b[0;32m/tmp/ipykernel_1846/2187491916.py\u001b[0m in \u001b[0;36m<module>\u001b[0;34m\u001b[0m\n\u001b[0;32m----> 1\u001b[0;31m \u001b[0;32mfrom\u001b[0m \u001b[0mstargazer\u001b[0m\u001b[0;34m.\u001b[0m\u001b[0mstargazer\u001b[0m \u001b[0;32mimport\u001b[0m \u001b[0mStargazer\u001b[0m\u001b[0;34m\u001b[0m\u001b[0;34m\u001b[0m\u001b[0m\n\u001b[0m",
      "\u001b[0;31mModuleNotFoundError\u001b[0m: No module named 'stargazer'"
     ]
    }
   ],
   "source": [
    "from stargazer.stargazer import Stargazer"
   ]
  },
  {
   "cell_type": "markdown",
   "id": "85cad5b5",
   "metadata": {},
   "source": [
    "We may arrive at the question of \"Is there even a difference in the population between the two slope coefficients in our equation?\". There are two approaches to answering this question : Reviewing the confidence intervals and the doing a more formal hypothesis test with bootstrap."
   ]
  },
  {
   "cell_type": "code",
   "execution_count": 68,
   "id": "9c899144",
   "metadata": {
    "scrolled": false
   },
   "outputs": [
    {
     "data": {
      "text/html": [
       "<table class=\"simpletable\">\n",
       "<tr>\n",
       "        <td>Model:</td>               <td>OLS</td>         <td>Adj. R-squared:</td>      <td>0.127</td>   \n",
       "</tr>\n",
       "<tr>\n",
       "  <td>Dependent Variable:</td>  <td>ln_review_count</td>        <td>AIC:</td>         <td>245560.2042</td>\n",
       "</tr>\n",
       "<tr>\n",
       "         <td>Date:</td>        <td>2022-03-03 13:23</td>        <td>BIC:</td>         <td>245587.3715</td>\n",
       "</tr>\n",
       "<tr>\n",
       "   <td>No. Observations:</td>        <td>63307</td>        <td>Log-Likelihood:</td>   <td>-1.2278e+05</td>\n",
       "</tr>\n",
       "<tr>\n",
       "       <td>Df Model:</td>              <td>2</td>           <td>F-statistic:</td>        <td>6495.</td>   \n",
       "</tr>\n",
       "<tr>\n",
       "     <td>Df Residuals:</td>          <td>63304</td>      <td>Prob (F-statistic):</td>    <td>0.00</td>    \n",
       "</tr>\n",
       "<tr>\n",
       "      <td>R-squared:</td>            <td>0.127</td>            <td>Scale:</td>          <td>2.8319</td>   \n",
       "</tr>\n",
       "</table>\n",
       "<table class=\"simpletable\">\n",
       "<tr>\n",
       "             <td></td>             <th>Coef.</th>  <th>Std.Err.</th>     <th>z</th>     <th>P>|z|</th> <th>[0.025</th>  <th>0.975]</th> \n",
       "</tr>\n",
       "<tr>\n",
       "  <th>const</th>                  <td>-4.2646</td>  <td>0.0667</td>  <td>-63.9793</td> <td>0.0000</td> <td>-4.3953</td> <td>-4.1340</td>\n",
       "</tr>\n",
       "<tr>\n",
       "  <th>BusinessRating_squared</th> <td>-0.5754</td>  <td>0.0062</td>  <td>-93.4659</td> <td>0.0000</td> <td>-0.5874</td> <td>-0.5633</td>\n",
       "</tr>\n",
       "<tr>\n",
       "  <th>BusinessRating</th>         <td>4.2702</td>   <td>0.0414</td>  <td>103.2531</td> <td>0.0000</td> <td>4.1891</td>  <td>4.3512</td> \n",
       "</tr>\n",
       "</table>\n",
       "<table class=\"simpletable\">\n",
       "<tr>\n",
       "     <td>Omnibus:</td>    <td>941.995</td>  <td>Durbin-Watson:</td>    <td>1.693</td> \n",
       "</tr>\n",
       "<tr>\n",
       "  <td>Prob(Omnibus):</td>  <td>0.000</td>  <td>Jarque-Bera (JB):</td> <td>595.992</td>\n",
       "</tr>\n",
       "<tr>\n",
       "       <td>Skew:</td>      <td>0.091</td>      <td>Prob(JB):</td>      <td>0.000</td> \n",
       "</tr>\n",
       "<tr>\n",
       "     <td>Kurtosis:</td>    <td>2.561</td>   <td>Condition No.:</td>     <td>240</td>  \n",
       "</tr>\n",
       "</table>"
      ],
      "text/plain": [
       "<class 'statsmodels.iolib.summary2.Summary'>\n",
       "\"\"\"\n",
       "                    Results: Ordinary least squares\n",
       "=======================================================================\n",
       "Model:               OLS               Adj. R-squared:      0.127      \n",
       "Dependent Variable:  ln_review_count   AIC:                 245560.2042\n",
       "Date:                2022-03-03 13:23  BIC:                 245587.3715\n",
       "No. Observations:    63307             Log-Likelihood:      -1.2278e+05\n",
       "Df Model:            2                 F-statistic:         6495.      \n",
       "Df Residuals:        63304             Prob (F-statistic):  0.00       \n",
       "R-squared:           0.127             Scale:               2.8319     \n",
       "-----------------------------------------------------------------------\n",
       "                        Coef.  Std.Err.    z     P>|z|   [0.025  0.975]\n",
       "-----------------------------------------------------------------------\n",
       "const                  -4.2646   0.0667 -63.9793 0.0000 -4.3953 -4.1340\n",
       "BusinessRating_squared -0.5754   0.0062 -93.4659 0.0000 -0.5874 -0.5633\n",
       "BusinessRating          4.2702   0.0414 103.2531 0.0000  4.1891  4.3512\n",
       "-----------------------------------------------------------------------\n",
       "Omnibus:                941.995        Durbin-Watson:           1.693  \n",
       "Prob(Omnibus):          0.000          Jarque-Bera (JB):        595.992\n",
       "Skew:                   0.091          Prob(JB):                0.000  \n",
       "Kurtosis:               2.561          Condition No.:           240    \n",
       "=======================================================================\n",
       "\n",
       "\"\"\""
      ]
     },
     "execution_count": 68,
     "metadata": {},
     "output_type": "execute_result"
    }
   ],
   "source": [
    "univariate_lin_model_rc_br_results.summary2()"
   ]
  },
  {
   "cell_type": "markdown",
   "id": "0faed31e",
   "metadata": {},
   "source": [
    "Looking at the CI's we absolutely no overlap nor do we see one coefficient's point estimate in another's CI."
   ]
  },
  {
   "cell_type": "code",
   "execution_count": 69,
   "id": "98f66cf4",
   "metadata": {},
   "outputs": [
    {
     "data": {
      "text/html": [
       "<div>\n",
       "<style scoped>\n",
       "    .dataframe tbody tr th:only-of-type {\n",
       "        vertical-align: middle;\n",
       "    }\n",
       "\n",
       "    .dataframe tbody tr th {\n",
       "        vertical-align: top;\n",
       "    }\n",
       "\n",
       "    .dataframe thead th {\n",
       "        text-align: right;\n",
       "    }\n",
       "</style>\n",
       "<table border=\"1\" class=\"dataframe\">\n",
       "  <thead>\n",
       "    <tr style=\"text-align: right;\">\n",
       "      <th></th>\n",
       "      <th>0</th>\n",
       "      <th>1</th>\n",
       "    </tr>\n",
       "  </thead>\n",
       "  <tbody>\n",
       "    <tr>\n",
       "      <th>const</th>\n",
       "      <td>-4.395266</td>\n",
       "      <td>-4.133978</td>\n",
       "    </tr>\n",
       "    <tr>\n",
       "      <th>BusinessRating_squared</th>\n",
       "      <td>-0.587435</td>\n",
       "      <td>-0.563304</td>\n",
       "    </tr>\n",
       "    <tr>\n",
       "      <th>BusinessRating</th>\n",
       "      <td>4.189102</td>\n",
       "      <td>4.351216</td>\n",
       "    </tr>\n",
       "  </tbody>\n",
       "</table>\n",
       "</div>"
      ],
      "text/plain": [
       "                               0         1\n",
       "const                  -4.395266 -4.133978\n",
       "BusinessRating_squared -0.587435 -0.563304\n",
       "BusinessRating          4.189102  4.351216"
      ]
     },
     "execution_count": 69,
     "metadata": {},
     "output_type": "execute_result"
    }
   ],
   "source": [
    "univariate_lin_model_rc_br_results.conf_int()"
   ]
  },
  {
   "cell_type": "code",
   "execution_count": 74,
   "id": "8d3c1784",
   "metadata": {},
   "outputs": [
    {
     "data": {
      "text/plain": [
       "const                    -4.264622\n",
       "BusinessRating_squared   -0.575370\n",
       "BusinessRating            4.270159\n",
       "dtype: float64"
      ]
     },
     "execution_count": 74,
     "metadata": {},
     "output_type": "execute_result"
    }
   ],
   "source": [
    "univariate_lin_model_rc_br_results.params"
   ]
  },
  {
   "cell_type": "markdown",
   "id": "5cd6477c",
   "metadata": {},
   "source": [
    "Using the bootstrap method we could arrive at the same conclusion in a more formal manner."
   ]
  },
  {
   "cell_type": "code",
   "execution_count": 76,
   "id": "c8422065",
   "metadata": {},
   "outputs": [],
   "source": [
    "import random"
   ]
  },
  {
   "cell_type": "code",
   "execution_count": 88,
   "id": "c2b7e5c4",
   "metadata": {},
   "outputs": [],
   "source": [
    "random.seed(42)\n",
    "coeff_results = []\n",
    "for i in range(500):\n",
    "\n",
    "    ixs = random.choices(population = most_recent_bh_tran_sin_cero_df.index.tolist() ,k=most_recent_bh_tran_sin_cero_df.shape[0])\n",
    "    sample_df = most_recent_bh_tran_sin_cero_df.loc[ixs,:]\n",
    "\n",
    "    X_br_brsquared_sample = sample_df.loc[:, ['BusinessRating_squared', 'BusinessRating']]\n",
    "    X_br_brsquared_sample_with_constant = sm.add_constant(X_br_brsquared_sample)\n",
    "\n",
    "    y_sample = sample_df['ln_review_count']\n",
    "    univariate_lin_model_rc_br_sample = sm.OLS(y_sample, X_br_brsquared_sample_with_constant)\n",
    "    univariate_lin_model_rc_br_sample_results = univariate_lin_model_rc_br_sample.fit(cov_type='HC1')\n",
    "\n",
    "    br2 = univariate_lin_model_rc_br_sample_results.params[1]\n",
    "    br = univariate_lin_model_rc_br_sample_results.params[-1]\n",
    "    coeff_result = br - br2\n",
    "    coeff_results.append(coeff_result)"
   ]
  },
  {
   "cell_type": "markdown",
   "id": "b15c310c",
   "metadata": {},
   "source": [
    "Calculating the statistic from our dataset shows of course a difference"
   ]
  },
  {
   "cell_type": "code",
   "execution_count": 89,
   "id": "246bc779",
   "metadata": {},
   "outputs": [
    {
     "data": {
      "text/plain": [
       "4.845528588478763"
      ]
     },
     "execution_count": 89,
     "metadata": {},
     "output_type": "execute_result"
    }
   ],
   "source": [
    "the_stat = univariate_lin_model_rc_br_results.params[-1] - univariate_lin_model_rc_br_results.params[1]\n",
    "\n",
    "the_stat"
   ]
  },
  {
   "cell_type": "markdown",
   "id": "ec938b31",
   "metadata": {},
   "source": [
    "Now with the accompanying t-statistic and the confidence interval we can be confident that there is a difference\n",
    "> Note: Having done a quick test of the bootstrap script with 10000 samples of 10 observations the se was approximately 17."
   ]
  },
  {
   "cell_type": "code",
   "execution_count": 90,
   "id": "87aa7dec",
   "metadata": {},
   "outputs": [
    {
     "data": {
      "text/plain": [
       "0.04760003747038293"
      ]
     },
     "execution_count": 90,
     "metadata": {},
     "output_type": "execute_result"
    }
   ],
   "source": [
    "coeff_results_se = np.std(coeff_results)\n",
    "coeff_results_se"
   ]
  },
  {
   "cell_type": "code",
   "execution_count": 91,
   "id": "d03d1a48",
   "metadata": {},
   "outputs": [
    {
     "data": {
      "text/plain": [
       "101.79673895201626"
      ]
     },
     "execution_count": 91,
     "metadata": {},
     "output_type": "execute_result"
    }
   ],
   "source": [
    "the_stat / coeff_results_se"
   ]
  },
  {
   "cell_type": "code",
   "execution_count": 93,
   "id": "ffe005c0",
   "metadata": {},
   "outputs": [
    {
     "name": "stdout",
     "output_type": "stream",
     "text": [
      "Difference of two slope coeffcients CI with 95% confidence 4.75033 <---> 4.94073  "
     ]
    }
   ],
   "source": [
    "print(f'Difference of two slope coeffcients CI with 95% confidence {the_stat - (coeff_results_se * 2):.5f} <---> {the_stat + (coeff_results_se * 2):.5f} ', end=' ')"
   ]
  },
  {
   "cell_type": "markdown",
   "id": "aa5dd0d3",
   "metadata": {},
   "source": [
    "Now having went through the process of statistical inference we have to now consider the question of external validity.\\\n",
    "The question to be whether to confirm if our discoveries would hold across different states (or even countries), across time, and also different businesses. We'll focus on space and subgroups for the moment."
   ]
  },
  {
   "cell_type": "markdown",
   "id": "b20e30d9",
   "metadata": {},
   "source": [
    "> come back and continue the ev analysis and also try Stargazer"
   ]
  },
  {
   "cell_type": "code",
   "execution_count": null,
   "id": "9863d083",
   "metadata": {},
   "outputs": [],
   "source": []
  }
 ],
 "metadata": {
  "kernelspec": {
   "display_name": "Python 3 (ipykernel)",
   "language": "python",
   "name": "python3"
  },
  "language_info": {
   "codemirror_mode": {
    "name": "ipython",
    "version": 3
   },
   "file_extension": ".py",
   "mimetype": "text/x-python",
   "name": "python",
   "nbconvert_exporter": "python",
   "pygments_lexer": "ipython3",
   "version": "3.8.10"
  }
 },
 "nbformat": 4,
 "nbformat_minor": 5
}
