{
 "cells": [
  {
   "cell_type": "markdown",
   "id": "6590272d",
   "metadata": {},
   "source": [
    "# Statistical Inference with Bootstrap and SE formula\n",
    "\n",
    "In this notebook we're going use statistical inference to make a decision about which business chain to invest in, looking at 2 different methods of making an inference to the underlying population from sample data. "
   ]
  },
  {
   "cell_type": "code",
   "execution_count": 1,
   "id": "671f6b41",
   "metadata": {},
   "outputs": [],
   "source": [
    "from google.oauth2 import service_account\n",
    "from google.cloud import bigquery\n",
    "import configparser\n",
    "import pandas as pd\n",
    "import numpy as np\n",
    "import random\n",
    "from collections import Counter\n",
    "pd.options.display.float_format = '{:,.4f}'.format"
   ]
  },
  {
   "cell_type": "code",
   "execution_count": 2,
   "id": "7796ccc4",
   "metadata": {},
   "outputs": [],
   "source": [
    "KEY_PATH = \"/mnt/c/Users/Ron/git-repos/yelp-data/gourmanddwh-f75384f95e86.json\"\n",
    "CREDS = service_account.Credentials.from_service_account_file(KEY_PATH)\n",
    "client = bigquery.Client(credentials=CREDS, project=CREDS.project_id)\n",
    "\n"
   ]
  },
  {
   "cell_type": "markdown",
   "id": "02bd5129",
   "metadata": {},
   "source": [
    "To begin we can run some sql scripts to get the data from our DWH in BigQuery.Then we'll serialize it as a parquet file in the event that we want to use the data again."
   ]
  },
  {
   "cell_type": "code",
   "execution_count": null,
   "id": "6d8dcad8",
   "metadata": {},
   "outputs": [],
   "source": [
    "cg_file = open('sql_scripts/county_growth_est.sql','r')\n",
    "county_growth_query =  cg_file.read()\n",
    "cg_dataframe: pd.DataFrame = (\n",
    "    client.query(county_growth_query)\n",
    "    .result()\n",
    "    .to_dataframe()\n",
    ")\n",
    "cg_dataframe.to_parquet('cg_est', 'pyarrow','snappy', partition_cols=['StateName'])"
   ]
  },
  {
   "cell_type": "code",
   "execution_count": null,
   "id": "4fe96a6e",
   "metadata": {},
   "outputs": [],
   "source": [
    "holding_file = open('sql_scripts/business_daily_holding.sql')\n",
    "holding_query = holding_file.read()\n",
    "\n",
    "holding_dataframe : pd.DataFrame = (\n",
    "    client.query(holding_query)\n",
    "    .result()\n",
    "    .to_dataframe()\n",
    ")\n",
    "holding_dataframe.to_parquet('bus_holdings', 'pyarrow','snappy', partition_cols=['CloseDate'])"
   ]
  },
  {
   "cell_type": "code",
   "execution_count": null,
   "id": "5eb3c338",
   "metadata": {},
   "outputs": [],
   "source": [
    "bus_cat_file = open('sql_scripts/business_category_location.sql')\n",
    "bus_cat_query = bus_cat_file.read()\n",
    "\n",
    "bus_cat_dataframe: pd.DataFrame = (\n",
    "    client.query(bus_cat_query)\n",
    "    .result()\n",
    "    .to_dataframe()\n",
    ")\n",
    "\n",
    "bus_cat_dataframe.to_parquet('bus_cats', 'pyarrow','snappy', partition_cols=['StateName'])"
   ]
  },
  {
   "cell_type": "code",
   "execution_count": 4,
   "id": "837805d9",
   "metadata": {},
   "outputs": [],
   "source": [
    "cg_df = pd.read_parquet('cg_est', engine='pyarrow')\n",
    "bh_df: pd.DataFrame = pd.read_parquet('bus_holdings', engine='pyarrow')"
   ]
  },
  {
   "cell_type": "code",
   "execution_count": 6,
   "id": "2b1cd212",
   "metadata": {},
   "outputs": [
    {
     "data": {
      "text/html": [
       "<div>\n",
       "<style scoped>\n",
       "    .dataframe tbody tr th:only-of-type {\n",
       "        vertical-align: middle;\n",
       "    }\n",
       "\n",
       "    .dataframe tbody tr th {\n",
       "        vertical-align: top;\n",
       "    }\n",
       "\n",
       "    .dataframe thead th {\n",
       "        text-align: right;\n",
       "    }\n",
       "</style>\n",
       "<table border=\"1\" class=\"dataframe\">\n",
       "  <thead>\n",
       "    <tr style=\"text-align: right;\">\n",
       "      <th></th>\n",
       "      <th>CloseDate</th>\n",
       "      <th>BusinessName</th>\n",
       "    </tr>\n",
       "  </thead>\n",
       "  <tbody>\n",
       "    <tr>\n",
       "      <th>0</th>\n",
       "      <td>2021-12-29</td>\n",
       "      <td>63317</td>\n",
       "    </tr>\n",
       "    <tr>\n",
       "      <th>3</th>\n",
       "      <td>2022-01-07</td>\n",
       "      <td>62551</td>\n",
       "    </tr>\n",
       "    <tr>\n",
       "      <th>4</th>\n",
       "      <td>2022-01-08</td>\n",
       "      <td>62545</td>\n",
       "    </tr>\n",
       "    <tr>\n",
       "      <th>5</th>\n",
       "      <td>2022-01-09</td>\n",
       "      <td>62538</td>\n",
       "    </tr>\n",
       "    <tr>\n",
       "      <th>7</th>\n",
       "      <td>2022-01-11</td>\n",
       "      <td>62504</td>\n",
       "    </tr>\n",
       "  </tbody>\n",
       "</table>\n",
       "</div>"
      ],
      "text/plain": [
       "    CloseDate  BusinessName\n",
       "0  2021-12-29         63317\n",
       "3  2022-01-07         62551\n",
       "4  2022-01-08         62545\n",
       "5  2022-01-09         62538\n",
       "7  2022-01-11         62504"
      ]
     },
     "execution_count": 6,
     "metadata": {},
     "output_type": "execute_result"
    }
   ],
   "source": [
    "holdings_count_df = bh_df.groupby(['CloseDate'], as_index=False)['BusinessName'].count()\n",
    "holdings_count_df.sort_values('BusinessName', ascending=False).head()"
   ]
  },
  {
   "cell_type": "markdown",
   "id": "e6ee6461",
   "metadata": {},
   "source": [
    "The question we'll be looking to answer is whether one business chain makes for a better investment as opposed to another. While we have a pretty good selection of businesses to choose some any analysis will alaways be facilitated with a higher sample size. \\\n",
    "For this purpose we'll look to compare the 2 businesses with the highest number of observations.\n",
    "> Note: In this case an observation corresponds to the statistics we have on a given business chain's physical store location on a given day"
   ]
  },
  {
   "cell_type": "markdown",
   "id": "cbfcf063",
   "metadata": {},
   "source": [
    "As we can see below the chains with number of observations are **Subway** and **Mcdonald's**."
   ]
  },
  {
   "cell_type": "code",
   "execution_count": 7,
   "id": "3db307b4",
   "metadata": {},
   "outputs": [
    {
     "data": {
      "text/html": [
       "<div>\n",
       "<style scoped>\n",
       "    .dataframe tbody tr th:only-of-type {\n",
       "        vertical-align: middle;\n",
       "    }\n",
       "\n",
       "    .dataframe tbody tr th {\n",
       "        vertical-align: top;\n",
       "    }\n",
       "\n",
       "    .dataframe thead th {\n",
       "        text-align: right;\n",
       "    }\n",
       "</style>\n",
       "<table border=\"1\" class=\"dataframe\">\n",
       "  <thead>\n",
       "    <tr style=\"text-align: right;\">\n",
       "      <th></th>\n",
       "      <th>ChainName</th>\n",
       "      <th>BusinessName</th>\n",
       "    </tr>\n",
       "  </thead>\n",
       "  <tbody>\n",
       "    <tr>\n",
       "      <th>40277</th>\n",
       "      <td>Subway</td>\n",
       "      <td>24708</td>\n",
       "    </tr>\n",
       "    <tr>\n",
       "      <th>27308</th>\n",
       "      <td>McDonald's</td>\n",
       "      <td>21431</td>\n",
       "    </tr>\n",
       "    <tr>\n",
       "      <th>33368</th>\n",
       "      <td>Pizza Hut</td>\n",
       "      <td>13506</td>\n",
       "    </tr>\n",
       "    <tr>\n",
       "      <th>41179</th>\n",
       "      <td>Taco Bell</td>\n",
       "      <td>10222</td>\n",
       "    </tr>\n",
       "    <tr>\n",
       "      <th>39094</th>\n",
       "      <td>Sonic Drive-In</td>\n",
       "      <td>10077</td>\n",
       "    </tr>\n",
       "    <tr>\n",
       "      <th>6342</th>\n",
       "      <td>Burger King</td>\n",
       "      <td>9581</td>\n",
       "    </tr>\n",
       "    <tr>\n",
       "      <th>12250</th>\n",
       "      <td>Domino's Pizza</td>\n",
       "      <td>7081</td>\n",
       "    </tr>\n",
       "    <tr>\n",
       "      <th>48554</th>\n",
       "      <td>Wendy's</td>\n",
       "      <td>6813</td>\n",
       "    </tr>\n",
       "    <tr>\n",
       "      <th>39789</th>\n",
       "      <td>Starbucks</td>\n",
       "      <td>6663</td>\n",
       "    </tr>\n",
       "    <tr>\n",
       "      <th>11236</th>\n",
       "      <td>Dairy Queen</td>\n",
       "      <td>6617</td>\n",
       "    </tr>\n",
       "  </tbody>\n",
       "</table>\n",
       "</div>"
      ],
      "text/plain": [
       "            ChainName  BusinessName\n",
       "40277          Subway         24708\n",
       "27308      McDonald's         21431\n",
       "33368       Pizza Hut         13506\n",
       "41179       Taco Bell         10222\n",
       "39094  Sonic Drive-In         10077\n",
       "6342      Burger King          9581\n",
       "12250  Domino's Pizza          7081\n",
       "48554         Wendy's          6813\n",
       "39789       Starbucks          6663\n",
       "11236     Dairy Queen          6617"
      ]
     },
     "execution_count": 7,
     "metadata": {},
     "output_type": "execute_result"
    }
   ],
   "source": [
    "bus_count_chn_df = bh_df.groupby(['ChainName'], as_index=False)['BusinessName'].count()\n",
    "bus_count_chn_df.sort_values('BusinessName', ascending=False).head(10)"
   ]
  },
  {
   "cell_type": "markdown",
   "id": "a281d6c3",
   "metadata": {},
   "source": [
    "***continue with explaining regex of mcdonalds***"
   ]
  },
  {
   "cell_type": "code",
   "execution_count": 8,
   "id": "af265b78",
   "metadata": {},
   "outputs": [
    {
     "data": {
      "text/plain": [
       "McDonald's    21431\n",
       "Mcdonald's       33\n",
       "McDonalds        30\n",
       "Name: ChainName, dtype: int64"
      ]
     },
     "execution_count": 8,
     "metadata": {},
     "output_type": "execute_result"
    }
   ],
   "source": [
    "bh_df.ChainName.str.lower().str.contains(r'mcdonald[\\']?s').sum()\n",
    "# 3 different variations\n",
    "bh_df.loc[bh_df.ChainName.str.lower().str.contains(r'mcdonald[\\']?s'), 'ChainName'].value_counts()"
   ]
  },
  {
   "cell_type": "code",
   "execution_count": 9,
   "id": "6862ea6e",
   "metadata": {},
   "outputs": [
    {
     "data": {
      "text/html": [
       "<div>\n",
       "<style scoped>\n",
       "    .dataframe tbody tr th:only-of-type {\n",
       "        vertical-align: middle;\n",
       "    }\n",
       "\n",
       "    .dataframe tbody tr th {\n",
       "        vertical-align: top;\n",
       "    }\n",
       "\n",
       "    .dataframe thead th {\n",
       "        text-align: right;\n",
       "    }\n",
       "</style>\n",
       "<table border=\"1\" class=\"dataframe\">\n",
       "  <thead>\n",
       "    <tr style=\"text-align: right;\">\n",
       "      <th></th>\n",
       "      <th>BusinessName</th>\n",
       "      <th>ChainName</th>\n",
       "      <th>BusinessRating</th>\n",
       "      <th>ReviewCount</th>\n",
       "      <th>previous_review_cnt</th>\n",
       "      <th>previous_rating</th>\n",
       "      <th>abs_review_diff</th>\n",
       "      <th>abs_rating_diff</th>\n",
       "      <th>total_review_cnt_delta</th>\n",
       "      <th>total_bus_rating_delta</th>\n",
       "      <th>CloseDate</th>\n",
       "    </tr>\n",
       "  </thead>\n",
       "  <tbody>\n",
       "    <tr>\n",
       "      <th>0</th>\n",
       "      <td>mcdonalds-ada-2</td>\n",
       "      <td>McDonald's</td>\n",
       "      <td>2.000000000</td>\n",
       "      <td>19</td>\n",
       "      <td>NaN</td>\n",
       "      <td>None</td>\n",
       "      <td>NaN</td>\n",
       "      <td>None</td>\n",
       "      <td>-1.0000</td>\n",
       "      <td>0E-9</td>\n",
       "      <td>2021-12-29</td>\n",
       "    </tr>\n",
       "    <tr>\n",
       "      <th>1</th>\n",
       "      <td>mcdonalds-albert-lea</td>\n",
       "      <td>McDonald's</td>\n",
       "      <td>3.000000000</td>\n",
       "      <td>4</td>\n",
       "      <td>NaN</td>\n",
       "      <td>None</td>\n",
       "      <td>NaN</td>\n",
       "      <td>None</td>\n",
       "      <td>0.0000</td>\n",
       "      <td>0E-9</td>\n",
       "      <td>2021-12-29</td>\n",
       "    </tr>\n",
       "    <tr>\n",
       "      <th>2</th>\n",
       "      <td>mcdonalds-albert-lea-2</td>\n",
       "      <td>McDonald's</td>\n",
       "      <td>3.500000000</td>\n",
       "      <td>3</td>\n",
       "      <td>NaN</td>\n",
       "      <td>None</td>\n",
       "      <td>NaN</td>\n",
       "      <td>None</td>\n",
       "      <td>0.0000</td>\n",
       "      <td>0E-9</td>\n",
       "      <td>2021-12-29</td>\n",
       "    </tr>\n",
       "    <tr>\n",
       "      <th>3</th>\n",
       "      <td>mcdonalds-albert-lea-3</td>\n",
       "      <td>McDonald's</td>\n",
       "      <td>1.000000000</td>\n",
       "      <td>3</td>\n",
       "      <td>NaN</td>\n",
       "      <td>None</td>\n",
       "      <td>NaN</td>\n",
       "      <td>None</td>\n",
       "      <td>0.0000</td>\n",
       "      <td>0E-9</td>\n",
       "      <td>2021-12-29</td>\n",
       "    </tr>\n",
       "    <tr>\n",
       "      <th>4</th>\n",
       "      <td>mcdonalds-algona</td>\n",
       "      <td>McDonald's</td>\n",
       "      <td>3.000000000</td>\n",
       "      <td>2</td>\n",
       "      <td>NaN</td>\n",
       "      <td>None</td>\n",
       "      <td>NaN</td>\n",
       "      <td>None</td>\n",
       "      <td>1.0000</td>\n",
       "      <td>-0.500000000</td>\n",
       "      <td>2021-12-29</td>\n",
       "    </tr>\n",
       "  </tbody>\n",
       "</table>\n",
       "</div>"
      ],
      "text/plain": [
       "             BusinessName   ChainName BusinessRating  ReviewCount  \\\n",
       "0         mcdonalds-ada-2  McDonald's    2.000000000           19   \n",
       "1    mcdonalds-albert-lea  McDonald's    3.000000000            4   \n",
       "2  mcdonalds-albert-lea-2  McDonald's    3.500000000            3   \n",
       "3  mcdonalds-albert-lea-3  McDonald's    1.000000000            3   \n",
       "4        mcdonalds-algona  McDonald's    3.000000000            2   \n",
       "\n",
       "   previous_review_cnt previous_rating  abs_review_diff abs_rating_diff  \\\n",
       "0                  NaN            None              NaN            None   \n",
       "1                  NaN            None              NaN            None   \n",
       "2                  NaN            None              NaN            None   \n",
       "3                  NaN            None              NaN            None   \n",
       "4                  NaN            None              NaN            None   \n",
       "\n",
       "   total_review_cnt_delta total_bus_rating_delta   CloseDate  \n",
       "0                 -1.0000                   0E-9  2021-12-29  \n",
       "1                  0.0000                   0E-9  2021-12-29  \n",
       "2                  0.0000                   0E-9  2021-12-29  \n",
       "3                  0.0000                   0E-9  2021-12-29  \n",
       "4                  1.0000           -0.500000000  2021-12-29  "
      ]
     },
     "execution_count": 9,
     "metadata": {},
     "output_type": "execute_result"
    }
   ],
   "source": [
    "mcdonalds = bh_df.loc[bh_df.ChainName.str.lower().str.contains(r'mcdonald[\\']?s'), :].reset_index(drop=True)\n",
    "mcdonalds.head()"
   ]
  },
  {
   "cell_type": "code",
   "execution_count": 10,
   "id": "2505f3b2",
   "metadata": {},
   "outputs": [
    {
     "data": {
      "text/plain": [
       "(21494, 11)"
      ]
     },
     "execution_count": 10,
     "metadata": {},
     "output_type": "execute_result"
    }
   ],
   "source": [
    "mcdonalds.shape"
   ]
  },
  {
   "cell_type": "code",
   "execution_count": 11,
   "id": "f80d0ff1",
   "metadata": {},
   "outputs": [
    {
     "data": {
      "text/html": [
       "<div>\n",
       "<style scoped>\n",
       "    .dataframe tbody tr th:only-of-type {\n",
       "        vertical-align: middle;\n",
       "    }\n",
       "\n",
       "    .dataframe tbody tr th {\n",
       "        vertical-align: top;\n",
       "    }\n",
       "\n",
       "    .dataframe thead th {\n",
       "        text-align: right;\n",
       "    }\n",
       "</style>\n",
       "<table border=\"1\" class=\"dataframe\">\n",
       "  <thead>\n",
       "    <tr style=\"text-align: right;\">\n",
       "      <th></th>\n",
       "      <th>BusinessName</th>\n",
       "      <th>ChainName</th>\n",
       "      <th>BusinessRating</th>\n",
       "      <th>ReviewCount</th>\n",
       "      <th>previous_review_cnt</th>\n",
       "      <th>previous_rating</th>\n",
       "      <th>abs_review_diff</th>\n",
       "      <th>abs_rating_diff</th>\n",
       "      <th>total_review_cnt_delta</th>\n",
       "      <th>total_bus_rating_delta</th>\n",
       "      <th>CloseDate</th>\n",
       "    </tr>\n",
       "  </thead>\n",
       "  <tbody>\n",
       "    <tr>\n",
       "      <th>0</th>\n",
       "      <td>subway-abbeville-10</td>\n",
       "      <td>Subway</td>\n",
       "      <td>2.000000000</td>\n",
       "      <td>2</td>\n",
       "      <td>NaN</td>\n",
       "      <td>None</td>\n",
       "      <td>NaN</td>\n",
       "      <td>None</td>\n",
       "      <td>0.0000</td>\n",
       "      <td>0E-9</td>\n",
       "      <td>2021-12-29</td>\n",
       "    </tr>\n",
       "    <tr>\n",
       "      <th>1</th>\n",
       "      <td>subway-adrian-6</td>\n",
       "      <td>Subway</td>\n",
       "      <td>2.000000000</td>\n",
       "      <td>1</td>\n",
       "      <td>NaN</td>\n",
       "      <td>None</td>\n",
       "      <td>NaN</td>\n",
       "      <td>None</td>\n",
       "      <td>0.0000</td>\n",
       "      <td>0E-9</td>\n",
       "      <td>2021-12-29</td>\n",
       "    </tr>\n",
       "    <tr>\n",
       "      <th>2</th>\n",
       "      <td>subway-albany-83</td>\n",
       "      <td>Subway</td>\n",
       "      <td>3.000000000</td>\n",
       "      <td>2</td>\n",
       "      <td>NaN</td>\n",
       "      <td>None</td>\n",
       "      <td>NaN</td>\n",
       "      <td>None</td>\n",
       "      <td>0.0000</td>\n",
       "      <td>0E-9</td>\n",
       "      <td>2021-12-29</td>\n",
       "    </tr>\n",
       "    <tr>\n",
       "      <th>3</th>\n",
       "      <td>subway-albert-lea-6</td>\n",
       "      <td>Subway</td>\n",
       "      <td>2.500000000</td>\n",
       "      <td>4</td>\n",
       "      <td>NaN</td>\n",
       "      <td>None</td>\n",
       "      <td>NaN</td>\n",
       "      <td>None</td>\n",
       "      <td>-1.0000</td>\n",
       "      <td>-1.000000000</td>\n",
       "      <td>2021-12-29</td>\n",
       "    </tr>\n",
       "    <tr>\n",
       "      <th>4</th>\n",
       "      <td>subway-albert-lea-7</td>\n",
       "      <td>Subway</td>\n",
       "      <td>2.500000000</td>\n",
       "      <td>2</td>\n",
       "      <td>NaN</td>\n",
       "      <td>None</td>\n",
       "      <td>NaN</td>\n",
       "      <td>None</td>\n",
       "      <td>0.0000</td>\n",
       "      <td>0E-9</td>\n",
       "      <td>2021-12-29</td>\n",
       "    </tr>\n",
       "  </tbody>\n",
       "</table>\n",
       "</div>"
      ],
      "text/plain": [
       "          BusinessName ChainName BusinessRating  ReviewCount  \\\n",
       "0  subway-abbeville-10    Subway    2.000000000            2   \n",
       "1      subway-adrian-6    Subway    2.000000000            1   \n",
       "2     subway-albany-83    Subway    3.000000000            2   \n",
       "3  subway-albert-lea-6    Subway    2.500000000            4   \n",
       "4  subway-albert-lea-7    Subway    2.500000000            2   \n",
       "\n",
       "   previous_review_cnt previous_rating  abs_review_diff abs_rating_diff  \\\n",
       "0                  NaN            None              NaN            None   \n",
       "1                  NaN            None              NaN            None   \n",
       "2                  NaN            None              NaN            None   \n",
       "3                  NaN            None              NaN            None   \n",
       "4                  NaN            None              NaN            None   \n",
       "\n",
       "   total_review_cnt_delta total_bus_rating_delta   CloseDate  \n",
       "0                  0.0000                   0E-9  2021-12-29  \n",
       "1                  0.0000                   0E-9  2021-12-29  \n",
       "2                  0.0000                   0E-9  2021-12-29  \n",
       "3                 -1.0000           -1.000000000  2021-12-29  \n",
       "4                  0.0000                   0E-9  2021-12-29  "
      ]
     },
     "execution_count": 11,
     "metadata": {},
     "output_type": "execute_result"
    }
   ],
   "source": [
    "subway = bh_df.loc[bh_df.ChainName == 'Subway'].reset_index(drop=True)\n",
    "subway.head()"
   ]
  },
  {
   "cell_type": "code",
   "execution_count": 12,
   "id": "57fa531f",
   "metadata": {},
   "outputs": [
    {
     "data": {
      "text/plain": [
       "Index(['BusinessName', 'ChainName', 'BusinessRating', 'ReviewCount',\n",
       "       'previous_review_cnt', 'previous_rating', 'abs_review_diff',\n",
       "       'abs_rating_diff', 'total_review_cnt_delta', 'total_bus_rating_delta',\n",
       "       'CloseDate'],\n",
       "      dtype='object')"
      ]
     },
     "execution_count": 12,
     "metadata": {},
     "output_type": "execute_result"
    }
   ],
   "source": [
    "subway.columns"
   ]
  },
  {
   "cell_type": "code",
   "execution_count": 13,
   "id": "5650dda0",
   "metadata": {},
   "outputs": [
    {
     "data": {
      "text/html": [
       "<div>\n",
       "<style scoped>\n",
       "    .dataframe tbody tr th:only-of-type {\n",
       "        vertical-align: middle;\n",
       "    }\n",
       "\n",
       "    .dataframe tbody tr th {\n",
       "        vertical-align: top;\n",
       "    }\n",
       "\n",
       "    .dataframe thead th {\n",
       "        text-align: right;\n",
       "    }\n",
       "</style>\n",
       "<table border=\"1\" class=\"dataframe\">\n",
       "  <thead>\n",
       "    <tr style=\"text-align: right;\">\n",
       "      <th></th>\n",
       "      <th>BusinessName</th>\n",
       "      <th>ChainName</th>\n",
       "      <th>BusinessRating</th>\n",
       "      <th>ReviewCount</th>\n",
       "      <th>previous_review_cnt</th>\n",
       "      <th>previous_rating</th>\n",
       "      <th>abs_review_diff</th>\n",
       "      <th>abs_rating_diff</th>\n",
       "      <th>total_review_cnt_delta</th>\n",
       "      <th>total_bus_rating_delta</th>\n",
       "      <th>CloseDate</th>\n",
       "    </tr>\n",
       "  </thead>\n",
       "  <tbody>\n",
       "    <tr>\n",
       "      <th>0</th>\n",
       "      <td>subway-abbeville-10</td>\n",
       "      <td>Subway</td>\n",
       "      <td>2.000000000</td>\n",
       "      <td>2</td>\n",
       "      <td>NaN</td>\n",
       "      <td>None</td>\n",
       "      <td>NaN</td>\n",
       "      <td>None</td>\n",
       "      <td>0.0000</td>\n",
       "      <td>0E-9</td>\n",
       "      <td>2021-12-29</td>\n",
       "    </tr>\n",
       "    <tr>\n",
       "      <th>1</th>\n",
       "      <td>subway-abbeville-10</td>\n",
       "      <td>Subway</td>\n",
       "      <td>2.000000000</td>\n",
       "      <td>2</td>\n",
       "      <td>2.0000</td>\n",
       "      <td>2.000000000</td>\n",
       "      <td>0.0000</td>\n",
       "      <td>0E-9</td>\n",
       "      <td>0.0000</td>\n",
       "      <td>0E-9</td>\n",
       "      <td>2022-01-07</td>\n",
       "    </tr>\n",
       "    <tr>\n",
       "      <th>2</th>\n",
       "      <td>subway-abbeville-10</td>\n",
       "      <td>Subway</td>\n",
       "      <td>2.000000000</td>\n",
       "      <td>2</td>\n",
       "      <td>2.0000</td>\n",
       "      <td>2.000000000</td>\n",
       "      <td>0.0000</td>\n",
       "      <td>0E-9</td>\n",
       "      <td>0.0000</td>\n",
       "      <td>0E-9</td>\n",
       "      <td>2022-01-08</td>\n",
       "    </tr>\n",
       "    <tr>\n",
       "      <th>3</th>\n",
       "      <td>subway-abbeville-10</td>\n",
       "      <td>Subway</td>\n",
       "      <td>2.000000000</td>\n",
       "      <td>2</td>\n",
       "      <td>2.0000</td>\n",
       "      <td>2.000000000</td>\n",
       "      <td>0.0000</td>\n",
       "      <td>0E-9</td>\n",
       "      <td>0.0000</td>\n",
       "      <td>0E-9</td>\n",
       "      <td>2022-01-09</td>\n",
       "    </tr>\n",
       "    <tr>\n",
       "      <th>4</th>\n",
       "      <td>subway-abbeville-10</td>\n",
       "      <td>Subway</td>\n",
       "      <td>2.000000000</td>\n",
       "      <td>2</td>\n",
       "      <td>2.0000</td>\n",
       "      <td>2.000000000</td>\n",
       "      <td>0.0000</td>\n",
       "      <td>0E-9</td>\n",
       "      <td>0.0000</td>\n",
       "      <td>0E-9</td>\n",
       "      <td>2022-01-10</td>\n",
       "    </tr>\n",
       "    <tr>\n",
       "      <th>...</th>\n",
       "      <td>...</td>\n",
       "      <td>...</td>\n",
       "      <td>...</td>\n",
       "      <td>...</td>\n",
       "      <td>...</td>\n",
       "      <td>...</td>\n",
       "      <td>...</td>\n",
       "      <td>...</td>\n",
       "      <td>...</td>\n",
       "      <td>...</td>\n",
       "      <td>...</td>\n",
       "    </tr>\n",
       "    <tr>\n",
       "      <th>24703</th>\n",
       "      <td>subway-zapata-3</td>\n",
       "      <td>Subway</td>\n",
       "      <td>4.000000000</td>\n",
       "      <td>2</td>\n",
       "      <td>2.0000</td>\n",
       "      <td>4.000000000</td>\n",
       "      <td>0.0000</td>\n",
       "      <td>0E-9</td>\n",
       "      <td>1.0000</td>\n",
       "      <td>-1.000000000</td>\n",
       "      <td>2022-02-03</td>\n",
       "    </tr>\n",
       "    <tr>\n",
       "      <th>24704</th>\n",
       "      <td>subway-zapata-3</td>\n",
       "      <td>Subway</td>\n",
       "      <td>4.000000000</td>\n",
       "      <td>2</td>\n",
       "      <td>2.0000</td>\n",
       "      <td>4.000000000</td>\n",
       "      <td>0.0000</td>\n",
       "      <td>0E-9</td>\n",
       "      <td>1.0000</td>\n",
       "      <td>-1.000000000</td>\n",
       "      <td>2022-02-04</td>\n",
       "    </tr>\n",
       "    <tr>\n",
       "      <th>24705</th>\n",
       "      <td>subway-zapata-3</td>\n",
       "      <td>Subway</td>\n",
       "      <td>4.000000000</td>\n",
       "      <td>2</td>\n",
       "      <td>2.0000</td>\n",
       "      <td>4.000000000</td>\n",
       "      <td>0.0000</td>\n",
       "      <td>0E-9</td>\n",
       "      <td>1.0000</td>\n",
       "      <td>-1.000000000</td>\n",
       "      <td>2022-02-05</td>\n",
       "    </tr>\n",
       "    <tr>\n",
       "      <th>24706</th>\n",
       "      <td>subway-zapata-3</td>\n",
       "      <td>Subway</td>\n",
       "      <td>4.000000000</td>\n",
       "      <td>2</td>\n",
       "      <td>2.0000</td>\n",
       "      <td>4.000000000</td>\n",
       "      <td>0.0000</td>\n",
       "      <td>0E-9</td>\n",
       "      <td>1.0000</td>\n",
       "      <td>-1.000000000</td>\n",
       "      <td>2022-02-06</td>\n",
       "    </tr>\n",
       "    <tr>\n",
       "      <th>24707</th>\n",
       "      <td>subway-zapata-3</td>\n",
       "      <td>Subway</td>\n",
       "      <td>4.000000000</td>\n",
       "      <td>2</td>\n",
       "      <td>2.0000</td>\n",
       "      <td>4.000000000</td>\n",
       "      <td>0.0000</td>\n",
       "      <td>0E-9</td>\n",
       "      <td>1.0000</td>\n",
       "      <td>-1.000000000</td>\n",
       "      <td>2022-02-07</td>\n",
       "    </tr>\n",
       "  </tbody>\n",
       "</table>\n",
       "<p>24708 rows × 11 columns</p>\n",
       "</div>"
      ],
      "text/plain": [
       "              BusinessName ChainName BusinessRating  ReviewCount  \\\n",
       "0      subway-abbeville-10    Subway    2.000000000            2   \n",
       "1      subway-abbeville-10    Subway    2.000000000            2   \n",
       "2      subway-abbeville-10    Subway    2.000000000            2   \n",
       "3      subway-abbeville-10    Subway    2.000000000            2   \n",
       "4      subway-abbeville-10    Subway    2.000000000            2   \n",
       "...                    ...       ...            ...          ...   \n",
       "24703      subway-zapata-3    Subway    4.000000000            2   \n",
       "24704      subway-zapata-3    Subway    4.000000000            2   \n",
       "24705      subway-zapata-3    Subway    4.000000000            2   \n",
       "24706      subway-zapata-3    Subway    4.000000000            2   \n",
       "24707      subway-zapata-3    Subway    4.000000000            2   \n",
       "\n",
       "       previous_review_cnt previous_rating  abs_review_diff abs_rating_diff  \\\n",
       "0                      NaN            None              NaN            None   \n",
       "1                   2.0000     2.000000000           0.0000            0E-9   \n",
       "2                   2.0000     2.000000000           0.0000            0E-9   \n",
       "3                   2.0000     2.000000000           0.0000            0E-9   \n",
       "4                   2.0000     2.000000000           0.0000            0E-9   \n",
       "...                    ...             ...              ...             ...   \n",
       "24703               2.0000     4.000000000           0.0000            0E-9   \n",
       "24704               2.0000     4.000000000           0.0000            0E-9   \n",
       "24705               2.0000     4.000000000           0.0000            0E-9   \n",
       "24706               2.0000     4.000000000           0.0000            0E-9   \n",
       "24707               2.0000     4.000000000           0.0000            0E-9   \n",
       "\n",
       "       total_review_cnt_delta total_bus_rating_delta   CloseDate  \n",
       "0                      0.0000                   0E-9  2021-12-29  \n",
       "1                      0.0000                   0E-9  2022-01-07  \n",
       "2                      0.0000                   0E-9  2022-01-08  \n",
       "3                      0.0000                   0E-9  2022-01-09  \n",
       "4                      0.0000                   0E-9  2022-01-10  \n",
       "...                       ...                    ...         ...  \n",
       "24703                  1.0000           -1.000000000  2022-02-03  \n",
       "24704                  1.0000           -1.000000000  2022-02-04  \n",
       "24705                  1.0000           -1.000000000  2022-02-05  \n",
       "24706                  1.0000           -1.000000000  2022-02-06  \n",
       "24707                  1.0000           -1.000000000  2022-02-07  \n",
       "\n",
       "[24708 rows x 11 columns]"
      ]
     },
     "execution_count": 13,
     "metadata": {},
     "output_type": "execute_result"
    }
   ],
   "source": [
    "ordered_subway = subway.sort_values(['BusinessName', 'CloseDate'], ascending=True).reset_index(drop=True)\n",
    "ordered_subway"
   ]
  },
  {
   "cell_type": "code",
   "execution_count": 14,
   "id": "828c0461",
   "metadata": {},
   "outputs": [
    {
     "data": {
      "text/html": [
       "<div>\n",
       "<style scoped>\n",
       "    .dataframe tbody tr th:only-of-type {\n",
       "        vertical-align: middle;\n",
       "    }\n",
       "\n",
       "    .dataframe tbody tr th {\n",
       "        vertical-align: top;\n",
       "    }\n",
       "\n",
       "    .dataframe thead th {\n",
       "        text-align: right;\n",
       "    }\n",
       "</style>\n",
       "<table border=\"1\" class=\"dataframe\">\n",
       "  <thead>\n",
       "    <tr style=\"text-align: right;\">\n",
       "      <th></th>\n",
       "      <th>BusinessName</th>\n",
       "      <th>ChainName</th>\n",
       "      <th>BusinessRating</th>\n",
       "      <th>ReviewCount</th>\n",
       "      <th>previous_review_cnt</th>\n",
       "      <th>previous_rating</th>\n",
       "      <th>abs_review_diff</th>\n",
       "      <th>abs_rating_diff</th>\n",
       "      <th>total_review_cnt_delta</th>\n",
       "      <th>total_bus_rating_delta</th>\n",
       "      <th>CloseDate</th>\n",
       "    </tr>\n",
       "  </thead>\n",
       "  <tbody>\n",
       "    <tr>\n",
       "      <th>0</th>\n",
       "      <td>mcdonalds-ada-2</td>\n",
       "      <td>McDonald's</td>\n",
       "      <td>2.000000000</td>\n",
       "      <td>19</td>\n",
       "      <td>NaN</td>\n",
       "      <td>None</td>\n",
       "      <td>NaN</td>\n",
       "      <td>None</td>\n",
       "      <td>-1.0000</td>\n",
       "      <td>0E-9</td>\n",
       "      <td>2021-12-29</td>\n",
       "    </tr>\n",
       "    <tr>\n",
       "      <th>1</th>\n",
       "      <td>mcdonalds-ada-2</td>\n",
       "      <td>McDonald's</td>\n",
       "      <td>2.000000000</td>\n",
       "      <td>19</td>\n",
       "      <td>19.0000</td>\n",
       "      <td>2.000000000</td>\n",
       "      <td>0.0000</td>\n",
       "      <td>0E-9</td>\n",
       "      <td>-1.0000</td>\n",
       "      <td>0E-9</td>\n",
       "      <td>2022-01-07</td>\n",
       "    </tr>\n",
       "    <tr>\n",
       "      <th>2</th>\n",
       "      <td>mcdonalds-ada-2</td>\n",
       "      <td>McDonald's</td>\n",
       "      <td>2.000000000</td>\n",
       "      <td>18</td>\n",
       "      <td>19.0000</td>\n",
       "      <td>2.000000000</td>\n",
       "      <td>-1.0000</td>\n",
       "      <td>0E-9</td>\n",
       "      <td>-1.0000</td>\n",
       "      <td>0E-9</td>\n",
       "      <td>2022-01-08</td>\n",
       "    </tr>\n",
       "    <tr>\n",
       "      <th>3</th>\n",
       "      <td>mcdonalds-ada-2</td>\n",
       "      <td>McDonald's</td>\n",
       "      <td>2.000000000</td>\n",
       "      <td>18</td>\n",
       "      <td>18.0000</td>\n",
       "      <td>2.000000000</td>\n",
       "      <td>0.0000</td>\n",
       "      <td>0E-9</td>\n",
       "      <td>-1.0000</td>\n",
       "      <td>0E-9</td>\n",
       "      <td>2022-01-09</td>\n",
       "    </tr>\n",
       "    <tr>\n",
       "      <th>4</th>\n",
       "      <td>mcdonalds-ada-2</td>\n",
       "      <td>McDonald's</td>\n",
       "      <td>2.000000000</td>\n",
       "      <td>18</td>\n",
       "      <td>18.0000</td>\n",
       "      <td>2.000000000</td>\n",
       "      <td>0.0000</td>\n",
       "      <td>0E-9</td>\n",
       "      <td>-1.0000</td>\n",
       "      <td>0E-9</td>\n",
       "      <td>2022-01-10</td>\n",
       "    </tr>\n",
       "    <tr>\n",
       "      <th>...</th>\n",
       "      <td>...</td>\n",
       "      <td>...</td>\n",
       "      <td>...</td>\n",
       "      <td>...</td>\n",
       "      <td>...</td>\n",
       "      <td>...</td>\n",
       "      <td>...</td>\n",
       "      <td>...</td>\n",
       "      <td>...</td>\n",
       "      <td>...</td>\n",
       "      <td>...</td>\n",
       "    </tr>\n",
       "    <tr>\n",
       "      <th>21489</th>\n",
       "      <td>mcdonalds-zapata</td>\n",
       "      <td>McDonald's</td>\n",
       "      <td>2.000000000</td>\n",
       "      <td>5</td>\n",
       "      <td>5.0000</td>\n",
       "      <td>2.000000000</td>\n",
       "      <td>0.0000</td>\n",
       "      <td>0E-9</td>\n",
       "      <td>0.0000</td>\n",
       "      <td>0E-9</td>\n",
       "      <td>2022-02-03</td>\n",
       "    </tr>\n",
       "    <tr>\n",
       "      <th>21490</th>\n",
       "      <td>mcdonalds-zapata</td>\n",
       "      <td>McDonald's</td>\n",
       "      <td>2.000000000</td>\n",
       "      <td>5</td>\n",
       "      <td>5.0000</td>\n",
       "      <td>2.000000000</td>\n",
       "      <td>0.0000</td>\n",
       "      <td>0E-9</td>\n",
       "      <td>0.0000</td>\n",
       "      <td>0E-9</td>\n",
       "      <td>2022-02-04</td>\n",
       "    </tr>\n",
       "    <tr>\n",
       "      <th>21491</th>\n",
       "      <td>mcdonalds-zapata</td>\n",
       "      <td>McDonald's</td>\n",
       "      <td>2.000000000</td>\n",
       "      <td>5</td>\n",
       "      <td>5.0000</td>\n",
       "      <td>2.000000000</td>\n",
       "      <td>0.0000</td>\n",
       "      <td>0E-9</td>\n",
       "      <td>0.0000</td>\n",
       "      <td>0E-9</td>\n",
       "      <td>2022-02-05</td>\n",
       "    </tr>\n",
       "    <tr>\n",
       "      <th>21492</th>\n",
       "      <td>mcdonalds-zapata</td>\n",
       "      <td>McDonald's</td>\n",
       "      <td>2.000000000</td>\n",
       "      <td>5</td>\n",
       "      <td>5.0000</td>\n",
       "      <td>2.000000000</td>\n",
       "      <td>0.0000</td>\n",
       "      <td>0E-9</td>\n",
       "      <td>0.0000</td>\n",
       "      <td>0E-9</td>\n",
       "      <td>2022-02-06</td>\n",
       "    </tr>\n",
       "    <tr>\n",
       "      <th>21493</th>\n",
       "      <td>mcdonalds-zapata</td>\n",
       "      <td>McDonald's</td>\n",
       "      <td>2.000000000</td>\n",
       "      <td>5</td>\n",
       "      <td>5.0000</td>\n",
       "      <td>2.000000000</td>\n",
       "      <td>0.0000</td>\n",
       "      <td>0E-9</td>\n",
       "      <td>0.0000</td>\n",
       "      <td>0E-9</td>\n",
       "      <td>2022-02-07</td>\n",
       "    </tr>\n",
       "  </tbody>\n",
       "</table>\n",
       "<p>21494 rows × 11 columns</p>\n",
       "</div>"
      ],
      "text/plain": [
       "           BusinessName   ChainName BusinessRating  ReviewCount  \\\n",
       "0       mcdonalds-ada-2  McDonald's    2.000000000           19   \n",
       "1       mcdonalds-ada-2  McDonald's    2.000000000           19   \n",
       "2       mcdonalds-ada-2  McDonald's    2.000000000           18   \n",
       "3       mcdonalds-ada-2  McDonald's    2.000000000           18   \n",
       "4       mcdonalds-ada-2  McDonald's    2.000000000           18   \n",
       "...                 ...         ...            ...          ...   \n",
       "21489  mcdonalds-zapata  McDonald's    2.000000000            5   \n",
       "21490  mcdonalds-zapata  McDonald's    2.000000000            5   \n",
       "21491  mcdonalds-zapata  McDonald's    2.000000000            5   \n",
       "21492  mcdonalds-zapata  McDonald's    2.000000000            5   \n",
       "21493  mcdonalds-zapata  McDonald's    2.000000000            5   \n",
       "\n",
       "       previous_review_cnt previous_rating  abs_review_diff abs_rating_diff  \\\n",
       "0                      NaN            None              NaN            None   \n",
       "1                  19.0000     2.000000000           0.0000            0E-9   \n",
       "2                  19.0000     2.000000000          -1.0000            0E-9   \n",
       "3                  18.0000     2.000000000           0.0000            0E-9   \n",
       "4                  18.0000     2.000000000           0.0000            0E-9   \n",
       "...                    ...             ...              ...             ...   \n",
       "21489               5.0000     2.000000000           0.0000            0E-9   \n",
       "21490               5.0000     2.000000000           0.0000            0E-9   \n",
       "21491               5.0000     2.000000000           0.0000            0E-9   \n",
       "21492               5.0000     2.000000000           0.0000            0E-9   \n",
       "21493               5.0000     2.000000000           0.0000            0E-9   \n",
       "\n",
       "       total_review_cnt_delta total_bus_rating_delta   CloseDate  \n",
       "0                     -1.0000                   0E-9  2021-12-29  \n",
       "1                     -1.0000                   0E-9  2022-01-07  \n",
       "2                     -1.0000                   0E-9  2022-01-08  \n",
       "3                     -1.0000                   0E-9  2022-01-09  \n",
       "4                     -1.0000                   0E-9  2022-01-10  \n",
       "...                       ...                    ...         ...  \n",
       "21489                  0.0000                   0E-9  2022-02-03  \n",
       "21490                  0.0000                   0E-9  2022-02-04  \n",
       "21491                  0.0000                   0E-9  2022-02-05  \n",
       "21492                  0.0000                   0E-9  2022-02-06  \n",
       "21493                  0.0000                   0E-9  2022-02-07  \n",
       "\n",
       "[21494 rows x 11 columns]"
      ]
     },
     "execution_count": 14,
     "metadata": {},
     "output_type": "execute_result"
    }
   ],
   "source": [
    "ordered_mcdonalds = mcdonalds.sort_values(['BusinessName', 'CloseDate'], ascending=True).reset_index(drop=True)\n",
    "ordered_mcdonalds"
   ]
  },
  {
   "cell_type": "code",
   "execution_count": 18,
   "id": "45252119",
   "metadata": {},
   "outputs": [
    {
     "data": {
      "text/plain": [
       "0.0000    23781\n",
       "0.0000       18\n",
       "0.0000       17\n",
       "0.0000       16\n",
       "0.0000       12\n",
       "0.0000       11\n",
       "1.0000        7\n",
       "0.0000        5\n",
       "0.0000        4\n",
       "0.0000        3\n",
       "0.0000        2\n",
       "0.0000        2\n",
       "0.0000        1\n",
       "0.0000        1\n",
       "0.0000        1\n",
       "0.0000        1\n",
       "0.0000        1\n",
       "Name: review_count_perc_diff_lag_1, dtype: int64"
      ]
     },
     "execution_count": 18,
     "metadata": {},
     "output_type": "execute_result"
    }
   ],
   "source": [
    "ordered_subway.loc[:, 'review_count_abs_diff_lag_1'] = (ordered_subway.ReviewCount - ordered_subway.previous_review_cnt)\n",
    "ordered_subway.loc[:, 'review_count_perc_diff_lag_1'] = (ordered_subway['review_count_abs_diff_lag_1'] / ordered_subway.previous_review_cnt) ** 100\n",
    "ordered_subway.sort_values('review_count_perc_diff_lag_1', ascending=False)\n",
    "ordered_subway['review_count_perc_diff_lag_1'].value_counts(sort=True)"
   ]
  },
  {
   "cell_type": "code",
   "execution_count": 19,
   "id": "324e1a69",
   "metadata": {},
   "outputs": [
    {
     "data": {
      "text/plain": [
       "(-0.002, 0.1]    23876\n",
       "(0.9, 1.0]           7\n",
       "(0.1, 0.2]           0\n",
       "(0.2, 0.3]           0\n",
       "(0.3, 0.4]           0\n",
       "(0.4, 0.5]           0\n",
       "(0.5, 0.6]           0\n",
       "(0.6, 0.7]           0\n",
       "(0.7, 0.8]           0\n",
       "(0.8, 0.9]           0\n",
       "Name: review_count_perc_diff_lag_1, dtype: int64"
      ]
     },
     "execution_count": 19,
     "metadata": {},
     "output_type": "execute_result"
    }
   ],
   "source": [
    "ordered_subway['review_count_perc_diff_lag_1'].value_counts(bins=10)"
   ]
  },
  {
   "cell_type": "code",
   "execution_count": 20,
   "id": "81cbcdec",
   "metadata": {},
   "outputs": [
    {
     "data": {
      "text/plain": [
       "0.0000     23814\n",
       "1.0000        71\n",
       "-1.0000       30\n",
       "2.0000         1\n",
       "Name: review_count_abs_diff_lag_1, dtype: int64"
      ]
     },
     "execution_count": 20,
     "metadata": {},
     "output_type": "execute_result"
    }
   ],
   "source": [
    "ordered_subway['review_count_abs_diff_lag_1'].value_counts(sort=True)"
   ]
  },
  {
   "cell_type": "code",
   "execution_count": 21,
   "id": "964061b6",
   "metadata": {},
   "outputs": [
    {
     "data": {
      "text/plain": [
       "0.0000     20435\n",
       "1.0000       257\n",
       "-1.0000       86\n",
       "2.0000        24\n",
       "3.0000         3\n",
       "-2.0000        2\n",
       "Name: review_count_abs_diff_lag_1, dtype: int64"
      ]
     },
     "execution_count": 21,
     "metadata": {},
     "output_type": "execute_result"
    }
   ],
   "source": [
    "ordered_mcdonalds.loc[:, 'review_count_abs_diff_lag_1'] = (ordered_mcdonalds.ReviewCount - ordered_mcdonalds.previous_review_cnt)\n",
    "ordered_mcdonalds.loc[:, 'review_count_perc_diff_lag_1'] = (ordered_mcdonalds['review_count_abs_diff_lag_1'] / ordered_mcdonalds.previous_review_cnt) ** 100\n",
    "ordered_mcdonalds['review_count_abs_diff_lag_1'].value_counts(sort=True)"
   ]
  },
  {
   "cell_type": "code",
   "execution_count": 22,
   "id": "ec9ce73f",
   "metadata": {},
   "outputs": [
    {
     "name": "stderr",
     "output_type": "stream",
     "text": [
      "/mnt/c/Users/Ron/git-repos/data-analysis-business-economics-policy/da_venv/lib/python3.8/site-packages/pandas/core/indexing.py:1667: SettingWithCopyWarning: \n",
      "A value is trying to be set on a copy of a slice from a DataFrame.\n",
      "Try using .loc[row_indexer,col_indexer] = value instead\n",
      "\n",
      "See the caveats in the documentation: https://pandas.pydata.org/pandas-docs/stable/user_guide/indexing.html#returning-a-view-versus-a-copy\n",
      "  self.obj[key] = value\n"
     ]
    },
    {
     "data": {
      "text/plain": [
       "0.0030105368790767687"
      ]
     },
     "execution_count": 22,
     "metadata": {},
     "output_type": "execute_result"
    }
   ],
   "source": [
    "ordered_subway_sin_na = ordered_subway.dropna(subset=['review_count_abs_diff_lag_1'])\n",
    "ordered_subway_sin_na.loc[:, 'review_count_abs_diff_lag_1_gte_1'] = ordered_subway_sin_na['review_count_abs_diff_lag_1'] >= 1\n",
    "subway_daily_rc_diff_mean = ordered_subway_sin_na['review_count_abs_diff_lag_1_gte_1'].mean(skipna=True)\n",
    "subway_daily_rc_diff_mean"
   ]
  },
  {
   "cell_type": "code",
   "execution_count": 23,
   "id": "92b777fa",
   "metadata": {},
   "outputs": [
    {
     "data": {
      "text/plain": [
       "0.01364925265535637"
      ]
     },
     "execution_count": 23,
     "metadata": {},
     "output_type": "execute_result"
    }
   ],
   "source": [
    "ordered_mcdonalds_sin_na = ordered_mcdonalds.dropna(subset=['review_count_abs_diff_lag_1'])\n",
    "ordered_mcdonalds_sin_na.loc[:, 'review_count_abs_diff_lag_1_gte_1'] = ordered_mcdonalds_sin_na['review_count_abs_diff_lag_1'] >= 1\n",
    "mcdonalds_daily_rc_diff_mean = ordered_mcdonalds_sin_na['review_count_abs_diff_lag_1_gte_1'].mean(skipna=True)\n",
    "mcdonalds_daily_rc_diff_mean"
   ]
  },
  {
   "cell_type": "code",
   "execution_count": 24,
   "id": "53dd2012",
   "metadata": {},
   "outputs": [
    {
     "name": "stdout",
     "output_type": "stream",
     "text": [
      "[(14009, 6)]\n",
      "[(2950, 7)]\n",
      "[(9507, 8)]\n",
      "[(10576, 6)]\n",
      "[(11391, 8)]\n",
      "[(209, 6)]\n",
      "[(5856, 7)]\n",
      "[(3602, 7)]\n",
      "[(13161, 6)]\n",
      "[(974, 7)]\n"
     ]
    }
   ],
   "source": [
    "sample_means_subway = []\n",
    "sample_means_mcdonalds = []\n",
    "# random.choices allow us to do it with replacement\n",
    "for i in range(10):\n",
    "    ixs = random.choices(population = ordered_mcdonalds_sin_na.index.tolist() ,k=ordered_mcdonalds_sin_na.shape[0])\n",
    "    count_dict = Counter(ixs)\n",
    "    print(count_dict.most_common(1))"
   ]
  },
  {
   "cell_type": "code",
   "execution_count": 25,
   "id": "0ef50227",
   "metadata": {},
   "outputs": [],
   "source": [
    "sample_means_subway = []\n",
    "sample_means_mcdonalds = []\n",
    "#rn generator\n",
    "random.seed(42)\n",
    "\n",
    "for i in range(10000):\n",
    "    #seems this way would be less efficient but nonetheless viable\n",
    "    # mcd_ixs = random.choices(population = ordered_mcdonalds_sin_na.index.tolist() ,k=ordered_mcdonalds_sin_na.shape[0])\n",
    "    # mcd_sample_mean = ordered_mcdonalds_sin_na.loc[mcd_ixs,'review_count_abs_diff_lag_1_gte_1'].mean()\n",
    "    # sample_means_mcdonalds.append(mcd_sample_mean)\n",
    "\n",
    "    # subway_ixs = random.choices(population = ordered_subway_sin_na.index.tolist() ,k=ordered_subway_sin_na.shape[0])\n",
    "    # subway_sample_mean = ordered_subway_sin_na.loc[subway_ixs,'review_count_abs_diff_lag_1_gte_1'].mean()\n",
    "    # sample_means_subway.append(subway_sample_mean)\n",
    "\n",
    "    mcd_ixs = random.choices(population = ordered_mcdonalds_sin_na.review_count_abs_diff_lag_1_gte_1.tolist() ,k=ordered_mcdonalds_sin_na.shape[0])\n",
    "    mcd_sample_mean = np.mean(mcd_ixs)\n",
    "    sample_means_mcdonalds.append(mcd_sample_mean)\n",
    "\n",
    "    subway_ixs = random.choices(population = ordered_subway_sin_na.review_count_abs_diff_lag_1_gte_1.tolist() ,k=ordered_subway_sin_na.shape[0])\n",
    "    subway_sample_mean = np.mean(subway_ixs)\n",
    "    sample_means_subway.append(subway_sample_mean)"
   ]
  },
  {
   "cell_type": "code",
   "execution_count": 26,
   "id": "eba5637e",
   "metadata": {},
   "outputs": [],
   "source": [
    "sample_means_subway_mean = np.mean(sample_means_subway)\n",
    "\n",
    "sample_means_mcdonalds_mean = np.mean(sample_means_mcdonalds)"
   ]
  },
  {
   "cell_type": "code",
   "execution_count": 27,
   "id": "9d761b1a",
   "metadata": {},
   "outputs": [
    {
     "data": {
      "text/plain": [
       "0.00035164206546019243"
      ]
     },
     "execution_count": 27,
     "metadata": {},
     "output_type": "execute_result"
    }
   ],
   "source": [
    "subway_se = np.std(sample_means_subway)\n",
    "subway_se "
   ]
  },
  {
   "cell_type": "code",
   "execution_count": 28,
   "id": "86143031",
   "metadata": {},
   "outputs": [
    {
     "data": {
      "text/plain": [
       "0.0008058193797289551"
      ]
     },
     "execution_count": 28,
     "metadata": {},
     "output_type": "execute_result"
    }
   ],
   "source": [
    "mcdonalds_se = np.std(sample_means_mcdonalds)\n",
    "mcdonalds_se"
   ]
  },
  {
   "cell_type": "code",
   "execution_count": 29,
   "id": "f95af902",
   "metadata": {},
   "outputs": [
    {
     "name": "stdout",
     "output_type": "stream",
     "text": [
      "Subway CI with 95% confidence 0.00231 <---> 0.00371 with  and bootstrap se estimate of 0.00035\n"
     ]
    }
   ],
   "source": [
    "print(f'Subway CI with 95% confidence {subway_daily_rc_diff_mean - (subway_se * 2):.5f} <---> {subway_daily_rc_diff_mean + (subway_se * 2):.5f} with ', end=' ')\n",
    "print(f'and bootstrap se estimate of {subway_se:.5f}')"
   ]
  },
  {
   "cell_type": "code",
   "execution_count": 30,
   "id": "7e978538",
   "metadata": {},
   "outputs": [
    {
     "name": "stdout",
     "output_type": "stream",
     "text": [
      "Mcdonald's CI with 95% confidence 0.01204 <---> 0.01526 with and bootstrap se estimate of 0.00081\n"
     ]
    }
   ],
   "source": [
    "print(f'Mcdonald\\'s CI with 95% confidence {mcdonalds_daily_rc_diff_mean - (mcdonalds_se * 2):.5f} <---> {mcdonalds_daily_rc_diff_mean + (mcdonalds_se * 2):.5f} with', end=' ')\n",
    "print(f'and bootstrap se estimate of {mcdonalds_se:.5f}')"
   ]
  },
  {
   "cell_type": "code",
   "execution_count": 31,
   "id": "de75202c",
   "metadata": {},
   "outputs": [
    {
     "data": {
      "text/plain": [
       "0.00035426070916424687"
      ]
     },
     "execution_count": 31,
     "metadata": {},
     "output_type": "execute_result"
    }
   ],
   "source": [
    "subway_formula_se = (1 / np.sqrt(ordered_subway_sin_na.shape[0])) * np.std(ordered_subway_sin_na.review_count_abs_diff_lag_1_gte_1)\n",
    "subway_formula_se"
   ]
  },
  {
   "cell_type": "code",
   "execution_count": 32,
   "id": "5187ad7c",
   "metadata": {},
   "outputs": [
    {
     "data": {
      "text/plain": [
       "0.0008043876457649798"
      ]
     },
     "execution_count": 32,
     "metadata": {},
     "output_type": "execute_result"
    }
   ],
   "source": [
    "mcdonalds_formula_se = (1 / np.sqrt(ordered_mcdonalds_sin_na.shape[0])) * np.std(ordered_mcdonalds_sin_na.review_count_abs_diff_lag_1_gte_1)\n",
    "mcdonalds_formula_se"
   ]
  },
  {
   "cell_type": "code",
   "execution_count": 33,
   "id": "928e24dd",
   "metadata": {},
   "outputs": [
    {
     "name": "stdout",
     "output_type": "stream",
     "text": [
      "Subway CI with 95% confidence 0.00230 <---> 0.00372 with  and se formula estimate of 0.00035\n"
     ]
    }
   ],
   "source": [
    "print(f'Subway CI with 95% confidence {subway_daily_rc_diff_mean - (subway_formula_se * 2):.5f} <---> {subway_daily_rc_diff_mean + (subway_formula_se * 2):.5f} with ', end=' ')\n",
    "print(f'and se formula estimate of {subway_formula_se:.5f}')"
   ]
  },
  {
   "cell_type": "code",
   "execution_count": 34,
   "id": "d72aaa8d",
   "metadata": {},
   "outputs": [
    {
     "name": "stdout",
     "output_type": "stream",
     "text": [
      "Mcdonald's CI with 95% confidence 0.01204 <---> 0.01526 with and se formula estimate of 0.00080\n"
     ]
    }
   ],
   "source": [
    "print(f'Mcdonald\\'s CI with 95% confidence {mcdonalds_daily_rc_diff_mean - (mcdonalds_formula_se * 2):.5f} <---> {mcdonalds_daily_rc_diff_mean + (mcdonalds_formula_se * 2):.5f} with', end=' ')\n",
    "print(f'and se formula estimate of {mcdonalds_formula_se:.5f}')"
   ]
  },
  {
   "cell_type": "markdown",
   "id": "2709e353",
   "metadata": {},
   "source": [
    "# Main Takeaway"
   ]
  }
 ],
 "metadata": {
  "kernelspec": {
   "display_name": "Python 3 (ipykernel)",
   "language": "python",
   "name": "python3"
  },
  "language_info": {
   "codemirror_mode": {
    "name": "ipython",
    "version": 3
   },
   "file_extension": ".py",
   "mimetype": "text/x-python",
   "name": "python",
   "nbconvert_exporter": "python",
   "pygments_lexer": "ipython3",
   "version": "3.8.10"
  }
 },
 "nbformat": 4,
 "nbformat_minor": 5
}
