{
 "cells": [
  {
   "cell_type": "code",
   "execution_count": 2,
   "metadata": {},
   "outputs": [],
   "source": [
    "import pyarrow as pa\n",
    "import json\n",
    "import numpy as np"
   ]
  },
  {
   "cell_type": "code",
   "execution_count": 3,
   "metadata": {},
   "outputs": [],
   "source": [
    "with open(\"../../yelp-data/response.json\") as file:\n",
    "    file_str = file.read()"
   ]
  },
  {
   "cell_type": "code",
   "execution_count": 4,
   "metadata": {},
   "outputs": [
    {
     "data": {
      "text/plain": [
       "str"
      ]
     },
     "execution_count": 4,
     "metadata": {},
     "output_type": "execute_result"
    }
   ],
   "source": [
    "type(file_str)"
   ]
  },
  {
   "cell_type": "code",
   "execution_count": 5,
   "metadata": {},
   "outputs": [],
   "source": [
    "res_json = json.loads(file_str)"
   ]
  },
  {
   "cell_type": "code",
   "execution_count": 6,
   "metadata": {},
   "outputs": [
    {
     "data": {
      "text/plain": [
       "dict"
      ]
     },
     "execution_count": 6,
     "metadata": {},
     "output_type": "execute_result"
    }
   ],
   "source": [
    "type(res_json)"
   ]
  },
  {
   "cell_type": "code",
   "execution_count": 7,
   "metadata": {},
   "outputs": [
    {
     "data": {
      "text/plain": [
       "dict_keys(['businesses', 'total', 'region'])"
      ]
     },
     "execution_count": 7,
     "metadata": {},
     "output_type": "execute_result"
    }
   ],
   "source": [
    "res_json.keys()"
   ]
  },
  {
   "cell_type": "code",
   "execution_count": 8,
   "metadata": {},
   "outputs": [
    {
     "data": {
      "text/plain": [
       "{'center': {'longitude': -73.99429321289062, 'latitude': 40.70544486444615}}"
      ]
     },
     "execution_count": 8,
     "metadata": {},
     "output_type": "execute_result"
    }
   ],
   "source": [
    "res_json['region']"
   ]
  },
  {
   "cell_type": "code",
   "execution_count": 9,
   "metadata": {},
   "outputs": [],
   "source": [
    "business_list = res_json[\"businesses\"]"
   ]
  },
  {
   "cell_type": "code",
   "execution_count": 10,
   "metadata": {},
   "outputs": [
    {
     "data": {
      "text/plain": [
       "20"
      ]
     },
     "execution_count": 10,
     "metadata": {},
     "output_type": "execute_result"
    }
   ],
   "source": [
    "len(business_list)"
   ]
  },
  {
   "cell_type": "code",
   "execution_count": 11,
   "metadata": {},
   "outputs": [
    {
     "data": {
      "text/plain": [
       "dict_keys(['id', 'alias', 'name', 'image_url', 'is_closed', 'url', 'review_count', 'categories', 'rating', 'coordinates', 'transactions', 'price', 'location', 'phone', 'display_phone', 'distance'])"
      ]
     },
     "execution_count": 11,
     "metadata": {},
     "output_type": "execute_result"
    }
   ],
   "source": [
    "business_list[0].keys()"
   ]
  },
  {
   "cell_type": "code",
   "execution_count": 12,
   "metadata": {},
   "outputs": [
    {
     "data": {
      "text/plain": [
       "{'id': 'xAvwjM0F5LN9g3yFsk9e0w',\n",
       " 'alias': 'starbucks-brooklyn-78',\n",
       " 'name': 'Starbucks',\n",
       " 'image_url': 'https://s3-media2.fl.yelpcdn.com/bphoto/UnOuT7MMfPf5FEXEmzrL4w/o.jpg',\n",
       " 'is_closed': True,\n",
       " 'url': 'https://www.yelp.com/biz/starbucks-brooklyn-78?adjust_creative=2FlPnf5brM1FB2UTY6vGnQ&utm_campaign=yelp_api_v3&utm_medium=api_v3_business_search&utm_source=2FlPnf5brM1FB2UTY6vGnQ',\n",
       " 'review_count': 10,\n",
       " 'categories': [{'alias': 'coffee', 'title': 'Coffee & Tea'}],\n",
       " 'rating': 3.5,\n",
       " 'coordinates': {'latitude': 40.702818, 'longitude': -73.993666},\n",
       " 'transactions': ['delivery'],\n",
       " 'price': '$$',\n",
       " 'location': {'address1': '11 Old Fulton St',\n",
       "  'address2': '',\n",
       "  'address3': None,\n",
       "  'city': 'Brooklyn',\n",
       "  'zip_code': '11201',\n",
       "  'country': 'US',\n",
       "  'state': 'NY',\n",
       "  'display_address': ['11 Old Fulton St', 'Brooklyn, NY 11201']},\n",
       " 'phone': '+19176857717',\n",
       " 'display_phone': '(917) 685-7717',\n",
       " 'distance': 296.84014710793184}"
      ]
     },
     "execution_count": 12,
     "metadata": {},
     "output_type": "execute_result"
    }
   ],
   "source": [
    "business_list[0]"
   ]
  },
  {
   "attachments": {},
   "cell_type": "markdown",
   "metadata": {},
   "source": [
    "# Build a struct array"
   ]
  },
  {
   "attachments": {},
   "cell_type": "markdown",
   "metadata": {},
   "source": [
    "## schemas"
   ]
  },
  {
   "cell_type": "code",
   "execution_count": 13,
   "metadata": {},
   "outputs": [],
   "source": [
    "business_type = pa.struct(\n",
    "    [\n",
    "        ('id', pa.utf8()),\n",
    "        ('alias', pa.utf8()), \n",
    "        ('name', pa.utf8()), \n",
    "        ('image_url', pa.utf8()) ,\n",
    "        ('is_closed',  pa.bool_()),\n",
    "        ('url' , pa.utf8()),\n",
    "        ('review_count', pa.int32()) ,\n",
    "        ('categories', pa.list_(pa.struct(\n",
    "            [\n",
    "                (\"alias\",pa.utf8()),\n",
    "                (\"title\",pa.utf8())\n",
    "            ]\n",
    "        ))),\n",
    "        ('rating', pa.int8()), # losing precision\n",
    "        ('coordinates', pa.struct(\n",
    "            [\n",
    "                ('latitude', pa.float32()),\n",
    "                ('longitude', pa.float32())\n",
    "            ]\n",
    "        )),\n",
    "        ('transactions',  pa.list_(pa.utf8())),\n",
    "        ('price', pa.utf8()) ,\n",
    "        ('location', pa.struct(\n",
    "            [\n",
    "                (\"address1\", pa.utf8()),\n",
    "                (\"address2\", pa.utf8()),\n",
    "                (\"address3\", pa.utf8()),\n",
    "                (\"city\", pa.utf8()),\n",
    "                (\"zip_code\", pa.utf8()),\n",
    "                (\"country\", pa.utf8()),\n",
    "                (\"state\", pa.utf8()),\n",
    "                (\"display_address\", pa.list_(pa.utf8()))\n",
    "            ]\n",
    "        )),\n",
    "        ('phone', pa.utf8())  ,\n",
    "        ('display_phone', pa.utf8()) ,\n",
    "        ('distance', pa.float32())\n",
    "    ]\n",
    ")\n",
    "\n",
    "simple_business_type = pa.struct(\n",
    "    [\n",
    "        ('id', pa.utf8()),\n",
    "        ('alias', pa.utf8()), \n",
    "        ('is_closed',  pa.bool_()),\n",
    "        ('url' , pa.utf8()),\n",
    "        ('review_count', pa.int32()) ,\n",
    "        ('phone', pa.utf8())  ,\n",
    "    ]\n",
    ")"
   ]
  },
  {
   "attachments": {},
   "cell_type": "markdown",
   "metadata": {},
   "source": [
    "## Array instantiation"
   ]
  },
  {
   "cell_type": "code",
   "execution_count": 14,
   "metadata": {},
   "outputs": [],
   "source": [
    "businesses = pa.array(\n",
    "    business_list[:2],\n",
    "    type=business_type\n",
    ")\n",
    "\n",
    "simple_businesses = pa.array(\n",
    "    business_list[:3],\n",
    "    type=simple_business_type\n",
    ")"
   ]
  },
  {
   "cell_type": "code",
   "execution_count": 15,
   "metadata": {},
   "outputs": [
    {
     "name": "stdout",
     "output_type": "stream",
     "text": [
      "struct<id: string, alias: string, name: string, image_url: string, is_closed: bool, url: string, review_count: int32, categories: list<item: struct<alias: string, title: string>>, rating: int8, coordinates: struct<latitude: float, longitude: float>, transactions: list<item: string>, price: string, location: struct<address1: string, address2: string, address3: string, city: string, zip_code: string, country: string, state: string, display_address: list<item: string>>, phone: string, display_phone: string, distance: float>\n"
     ]
    }
   ],
   "source": [
    "print(businesses.type)"
   ]
  },
  {
   "cell_type": "code",
   "execution_count": 16,
   "metadata": {},
   "outputs": [
    {
     "name": "stdout",
     "output_type": "stream",
     "text": [
      "-- is_valid: all not null\n",
      "-- child 0 type: string\n",
      "  [\n",
      "    \"xAvwjM0F5LN9g3yFsk9e0w\",\n",
      "    \"qcnoyytlFIuqlcjDXkXJiw\"\n",
      "  ]\n",
      "-- child 1 type: string\n",
      "  [\n",
      "    \"starbucks-brooklyn-78\",\n",
      "    \"starbucks-brooklyn-21\"\n",
      "  ]\n",
      "-- child 2 type: string\n",
      "  [\n",
      "    \"Starbucks\",\n",
      "    \"Starbucks\"\n",
      "  ]\n",
      "-- child 3 type: string\n",
      "  [\n",
      "    \"https://s3-media2.fl.yelpcdn.com/bphoto/UnOuT7MMfPf5FEXEmzrL4w/o.jpg\",\n",
      "    \"https://s3-media3.fl.yelpcdn.com/bphoto/lPZbt9TGzPnBhf-IA_oZQQ/o.jpg\"\n",
      "  ]\n",
      "-- child 4 type: bool\n",
      "  [\n",
      "    true,\n",
      "    false\n",
      "  ]\n",
      "-- child 5 type: string\n",
      "  [\n",
      "    \"https://www.yelp.com/biz/starbucks-brooklyn-78?adjust_creative=2FlPnf5brM1FB2UTY6vGnQ&utm_campaign=yelp_api_v3&utm_medium=api_v3_business_search&utm_source=2FlPnf5brM1FB2UTY6vGnQ\",\n",
      "    \"https://www.yelp.com/biz/starbucks-brooklyn-21?adjust_creative=2FlPnf5brM1FB2UTY6vGnQ&utm_campaign=yelp_api_v3&utm_medium=api_v3_business_search&utm_source=2FlPnf5brM1FB2UTY6vGnQ\"\n",
      "  ]\n",
      "-- child 6 type: int32\n",
      "  [\n",
      "    10,\n",
      "    67\n",
      "  ]\n",
      "-- child 7 type: list<item: struct<alias: string, title: string>>\n",
      "  [\n",
      "    -- is_valid: all not null\n",
      "    -- child 0 type: string\n",
      "      [\n",
      "        \"coffee\"\n",
      "      ]\n",
      "    -- child 1 type: string\n",
      "      [\n",
      "        \"Coffee & Tea\"\n",
      "      ],\n",
      "    -- is_valid: all not null\n",
      "    -- child 0 type: string\n",
      "      [\n",
      "        \"coffee\"\n",
      "      ]\n",
      "    -- child 1 type: string\n",
      "      [\n",
      "        \"Coffee & Tea\"\n",
      "      ]\n",
      "  ]\n",
      "-- child 8 type: int8\n",
      "  [\n",
      "    3,\n",
      "    2\n",
      "  ]\n",
      "-- child 9 type: struct<latitude: float, longitude: float>\n",
      "  -- is_valid: all not null\n",
      "  -- child 0 type: float\n",
      "    [\n",
      "      40.70282,\n",
      "      40.702667\n",
      "    ]\n",
      "  -- child 1 type: float\n",
      "    [\n",
      "      -73.99367,\n",
      "      -73.99081\n",
      "    ]\n",
      "-- child 10 type: list<item: string>\n",
      "  [\n",
      "    [\n",
      "      \"delivery\"\n",
      "    ],\n",
      "    [\n",
      "      \"delivery\"\n",
      "    ]\n",
      "  ]\n",
      "-- child 11 type: string\n",
      "  [\n",
      "    \"$$\",\n",
      "    \"$$\"\n",
      "  ]\n",
      "-- child 12 type: struct<address1: string, address2: string, address3: string, city: string, zip_code: string, country: string, state: string, display_address: list<item: string>>\n",
      "  -- is_valid: all not null\n",
      "  -- child 0 type: string\n",
      "    [\n",
      "      \"11 Old Fulton St\",\n",
      "      \"67 Front St\"\n",
      "    ]\n",
      "  -- child 1 type: string\n",
      "    [\n",
      "      \"\",\n",
      "      \"\"\n",
      "    ]\n",
      "  -- child 2 type: string\n",
      "    [\n",
      "      null,\n",
      "      \"\"\n",
      "    ]\n",
      "  -- child 3 type: string\n",
      "    [\n",
      "      \"Brooklyn\",\n",
      "      \"Brooklyn\"\n",
      "    ]\n",
      "  -- child 4 type: string\n",
      "    [\n",
      "      \"11201\",\n",
      "      \"11201\"\n",
      "    ]\n",
      "  -- child 5 type: string\n",
      "    [\n",
      "      \"US\",\n",
      "      \"US\"\n",
      "    ]\n",
      "  -- child 6 type: string\n",
      "    [\n",
      "      \"NY\",\n",
      "      \"NY\"\n",
      "    ]\n",
      "  -- child 7 type: list<item: string>\n",
      "    [\n",
      "      [\n",
      "        \"11 Old Fulton St\",\n",
      "        \"Brooklyn, NY 11201\"\n",
      "      ],\n",
      "      [\n",
      "        \"67 Front St\",\n",
      "        \"Brooklyn, NY 11201\"\n",
      "      ]\n",
      "    ]\n",
      "-- child 13 type: string\n",
      "  [\n",
      "    \"+19176857717\",\n",
      "    \"+17188550856\"\n",
      "  ]\n",
      "-- child 14 type: string\n",
      "  [\n",
      "    \"(917) 685-7717\",\n",
      "    \"(718) 855-0856\"\n",
      "  ]\n",
      "-- child 15 type: float\n",
      "  [\n",
      "    296.84015,\n",
      "    426.30548\n",
      "  ]\n"
     ]
    }
   ],
   "source": [
    "print(businesses)"
   ]
  },
  {
   "cell_type": "code",
   "execution_count": 17,
   "metadata": {},
   "outputs": [
    {
     "data": {
      "text/plain": [
       "StructType(struct<id: string, alias: string, is_closed: bool, url: string, review_count: int32, phone: string>)"
      ]
     },
     "execution_count": 17,
     "metadata": {},
     "output_type": "execute_result"
    }
   ],
   "source": [
    "simple_businesses.type"
   ]
  },
  {
   "cell_type": "code",
   "execution_count": 18,
   "metadata": {},
   "outputs": [
    {
     "data": {
      "text/plain": [
       "<pyarrow.lib.StructArray object at 0x7fe0907ff3a0>\n",
       "-- is_valid: all not null\n",
       "-- child 0 type: string\n",
       "  [\n",
       "    \"xAvwjM0F5LN9g3yFsk9e0w\",\n",
       "    \"qcnoyytlFIuqlcjDXkXJiw\",\n",
       "    \"60agfQbky4cX8BEApyltIA\"\n",
       "  ]\n",
       "-- child 1 type: string\n",
       "  [\n",
       "    \"starbucks-brooklyn-78\",\n",
       "    \"starbucks-brooklyn-21\",\n",
       "    \"starbucks-new-york-524\"\n",
       "  ]\n",
       "-- child 2 type: bool\n",
       "  [\n",
       "    true,\n",
       "    false,\n",
       "    false\n",
       "  ]\n",
       "-- child 3 type: string\n",
       "  [\n",
       "    \"https://www.yelp.com/biz/starbucks-brooklyn-78?adjust_creative=2FlPnf5brM1FB2UTY6vGnQ&utm_campaign=yelp_api_v3&utm_medium=api_v3_business_search&utm_source=2FlPnf5brM1FB2UTY6vGnQ\",\n",
       "    \"https://www.yelp.com/biz/starbucks-brooklyn-21?adjust_creative=2FlPnf5brM1FB2UTY6vGnQ&utm_campaign=yelp_api_v3&utm_medium=api_v3_business_search&utm_source=2FlPnf5brM1FB2UTY6vGnQ\",\n",
       "    \"https://www.yelp.com/biz/starbucks-new-york-524?adjust_creative=2FlPnf5brM1FB2UTY6vGnQ&utm_campaign=yelp_api_v3&utm_medium=api_v3_business_search&utm_source=2FlPnf5brM1FB2UTY6vGnQ\"\n",
       "  ]\n",
       "-- child 4 type: int32\n",
       "  [\n",
       "    10,\n",
       "    67,\n",
       "    33\n",
       "  ]\n",
       "-- child 5 type: string\n",
       "  [\n",
       "    \"+19176857717\",\n",
       "    \"+17188550856\",\n",
       "    \"+16465742921\"\n",
       "  ]"
      ]
     },
     "execution_count": 18,
     "metadata": {},
     "output_type": "execute_result"
    }
   ],
   "source": [
    "simple_businesses"
   ]
  },
  {
   "attachments": {},
   "cell_type": "markdown",
   "metadata": {},
   "source": [
    "# Record Batches from Arrays"
   ]
  },
  {
   "cell_type": "code",
   "execution_count": 19,
   "metadata": {},
   "outputs": [],
   "source": [
    "rb_sb = pa.RecordBatch.from_arrays(\n",
    "    simple_businesses.flatten(),\n",
    "    [\n",
    "        'id',\n",
    "        'alias',\n",
    "        'is_closed',\n",
    "        'url' ,\n",
    "        'review_count',\n",
    "        'phone',\n",
    "    ]\n",
    ")"
   ]
  },
  {
   "cell_type": "code",
   "execution_count": 20,
   "metadata": {},
   "outputs": [
    {
     "data": {
      "text/plain": [
       "pyarrow.RecordBatch\n",
       "id: string\n",
       "alias: string\n",
       "is_closed: bool\n",
       "url: string\n",
       "review_count: int32\n",
       "phone: string"
      ]
     },
     "execution_count": 20,
     "metadata": {},
     "output_type": "execute_result"
    }
   ],
   "source": [
    "rb_sb"
   ]
  },
  {
   "cell_type": "code",
   "execution_count": 21,
   "metadata": {},
   "outputs": [
    {
     "data": {
      "text/plain": [
       "(3, 6)"
      ]
     },
     "execution_count": 21,
     "metadata": {},
     "output_type": "execute_result"
    }
   ],
   "source": [
    "rb_sb.num_rows, rb_sb.num_columns"
   ]
  },
  {
   "attachments": {},
   "cell_type": "markdown",
   "metadata": {},
   "source": [
    "## Transforms"
   ]
  },
  {
   "cell_type": "code",
   "execution_count": 22,
   "metadata": {},
   "outputs": [],
   "source": [
    "rb_sb_slice = rb_sb.slice(1,2)"
   ]
  },
  {
   "cell_type": "code",
   "execution_count": 23,
   "metadata": {},
   "outputs": [
    {
     "data": {
      "text/plain": [
       "(2, <pyarrow.BooleanScalar: True>, <pyarrow.BooleanScalar: False>)"
      ]
     },
     "execution_count": 23,
     "metadata": {},
     "output_type": "execute_result"
    }
   ],
   "source": [
    "rb_sb_slice.num_rows, rb_sb.column(2)[0], rb_sb_slice.column(2)[0]"
   ]
  },
  {
   "cell_type": "code",
   "execution_count": 24,
   "metadata": {},
   "outputs": [
    {
     "name": "stdout",
     "output_type": "stream",
     "text": [
      "pyarrow.RecordBatch\n",
      "id: string\n",
      "alias: string\n",
      "is_closed: bool\n",
      "url: string\n",
      "review_count: int32\n",
      "phone: string\n"
     ]
    }
   ],
   "source": [
    "print(rb_sb[1:2])"
   ]
  },
  {
   "cell_type": "code",
   "execution_count": 25,
   "metadata": {},
   "outputs": [
    {
     "name": "stdout",
     "output_type": "stream",
     "text": [
      "{'id': ['xAvwjM0F5LN9g3yFsk9e0w', 'qcnoyytlFIuqlcjDXkXJiw', '60agfQbky4cX8BEApyltIA'], 'alias': ['starbucks-brooklyn-78', 'starbucks-brooklyn-21', 'starbucks-new-york-524'], 'is_closed': [True, False, False], 'url': ['https://www.yelp.com/biz/starbucks-brooklyn-78?adjust_creative=2FlPnf5brM1FB2UTY6vGnQ&utm_campaign=yelp_api_v3&utm_medium=api_v3_business_search&utm_source=2FlPnf5brM1FB2UTY6vGnQ', 'https://www.yelp.com/biz/starbucks-brooklyn-21?adjust_creative=2FlPnf5brM1FB2UTY6vGnQ&utm_campaign=yelp_api_v3&utm_medium=api_v3_business_search&utm_source=2FlPnf5brM1FB2UTY6vGnQ', 'https://www.yelp.com/biz/starbucks-new-york-524?adjust_creative=2FlPnf5brM1FB2UTY6vGnQ&utm_campaign=yelp_api_v3&utm_medium=api_v3_business_search&utm_source=2FlPnf5brM1FB2UTY6vGnQ'], 'review_count': [10, 67, 33], 'phone': ['+19176857717', '+17188550856', '+16465742921']}\n"
     ]
    }
   ],
   "source": [
    "print(rb_sb.to_pydict())"
   ]
  },
  {
   "attachments": {},
   "cell_type": "markdown",
   "metadata": {},
   "source": [
    "# Ex"
   ]
  },
  {
   "cell_type": "code",
   "execution_count": 26,
   "metadata": {},
   "outputs": [],
   "source": [
    "ex_business_type = pa.struct(\n",
    "    [\n",
    "        ('id', pa.utf8()),\n",
    "        ('alias', pa.utf8()),\n",
    "        ('transactions',  pa.list_(pa.utf8())),\n",
    "    ]\n",
    ")"
   ]
  },
  {
   "cell_type": "code",
   "execution_count": 27,
   "metadata": {},
   "outputs": [],
   "source": [
    "array_ex = pa.array(\n",
    "    business_list[:5],\n",
    "    type=ex_business_type\n",
    ")"
   ]
  },
  {
   "cell_type": "code",
   "execution_count": 28,
   "metadata": {},
   "outputs": [],
   "source": [
    "rb_ex = pa.RecordBatch.from_arrays(\n",
    "array_ex.flatten(),\n",
    "[\n",
    "    \"id\",\n",
    "    \"alias\",\n",
    "    \"transactions\"\n",
    "]\n",
    "\n",
    ") "
   ]
  },
  {
   "cell_type": "code",
   "execution_count": 29,
   "metadata": {},
   "outputs": [
    {
     "data": {
      "text/plain": [
       "<pyarrow.lib.ListArray object at 0x7fe0907ffd00>\n",
       "[\n",
       "  [\n",
       "    \"delivery\"\n",
       "  ],\n",
       "  [\n",
       "    \"delivery\"\n",
       "  ],\n",
       "  [\n",
       "    \"delivery\"\n",
       "  ],\n",
       "  [],\n",
       "  [\n",
       "    \"delivery\"\n",
       "  ]\n",
       "]"
      ]
     },
     "execution_count": 29,
     "metadata": {},
     "output_type": "execute_result"
    }
   ],
   "source": [
    "rb_ex.column(2)"
   ]
  },
  {
   "cell_type": "code",
   "execution_count": 30,
   "metadata": {},
   "outputs": [
    {
     "data": {
      "text/plain": [
       "[{'id': 'xAvwjM0F5LN9g3yFsk9e0w',\n",
       "  'alias': 'starbucks-brooklyn-78',\n",
       "  'transactions': ['delivery']},\n",
       " {'id': 'qcnoyytlFIuqlcjDXkXJiw',\n",
       "  'alias': 'starbucks-brooklyn-21',\n",
       "  'transactions': ['delivery']},\n",
       " {'id': '60agfQbky4cX8BEApyltIA',\n",
       "  'alias': 'starbucks-new-york-524',\n",
       "  'transactions': ['delivery']},\n",
       " {'id': 'Y_kNzTJJUx9aFj1t_DVWkA',\n",
       "  'alias': 'starbucks-surrey-6',\n",
       "  'transactions': []},\n",
       " {'id': 'VGMdcAn34GeasB4arA8XUA',\n",
       "  'alias': 'starbucks-new-york-217',\n",
       "  'transactions': ['delivery']}]"
      ]
     },
     "execution_count": 30,
     "metadata": {},
     "output_type": "execute_result"
    }
   ],
   "source": [
    "# with array rather than RB\n",
    "array_ex.to_pylist()"
   ]
  },
  {
   "cell_type": "code",
   "execution_count": null,
   "metadata": {},
   "outputs": [],
   "source": []
  }
 ],
 "metadata": {
  "kernelspec": {
   "display_name": "da_venv",
   "language": "python",
   "name": "python3"
  },
  "language_info": {
   "codemirror_mode": {
    "name": "ipython",
    "version": 3
   },
   "file_extension": ".py",
   "mimetype": "text/x-python",
   "name": "python",
   "nbconvert_exporter": "python",
   "pygments_lexer": "ipython3",
   "version": "3.8.10"
  },
  "orig_nbformat": 4,
  "vscode": {
   "interpreter": {
    "hash": "5d4e80fcce1aaebac2b620a233c0fd49b13b24c465e4091fd1a9579102748731"
   }
  }
 },
 "nbformat": 4,
 "nbformat_minor": 2
}
